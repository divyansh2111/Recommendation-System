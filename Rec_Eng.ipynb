{
  "metadata": {
    "kernelspec": {
      "language": "python",
      "display_name": "Python 3",
      "name": "python3"
    },
    "language_info": {
      "name": "python",
      "version": "3.10.13",
      "mimetype": "text/x-python",
      "codemirror_mode": {
        "name": "ipython",
        "version": 3
      },
      "pygments_lexer": "ipython3",
      "nbconvert_exporter": "python",
      "file_extension": ".py"
    },
    "kaggle": {
      "accelerator": "none",
      "dataSources": [
        {
          "sourceId": 835452,
          "sourceType": "datasetVersion",
          "datasetId": 411512
        }
      ],
      "isInternetEnabled": false,
      "language": "python",
      "sourceType": "notebook",
      "isGpuEnabled": false
    },
    "colab": {
      "provenance": [],
      "collapsed_sections": [
        "R4LICQo_Vau4",
        "NdkXhux0VavB"
      ]
    }
  },
  "nbformat_minor": 0,
  "nbformat": 4,
  "cells": [
    {
      "cell_type": "code",
      "source": [
        "!pip install pyspark"
      ],
      "metadata": {
        "execution": {
          "iopub.status.busy": "2024-03-04T14:42:44.846382Z",
          "iopub.execute_input": "2024-03-04T14:42:44.846840Z",
          "iopub.status.idle": "2024-03-04T14:43:43.488384Z",
          "shell.execute_reply.started": "2024-03-04T14:42:44.846790Z",
          "shell.execute_reply": "2024-03-04T14:43:43.486371Z"
        },
        "trusted": true,
        "id": "t5BLAksqVauw",
        "outputId": "ef977463-1cbd-41e6-b9b7-ae86480e8376"
      },
      "execution_count": null,
      "outputs": [
        {
          "name": "stdout",
          "text": "Collecting pyspark\n  Downloading pyspark-3.5.1.tar.gz (317.0 MB)\n\u001b[2K     \u001b[90m━━━━━━━━━━━━━━━━━━━━━━━━━━━━━━━━━━━━━━━\u001b[0m \u001b[32m317.0/317.0 MB\u001b[0m \u001b[31m3.9 MB/s\u001b[0m eta \u001b[36m0:00:00\u001b[0m00:01\u001b[0m00:01\u001b[0m\n\u001b[?25h  Preparing metadata (setup.py) ... \u001b[?25ldone\n\u001b[?25hRequirement already satisfied: py4j==0.10.9.7 in /opt/conda/lib/python3.10/site-packages (from pyspark) (0.10.9.7)\nBuilding wheels for collected packages: pyspark\n  Building wheel for pyspark (setup.py) ... \u001b[?25ldone\n\u001b[?25h  Created wheel for pyspark: filename=pyspark-3.5.1-py2.py3-none-any.whl size=317488493 sha256=b6e1344813d6a50f4170f96676eb386b5e7771f53fba8bebb130dca55b132c04\n  Stored in directory: /root/.cache/pip/wheels/80/1d/60/2c256ed38dddce2fdd93be545214a63e02fbd8d74fb0b7f3a6\nSuccessfully built pyspark\nInstalling collected packages: pyspark\nSuccessfully installed pyspark-3.5.1\n",
          "output_type": "stream"
        }
      ]
    },
    {
      "cell_type": "code",
      "source": [
        "import pandas as pd\n",
        "import numpy as np\n",
        "import os\n",
        "import sys\n",
        "import math\n",
        "from pyspark.sql import SparkSession\n",
        "from pyspark.context import SparkContext\n",
        "from pyspark.sql.functions import *\n",
        "import pyspark.sql.functions as f\n",
        "from pyspark.sql.types import DoubleType\n",
        "import matplotlib.pyplot as plt\n",
        "import pyarrow"
      ],
      "metadata": {
        "execution": {
          "iopub.status.busy": "2024-03-04T14:44:26.094747Z",
          "iopub.execute_input": "2024-03-04T14:44:26.097359Z",
          "iopub.status.idle": "2024-03-04T14:44:27.440615Z",
          "shell.execute_reply.started": "2024-03-04T14:44:26.097285Z",
          "shell.execute_reply": "2024-03-04T14:44:27.439377Z"
        },
        "trusted": true,
        "id": "rr_3xDaUVauz"
      },
      "execution_count": null,
      "outputs": []
    },
    {
      "cell_type": "code",
      "source": [
        "# Initialize Spark session\n",
        "\n",
        "sc = SparkSession.builder.appName(\"Product_Recommendation\") \\\n",
        ".config (\"spark.sql.shuffle.partitions\", \"16\") \\\n",
        ".config(\"spark.driver.maxResultSize\",\"4g\") \\\n",
        ".config (\"spark.sql.execution.arrow.enabled\", \"true\") \\\n",
        ".config(\"spark.driver.memory\", \"4g\") \\\n",
        ".config(\"spark.executor.cores\", \"4\") \\\n",
        ".getOrCreate()\n",
        "\n",
        "sc.sparkContext.setLogLevel(\"ERROR\")"
      ],
      "metadata": {
        "execution": {
          "iopub.status.busy": "2024-03-04T14:44:28.970878Z",
          "iopub.execute_input": "2024-03-04T14:44:28.971449Z",
          "iopub.status.idle": "2024-03-04T14:44:35.806000Z",
          "shell.execute_reply.started": "2024-03-04T14:44:28.971414Z",
          "shell.execute_reply": "2024-03-04T14:44:35.804749Z"
        },
        "trusted": true,
        "id": "3ka0xzn7Vau0",
        "outputId": "90d4995a-3b8b-4964-8230-0f8c52b1bd7b"
      },
      "execution_count": null,
      "outputs": [
        {
          "name": "stderr",
          "text": "Setting default log level to \"WARN\".\nTo adjust logging level use sc.setLogLevel(newLevel). For SparkR, use setLogLevel(newLevel).\n24/03/04 14:44:33 WARN NativeCodeLoader: Unable to load native-hadoop library for your platform... using builtin-java classes where applicable\n",
          "output_type": "stream"
        }
      ]
    },
    {
      "cell_type": "code",
      "source": [
        "df = sc.read.option('header', True).csv('ecommerce-behavior-data-from-multi-category-store/2019-Nov.csv')"
      ],
      "metadata": {
        "execution": {
          "iopub.status.busy": "2024-03-04T14:44:45.036588Z",
          "iopub.execute_input": "2024-03-04T14:44:45.037347Z",
          "iopub.status.idle": "2024-03-04T14:44:52.932444Z",
          "shell.execute_reply.started": "2024-03-04T14:44:45.037301Z",
          "shell.execute_reply": "2024-03-04T14:44:52.930715Z"
        },
        "trusted": true,
        "id": "Y-K_h1tuVau1"
      },
      "execution_count": null,
      "outputs": []
    },
    {
      "cell_type": "code",
      "source": [
        "df.printSchema()"
      ],
      "metadata": {
        "execution": {
          "iopub.status.busy": "2024-03-04T14:45:00.774998Z",
          "iopub.execute_input": "2024-03-04T14:45:00.775484Z",
          "iopub.status.idle": "2024-03-04T14:45:00.785779Z",
          "shell.execute_reply.started": "2024-03-04T14:45:00.775450Z",
          "shell.execute_reply": "2024-03-04T14:45:00.784460Z"
        },
        "trusted": true,
        "id": "utjEV9xnVau2",
        "outputId": "5fe37ffb-59ff-4131-bd56-ee3979688eb5"
      },
      "execution_count": null,
      "outputs": [
        {
          "name": "stdout",
          "text": "root\n |-- event_time: string (nullable = true)\n |-- event_type: string (nullable = true)\n |-- product_id: string (nullable = true)\n |-- category_id: string (nullable = true)\n |-- category_code: string (nullable = true)\n |-- brand: string (nullable = true)\n |-- price: string (nullable = true)\n |-- user_id: string (nullable = true)\n |-- user_session: string (nullable = true)\n\n",
          "output_type": "stream"
        }
      ]
    },
    {
      "cell_type": "code",
      "source": [
        "df.show(5, truncate=False)"
      ],
      "metadata": {
        "execution": {
          "iopub.status.busy": "2024-03-04T14:45:17.241325Z",
          "iopub.execute_input": "2024-03-04T14:45:17.241861Z",
          "iopub.status.idle": "2024-03-04T14:45:17.837609Z",
          "shell.execute_reply.started": "2024-03-04T14:45:17.241826Z",
          "shell.execute_reply": "2024-03-04T14:45:17.836276Z"
        },
        "trusted": true,
        "id": "WiEE1AmmVau3",
        "outputId": "5bada87a-28c3-48a1-c64b-cb15ce6bec43"
      },
      "execution_count": null,
      "outputs": [
        {
          "name": "stdout",
          "text": "+-----------------------+----------+----------+-------------------+-------------------------+------+------+---------+------------------------------------+\n|event_time             |event_type|product_id|category_id        |category_code            |brand |price |user_id  |user_session                        |\n+-----------------------+----------+----------+-------------------+-------------------------+------+------+---------+------------------------------------+\n|2019-11-01 00:00:00 UTC|view      |1003461   |2053013555631882655|electronics.smartphone   |xiaomi|489.07|520088904|4d3b30da-a5e4-49df-b1a8-ba5943f1dd33|\n|2019-11-01 00:00:00 UTC|view      |5000088   |2053013566100866035|appliances.sewing_machine|janome|293.65|530496790|8e5f4f83-366c-4f70-860e-ca7417414283|\n|2019-11-01 00:00:01 UTC|view      |17302664  |2053013553853497655|NULL                     |creed |28.31 |561587266|755422e7-9040-477b-9bd2-6a6e8fd97387|\n|2019-11-01 00:00:01 UTC|view      |3601530   |2053013563810775923|appliances.kitchen.washer|lg    |712.87|518085591|3bfb58cd-7892-48cc-8020-2f17e6de6e7f|\n|2019-11-01 00:00:01 UTC|view      |1004775   |2053013555631882655|electronics.smartphone   |xiaomi|183.27|558856683|313628f1-68b8-460d-84f6-cec7a8796ef2|\n+-----------------------+----------+----------+-------------------+-------------------------+------+------+---------+------------------------------------+\nonly showing top 5 rows\n\n",
          "output_type": "stream"
        }
      ]
    },
    {
      "cell_type": "markdown",
      "source": [
        "## Exploratory Data Analysis"
      ],
      "metadata": {
        "id": "R4LICQo_Vau4"
      }
    },
    {
      "cell_type": "code",
      "source": [
        "df.select([count(when(isnull(c), c)).alias(c) for c in df.columns]).show()"
      ],
      "metadata": {
        "execution": {
          "iopub.status.busy": "2024-03-04T04:39:06.219458Z",
          "iopub.execute_input": "2024-03-04T04:39:06.219904Z",
          "iopub.status.idle": "2024-03-04T04:40:58.695383Z",
          "shell.execute_reply.started": "2024-03-04T04:39:06.219866Z",
          "shell.execute_reply": "2024-03-04T04:40:58.693117Z"
        },
        "trusted": true,
        "id": "rg9eQg07Vau4",
        "outputId": "eacc953b-ed9b-4ed6-9396-a73f647b0c3d"
      },
      "execution_count": null,
      "outputs": [
        {
          "name": "stderr",
          "text": "[Stage 2:========================================================>(67 + 1) / 68]\r",
          "output_type": "stream"
        },
        {
          "name": "stdout",
          "text": "+----------+----------+----------+-----------+-------------+-------+-----+-------+------------+\n|event_time|event_type|product_id|category_id|category_code|  brand|price|user_id|user_session|\n+----------+----------+----------+-----------+-------------+-------+-----+-------+------------+\n|         0|         0|         0|          0|     21898171|9218235|    0|      0|          10|\n+----------+----------+----------+-----------+-------------+-------+-----+-------+------------+\n\n",
          "output_type": "stream"
        },
        {
          "name": "stderr",
          "text": "                                                                                \r",
          "output_type": "stream"
        }
      ]
    },
    {
      "cell_type": "code",
      "source": [
        "df.groupBy('event_type').count().show()"
      ],
      "metadata": {
        "execution": {
          "iopub.status.busy": "2024-03-04T04:40:58.701326Z",
          "iopub.execute_input": "2024-03-04T04:40:58.703010Z",
          "iopub.status.idle": "2024-03-04T04:42:15.454818Z",
          "shell.execute_reply.started": "2024-03-04T04:40:58.702958Z",
          "shell.execute_reply": "2024-03-04T04:42:15.453541Z"
        },
        "trusted": true,
        "id": "P7VYQQ22Vau5",
        "outputId": "e210710b-39e6-46be-b2fa-f06e76547690"
      },
      "execution_count": null,
      "outputs": [
        {
          "name": "stderr",
          "text": "[Stage 5:=======================================================> (66 + 2) / 68]\r",
          "output_type": "stream"
        },
        {
          "name": "stdout",
          "text": "+----------+--------+\n|event_type|   count|\n+----------+--------+\n|      cart| 3028930|\n|  purchase|  916939|\n|      view|63556110|\n+----------+--------+\n\n",
          "output_type": "stream"
        },
        {
          "name": "stderr",
          "text": "                                                                                \r",
          "output_type": "stream"
        }
      ]
    },
    {
      "cell_type": "code",
      "source": [
        "events = df.groupBy('event_type').count().toPandas()\n",
        "events.plot(kind='pie', y='count', labels=events['event_type'], autopct='%1.2f%%', figsize=(5, 5))"
      ],
      "metadata": {
        "execution": {
          "iopub.status.busy": "2024-03-04T04:42:15.459412Z",
          "iopub.execute_input": "2024-03-04T04:42:15.459961Z",
          "iopub.status.idle": "2024-03-04T04:43:33.890334Z",
          "shell.execute_reply.started": "2024-03-04T04:42:15.459889Z",
          "shell.execute_reply": "2024-03-04T04:43:33.889031Z"
        },
        "trusted": true,
        "id": "dSLZ6Ez_Vau5",
        "outputId": "75de1154-69f0-4296-ae02-23d37391f14a"
      },
      "execution_count": null,
      "outputs": [
        {
          "name": "stderr",
          "text": "                                                                                \r",
          "output_type": "stream"
        },
        {
          "execution_count": 9,
          "output_type": "execute_result",
          "data": {
            "text/plain": "<Axes: ylabel='count'>"
          },
          "metadata": {}
        },
        {
          "output_type": "display_data",
          "data": {
            "text/plain": "<Figure size 500x500 with 1 Axes>",
            "image/png": "[encoded data removed]"
          },
          "metadata": {}
        }
      ]
    },
    {
      "cell_type": "code",
      "source": [
        "df.select(f.countDistinct(\"product_id\")).show()"
      ],
      "metadata": {
        "execution": {
          "iopub.status.busy": "2024-03-04T04:43:33.892147Z",
          "iopub.execute_input": "2024-03-04T04:43:33.892878Z",
          "iopub.status.idle": "2024-03-04T04:44:58.518322Z",
          "shell.execute_reply.started": "2024-03-04T04:43:33.892839Z",
          "shell.execute_reply": "2024-03-04T04:44:58.517115Z"
        },
        "trusted": true,
        "id": "WlE1IPZ7Vau6",
        "outputId": "7e94beab-1206-435e-a1df-368b082ff549"
      },
      "execution_count": null,
      "outputs": [
        {
          "name": "stderr",
          "text": "[Stage 13:==============================================>           (4 + 1) / 5]\r",
          "output_type": "stream"
        },
        {
          "name": "stdout",
          "text": "+--------------------------+\n|count(DISTINCT product_id)|\n+--------------------------+\n|                    190662|\n+--------------------------+\n\n",
          "output_type": "stream"
        },
        {
          "name": "stderr",
          "text": "                                                                                \r",
          "output_type": "stream"
        }
      ]
    },
    {
      "cell_type": "code",
      "source": [
        "df.groupby('product_id').agg(f.collect_set('category_id'))\\\n",
        "                        .filter(size(col('collect_set(category_id)')) == 1).count()"
      ],
      "metadata": {
        "execution": {
          "iopub.status.busy": "2024-03-04T04:44:58.519880Z",
          "iopub.execute_input": "2024-03-04T04:44:58.520400Z",
          "iopub.status.idle": "2024-03-04T04:47:34.033980Z",
          "shell.execute_reply.started": "2024-03-04T04:44:58.520358Z",
          "shell.execute_reply": "2024-03-04T04:47:34.032716Z"
        },
        "trusted": true,
        "id": "aHfYpAcJVau7",
        "outputId": "77a8d12b-5a69-4dfc-9348-2cd46da1678d"
      },
      "execution_count": null,
      "outputs": [
        {
          "name": "stderr",
          "text": "                                                                                \r",
          "output_type": "stream"
        },
        {
          "execution_count": 11,
          "output_type": "execute_result",
          "data": {
            "text/plain": "190662"
          },
          "metadata": {}
        }
      ]
    },
    {
      "cell_type": "code",
      "source": [
        "df.select(f.countDistinct(\"category_id\")).show()"
      ],
      "metadata": {
        "execution": {
          "iopub.status.busy": "2024-03-04T04:47:34.036391Z",
          "iopub.execute_input": "2024-03-04T04:47:34.037291Z",
          "iopub.status.idle": "2024-03-04T04:48:54.009812Z",
          "shell.execute_reply.started": "2024-03-04T04:47:34.037246Z",
          "shell.execute_reply": "2024-03-04T04:48:54.007015Z"
        },
        "trusted": true,
        "id": "7k7QKHKRVau8",
        "outputId": "cd40eb10-321e-4dfa-d586-91533e6b2412"
      },
      "execution_count": null,
      "outputs": [
        {
          "name": "stderr",
          "text": "[Stage 23:======================================================> (66 + 2) / 68]\r",
          "output_type": "stream"
        },
        {
          "name": "stdout",
          "text": "+---------------------------+\n|count(DISTINCT category_id)|\n+---------------------------+\n|                        684|\n+---------------------------+\n\n",
          "output_type": "stream"
        },
        {
          "name": "stderr",
          "text": "                                                                                \r",
          "output_type": "stream"
        }
      ]
    },
    {
      "cell_type": "code",
      "source": [
        "df.drop_duplicates(subset=['category_id']).select(f.count(\"category_code\")).show()"
      ],
      "metadata": {
        "execution": {
          "iopub.status.busy": "2024-03-04T04:48:54.011183Z",
          "iopub.execute_input": "2024-03-04T04:48:54.011894Z",
          "iopub.status.idle": "2024-03-04T04:51:09.359704Z",
          "shell.execute_reply.started": "2024-03-04T04:48:54.011846Z",
          "shell.execute_reply": "2024-03-04T04:51:09.358218Z"
        },
        "trusted": true,
        "id": "MAa2k9GhVau8",
        "outputId": "dfdbce4a-688d-40aa-b25b-cc710ea9cd1d"
      },
      "execution_count": null,
      "outputs": [
        {
          "name": "stderr",
          "text": "[Stage 29:======================================================> (66 + 2) / 68]\r",
          "output_type": "stream"
        },
        {
          "name": "stdout",
          "text": "+--------------------+\n|count(category_code)|\n+--------------------+\n|                 275|\n+--------------------+\n\n",
          "output_type": "stream"
        },
        {
          "name": "stderr",
          "text": "                                                                                \r",
          "output_type": "stream"
        }
      ]
    },
    {
      "cell_type": "code",
      "source": [
        "df.select(f.countDistinct(\"category_code\")).show()"
      ],
      "metadata": {
        "execution": {
          "iopub.status.busy": "2024-03-04T04:51:09.362545Z",
          "iopub.execute_input": "2024-03-04T04:51:09.363099Z",
          "iopub.status.idle": "2024-03-04T04:53:06.771408Z",
          "shell.execute_reply.started": "2024-03-04T04:51:09.363051Z",
          "shell.execute_reply": "2024-03-04T04:53:06.770169Z"
        },
        "trusted": true,
        "id": "a4oOYuozVau9",
        "outputId": "66dcc30c-0c7d-486a-b59a-bf422d0ea7df"
      },
      "execution_count": null,
      "outputs": [
        {
          "name": "stderr",
          "text": "[Stage 35:=======================================================>(67 + 1) / 68]\r",
          "output_type": "stream"
        },
        {
          "name": "stdout",
          "text": "+-----------------------------+\n|count(DISTINCT category_code)|\n+-----------------------------+\n|                          129|\n+-----------------------------+\n\n",
          "output_type": "stream"
        },
        {
          "name": "stderr",
          "text": "                                                                                \r",
          "output_type": "stream"
        }
      ]
    },
    {
      "cell_type": "code",
      "source": [
        "df.select(f.countDistinct(\"user_id\")).show()"
      ],
      "metadata": {
        "execution": {
          "iopub.status.busy": "2024-03-04T04:53:06.772980Z",
          "iopub.execute_input": "2024-03-04T04:53:06.773429Z",
          "iopub.status.idle": "2024-03-04T04:54:36.320832Z",
          "shell.execute_reply.started": "2024-03-04T04:53:06.773389Z",
          "shell.execute_reply": "2024-03-04T04:54:36.319621Z"
        },
        "trusted": true,
        "id": "C7NhJWtnVau9",
        "outputId": "f6041c03-7c1c-462f-88a7-03b8d0db63fe"
      },
      "execution_count": null,
      "outputs": [
        {
          "name": "stderr",
          "text": "[Stage 43:==============================================>           (4 + 1) / 5]\r",
          "output_type": "stream"
        },
        {
          "name": "stdout",
          "text": "+-----------------------+\n|count(DISTINCT user_id)|\n+-----------------------+\n|                3696117|\n+-----------------------+\n\n",
          "output_type": "stream"
        },
        {
          "name": "stderr",
          "text": "                                                                                \r",
          "output_type": "stream"
        }
      ]
    },
    {
      "cell_type": "code",
      "source": [
        "df.select(f.countDistinct(\"user_session\")).show()"
      ],
      "metadata": {
        "execution": {
          "iopub.status.busy": "2024-03-04T04:54:36.328136Z",
          "iopub.execute_input": "2024-03-04T04:54:36.328925Z",
          "iopub.status.idle": "2024-03-04T04:56:18.472163Z",
          "shell.execute_reply.started": "2024-03-04T04:54:36.328881Z",
          "shell.execute_reply": "2024-03-04T04:56:18.470883Z"
        },
        "trusted": true,
        "id": "MnIXt--WVau-",
        "outputId": "06228e1f-202d-497a-8358-dcdc57328e99"
      },
      "execution_count": null,
      "outputs": [
        {
          "name": "stderr",
          "text": "[Stage 49:=================================================>      (14 + 2) / 16]\r",
          "output_type": "stream"
        },
        {
          "name": "stdout",
          "text": "+----------------------------+\n|count(DISTINCT user_session)|\n+----------------------------+\n|                    13776050|\n+----------------------------+\n\n",
          "output_type": "stream"
        },
        {
          "name": "stderr",
          "text": "                                                                                \r",
          "output_type": "stream"
        }
      ]
    },
    {
      "cell_type": "code",
      "source": [
        "df = df.withColumn('event_time', to_timestamp('event_time'))\n",
        "df = df.withColumn('date', date_format(\"event_time\", \"yyyy-MM-dd\"))\n",
        "\n",
        "sessions = df.groupby('date').agg(countDistinct('user_session')).toPandas()\n",
        "sessions.sort_values('date').plot(x='date', figsize=(8, 4))"
      ],
      "metadata": {
        "execution": {
          "iopub.status.busy": "2024-03-04T04:56:18.473540Z",
          "iopub.execute_input": "2024-03-04T04:56:18.473987Z",
          "iopub.status.idle": "2024-03-04T04:59:59.376752Z",
          "shell.execute_reply.started": "2024-03-04T04:56:18.473923Z",
          "shell.execute_reply": "2024-03-04T04:59:59.375458Z"
        },
        "trusted": true,
        "id": "zo-fuIciVau-",
        "outputId": "7f7da384-d5ab-4a12-cee1-419ba85417b2"
      },
      "execution_count": null,
      "outputs": [
        {
          "name": "stderr",
          "text": "                                                                                \r",
          "output_type": "stream"
        },
        {
          "execution_count": 17,
          "output_type": "execute_result",
          "data": {
            "text/plain": "<Axes: xlabel='date'>"
          },
          "metadata": {}
        },
        {
          "output_type": "display_data",
          "data": {
            "text/plain": "<Figure size 800x400 with 1 Axes>",
            "image/png": "[encoded data removed]"
          },
          "metadata": {}
        }
      ]
    },
    {
      "cell_type": "code",
      "source": [
        "interactions = df.groupby(['user_id', 'product_id']).agg(sum(when(df['event_type'] == 'view', 1)).alias('views'),\n",
        "                                                         sum(when(df['event_type'] == 'cart', 1)).alias('carts'),\n",
        "                                                         sum(when(df['event_type'] == 'purchase', 1)).alias('purchases'))\n",
        "\n",
        "interactions.sort('carts', ascending=False).show()"
      ],
      "metadata": {
        "scrolled": true,
        "execution": {
          "iopub.status.busy": "2024-03-04T04:59:59.378749Z",
          "iopub.execute_input": "2024-03-04T04:59:59.380261Z",
          "iopub.status.idle": "2024-03-04T05:02:31.874371Z",
          "shell.execute_reply.started": "2024-03-04T04:59:59.380222Z",
          "shell.execute_reply": "2024-03-04T05:02:31.873112Z"
        },
        "trusted": true,
        "id": "DW4i7MPCVavA",
        "outputId": "936d6253-5adc-4c01-f598-3cf5e8401fe7"
      },
      "execution_count": null,
      "outputs": [
        {
          "name": "stderr",
          "text": "[Stage 61:=================================================>      (14 + 2) / 16]\r",
          "output_type": "stream"
        },
        {
          "name": "stdout",
          "text": "+---------+----------+-----+-----+---------+\n|  user_id|product_id|views|carts|purchases|\n+---------+----------+-----+-----+---------+\n|512875426|  15300303|    2|  709|     NULL|\n|521558076|   1005008|   18|  554|        1|\n|571769879|  12720043|    5|  354|        1|\n|513824664|   3601489|   12|  273|     NULL|\n|515642515|  13101546|   38|  237|     NULL|\n|564808105|   1002633|   22|  210|     NULL|\n|564068124|   1004833|  294|  207|      216|\n|513754375|  50600004|    6|  203|     NULL|\n|514553781|   1004856|    4|  192|        1|\n|515911561|   1004858|    7|  191|     NULL|\n|557590749|   8800045|    2|  186|     NULL|\n|549030056|   1004856|  193|  181|      118|\n|559057489|   3700912|    2|  174|     NULL|\n|538042220|  12720092|    2|  168|        1|\n|515793237|  22700078|   31|  164|     NULL|\n|543128872|   4804056|  190|  154|      150|\n|515032042|   1004873|   19|  152|        1|\n|571683521|   1004870|   16|  151|        1|\n|518514099|   1005116|  158|  147|      140|\n|564068124|   1004767|  204|  145|      152|\n+---------+----------+-----+-----+---------+\nonly showing top 20 rows\n\n",
          "output_type": "stream"
        },
        {
          "name": "stderr",
          "text": "                                                                                \r",
          "output_type": "stream"
        }
      ]
    },
    {
      "cell_type": "markdown",
      "source": [
        "## Preprocess"
      ],
      "metadata": {
        "id": "NdkXhux0VavB"
      }
    },
    {
      "cell_type": "code",
      "source": [
        "def preprocess(df):\n",
        "\n",
        "    # Update data types\n",
        "    df = df.withColumn('event_time', to_timestamp('event_time'))\n",
        "    df = df.withColumn('user_id', col('user_id').cast('integer'))\n",
        "    df = df.withColumn('product_id', col('product_id').cast('integer'))\n",
        "    df = df.withColumn('category_id', col('category_id').cast('long'))\n",
        "\n",
        "    cart_df = df.filter(col('event_type') == 'cart')\n",
        "    df = df.filter(col('event_type') != 'cart')\n",
        "    cart_df = cart_df.dropDuplicates(subset=['product_id', 'user_id', 'user_session'])\n",
        "    df = df.union(cart_df)\n",
        "\n",
        "    return df"
      ],
      "metadata": {
        "execution": {
          "iopub.status.busy": "2024-03-04T14:45:57.724750Z",
          "iopub.execute_input": "2024-03-04T14:45:57.725166Z",
          "iopub.status.idle": "2024-03-04T14:45:57.734455Z",
          "shell.execute_reply.started": "2024-03-04T14:45:57.725136Z",
          "shell.execute_reply": "2024-03-04T14:45:57.733285Z"
        },
        "trusted": true,
        "id": "RzO3WitXVavB"
      },
      "execution_count": null,
      "outputs": []
    },
    {
      "cell_type": "code",
      "source": [
        "df = preprocess(df)"
      ],
      "metadata": {
        "execution": {
          "iopub.status.busy": "2024-03-04T14:45:58.215267Z",
          "iopub.execute_input": "2024-03-04T14:45:58.215990Z",
          "iopub.status.idle": "2024-03-04T14:45:58.520929Z",
          "shell.execute_reply.started": "2024-03-04T14:45:58.215951Z",
          "shell.execute_reply": "2024-03-04T14:45:58.519763Z"
        },
        "trusted": true,
        "id": "CiS5X0hWVavB"
      },
      "execution_count": null,
      "outputs": []
    },
    {
      "cell_type": "markdown",
      "source": [
        "## Feature Engineering"
      ],
      "metadata": {
        "id": "pa5DQs3qVavC"
      }
    },
    {
      "cell_type": "code",
      "source": [
        "def product_features(df):\n",
        "    df = df.groupby('product_id').agg(first('category_id').alias('category_id'),\n",
        "                                      first('category_code').alias('category_code'),\n",
        "                                      count(when(df['event_type'] == 'view', True)).alias('views'),\n",
        "                                      count(when(df['event_type'] == 'cart', True)).alias('carts'),\n",
        "                                      count(when(df['event_type'] == 'purchase', True)).alias('purchases'),\n",
        "                                      mean('price').alias('price'),\n",
        "                                      min('event_time').alias('first_date'),\n",
        "                                      max('event_time').alias('last_date'))\n",
        "\n",
        "    df = df.withColumn('purchase_per_view', df['purchases'] / df['views'])\n",
        "    df = df.withColumn('cart_per_view', df['carts'] / df['views'])\n",
        "    df = df.withColumn('purchase_per_cart', when(df['carts'] == 0, df['purchases']).otherwise(df['purchases'] / df['carts']))\n",
        "\n",
        "    return df"
      ],
      "metadata": {
        "execution": {
          "iopub.status.busy": "2024-03-04T05:02:32.095462Z",
          "iopub.execute_input": "2024-03-04T05:02:32.095970Z",
          "iopub.status.idle": "2024-03-04T05:02:32.117779Z",
          "shell.execute_reply.started": "2024-03-04T05:02:32.095908Z",
          "shell.execute_reply": "2024-03-04T05:02:32.116416Z"
        },
        "trusted": true,
        "id": "iLpwqhL9VavD"
      },
      "execution_count": null,
      "outputs": []
    },
    {
      "cell_type": "code",
      "source": [
        "def category_features(df):\n",
        "    products = df.dropDuplicates(subset=['product_id'])\n",
        "    products = products.groupby('category_id').agg(avg('price').alias('average_price'))\n",
        "\n",
        "    df = df.groupby('category_id').agg(first('category_code').alias('category_code'),\n",
        "                                       countDistinct('product_id').alias('number_of_products'),\n",
        "                                       count(when(df['event_type'] == 'view', True)).alias('views'),\n",
        "                                       count(when(df['event_type'] == 'cart', True)).alias('carts'),\n",
        "                                       count(when(df['event_type'] == 'purchase', True)).alias('purchases'))\n",
        "\n",
        "    df = df.withColumn('purchase_per_view', df['purchases'] / df['views'])\n",
        "    df = df.withColumn('cart_per_view', df['carts'] / df['views'])\n",
        "    df = df.withColumn('purchase_per_cart', when(df['carts'] == 0, df['purchases']).otherwise(df['purchases'] / df['carts']))\n",
        "\n",
        "    df = df.join(products, on='category_id')\n",
        "\n",
        "    return df"
      ],
      "metadata": {
        "execution": {
          "iopub.status.busy": "2024-03-04T05:02:32.119914Z",
          "iopub.execute_input": "2024-03-04T05:02:32.120825Z",
          "iopub.status.idle": "2024-03-04T05:02:32.135718Z",
          "shell.execute_reply.started": "2024-03-04T05:02:32.120780Z",
          "shell.execute_reply": "2024-03-04T05:02:32.134470Z"
        },
        "trusted": true,
        "id": "B3Is_3I3VavD"
      },
      "execution_count": null,
      "outputs": []
    },
    {
      "cell_type": "code",
      "source": [
        "def user_features(df):\n",
        "    df = df.groupby('user_id').agg(count(when(df['event_type'] == 'view', True)).alias('views'),\n",
        "                                   count(when(df['event_type'] == 'cart', True)).alias('carts'),\n",
        "                                   count(when(df['event_type'] == 'purchase', True)).alias('purchases'),\n",
        "                                   countDistinct(when(df['event_type'] == 'view', col('product_id'))).alias('distinct_products_viewed'),\n",
        "                                   countDistinct(when(df['event_type'] == 'cart', col('product_id'))).alias('distinct_products_carted'),\n",
        "                                   countDistinct(when(df['event_type'] == 'purchase', col('product_id'))).alias('distinct_products_purchased'),\n",
        "                                   mean(when(df['event_type'] == 'view', col('price'))).alias('average_price_viewed'),\n",
        "                                   mean(when(df['event_type'] == 'purchase', col('price'))).alias('average_price_purchased'),\n",
        "                                   mean(when(df['event_type'] == 'view', col('relative_price'))).alias('avg_relative_price_viewed'),\n",
        "                                   mean(when(df['event_type'] == 'purchase', col('relative_price'))).alias('avg_relative_price_purchased'),\n",
        "                                   min('event_time').alias('first_date'),\n",
        "                                   max('event_time').alias('last_date'))\n",
        "\n",
        "    df = df.withColumn('purchase_per_view', when(df['views'] == 0, df['purchases']).otherwise(df['purchases'] / df['views']))\n",
        "    df = df.withColumn('cart_per_view', when(df['views'] == 0, df['carts']).otherwise(df['carts'] / df['views']))\n",
        "    df = df.withColumn('purchase_per_cart', when(df['carts'] == 0, df['purchases']).otherwise(df['purchases'] / df['carts']))\n",
        "\n",
        "    return df"
      ],
      "metadata": {
        "execution": {
          "iopub.status.busy": "2024-03-04T05:02:32.138246Z",
          "iopub.execute_input": "2024-03-04T05:02:32.139082Z",
          "iopub.status.idle": "2024-03-04T05:02:32.160447Z",
          "shell.execute_reply.started": "2024-03-04T05:02:32.139037Z",
          "shell.execute_reply": "2024-03-04T05:02:32.158906Z"
        },
        "trusted": true,
        "id": "umiPGEt-VavD"
      },
      "execution_count": null,
      "outputs": []
    },
    {
      "cell_type": "code",
      "source": [
        "def category_smoothener(categories, mean, attr, rate, min_sample_size=1000):\n",
        "    categories = categories.withColumn(rate, when(categories[attr] < min_sample_size, ((categories[rate] * categories[attr]) + (mean * (min_sample_size - categories[attr]))) / min_sample_size).otherwise(categories[rate]))\n",
        "    return categories"
      ],
      "metadata": {
        "execution": {
          "iopub.status.busy": "2024-03-04T05:02:32.166098Z",
          "iopub.execute_input": "2024-03-04T05:02:32.166596Z",
          "iopub.status.idle": "2024-03-04T05:02:32.180514Z",
          "shell.execute_reply.started": "2024-03-04T05:02:32.166547Z",
          "shell.execute_reply": "2024-03-04T05:02:32.179326Z"
        },
        "trusted": true,
        "id": "3FZ7qbvSVavE"
      },
      "execution_count": null,
      "outputs": []
    },
    {
      "cell_type": "code",
      "source": [
        "def product_smoothener(products, categories, attr, rate, min_sample_size=1000):\n",
        "\n",
        "    category_rate = rate + '_cat'\n",
        "    categories = categories.withColumnRenamed(rate, category_rate)\n",
        "    products = products.join(categories['category_id', category_rate], on='category_id')\n",
        "\n",
        "    products = products.withColumn(rate, when(products[attr] < min_sample_size, ((products[rate] * products[attr]) + (products[category_rate] * (min_sample_size - products[attr]))) / min_sample_size).otherwise(products[rate]))\n",
        "\n",
        "    products = products.drop(category_rate)\n",
        "    return products"
      ],
      "metadata": {
        "execution": {
          "iopub.status.busy": "2024-03-04T05:02:32.182672Z",
          "iopub.execute_input": "2024-03-04T05:02:32.183571Z",
          "iopub.status.idle": "2024-03-04T05:02:32.198473Z",
          "shell.execute_reply.started": "2024-03-04T05:02:32.183528Z",
          "shell.execute_reply": "2024-03-04T05:02:32.197246Z"
        },
        "trusted": true,
        "id": "jpkBdlAOVavE"
      },
      "execution_count": null,
      "outputs": []
    },
    {
      "cell_type": "code",
      "source": [
        "def calculate_relative_price(products):\n",
        "\n",
        "    categories = products.groupby('category_id').agg(percentile_approx('price', 0.25, 1000).alias('Q1'),\n",
        "                                                     percentile_approx('price', 0.5, 1000).alias('median'),\n",
        "                                                     percentile_approx('price', 0.75, 1000).alias('Q3'))\n",
        "\n",
        "    categories = categories.withColumn('IQR', col('Q3') - col('Q1'))\n",
        "    categories = categories.withColumn('IQR', when(col('IQR') < 1, 1).otherwise(col('IQR')))\n",
        "\n",
        "    products = products.join(categories, on='category_id')\n",
        "    products = products.withColumn('relative_price', (col('price') - col('median')) / col('IQR'))\n",
        "\n",
        "    products = products.withColumn('relative_price', when(col('relative_price') > 5, 5).otherwise(col('relative_price')))\n",
        "\n",
        "    products = products.withColumn('relative_price', when(col('relative_price') < -5, -5).otherwise(col('relative_price')))\n",
        "\n",
        "    products = products.select('product_id', 'relative_price')\n",
        "    return products"
      ],
      "metadata": {
        "execution": {
          "iopub.status.busy": "2024-03-04T05:02:32.201331Z",
          "iopub.execute_input": "2024-03-04T05:02:32.202688Z",
          "iopub.status.idle": "2024-03-04T05:02:32.216685Z",
          "shell.execute_reply.started": "2024-03-04T05:02:32.202637Z",
          "shell.execute_reply": "2024-03-04T05:02:32.215513Z"
        },
        "trusted": true,
        "id": "qXvOe9yAVavF"
      },
      "execution_count": null,
      "outputs": []
    },
    {
      "cell_type": "code",
      "source": [
        "products = product_features(df)\n",
        "categories = category_features(df)\n",
        "relative_prices = calculate_relative_price(products)\n",
        "\n",
        "df = df.join(relative_prices, on='product_id')\n",
        "products = products.join(relative_prices, on='product_id')\n",
        "\n",
        "avg_purchase_per_view = events[events['event_type'] == 'purchase']['count'].values[0] / events[events['event_type'] == 'view']['count'].values[0]\n",
        "avg_cart_per_view = events[events['event_type'] == 'cart']['count'].values[0] / events[events['event_type'] == 'view']['count'].values[0]\n",
        "avg_purchase_per_cart = events[events['event_type'] == 'purchase']['count'].values[0] / events[events['event_type'] == 'cart']['count'].values[0]\n",
        "\n",
        "categories = category_smoothener(categories, avg_purchase_per_view, 'views', 'purchase_per_view', 2000)\n",
        "categories = category_smoothener(categories, avg_cart_per_view, 'views', 'cart_per_view', 2000)\n",
        "categories = category_smoothener(categories, avg_purchase_per_cart, 'carts', 'purchase_per_cart', 200)\n",
        "products = product_smoothener(products, categories, 'views', 'purchase_per_view', 1000)\n",
        "products = product_smoothener(products, categories, 'views', 'cart_per_view', 1000)\n",
        "products = product_smoothener(products, categories, 'carts', 'purchase_per_cart', 100)\n",
        "users = user_features(df)"
      ],
      "metadata": {
        "execution": {
          "iopub.status.busy": "2024-03-04T05:02:32.218298Z",
          "iopub.execute_input": "2024-03-04T05:02:32.219264Z",
          "iopub.status.idle": "2024-03-04T05:02:32.694890Z",
          "shell.execute_reply.started": "2024-03-04T05:02:32.219223Z",
          "shell.execute_reply": "2024-03-04T05:02:32.693578Z"
        },
        "trusted": true,
        "id": "u7hnW0UJVavF"
      },
      "execution_count": null,
      "outputs": []
    },
    {
      "cell_type": "code",
      "source": [
        "products.sort('purchases', ascending=False).toPandas().head(50)"
      ],
      "metadata": {
        "execution": {
          "iopub.status.busy": "2024-03-04T05:02:34.083629Z",
          "iopub.execute_input": "2024-03-04T05:02:34.084095Z",
          "iopub.status.idle": "2024-03-04T05:23:54.447414Z",
          "shell.execute_reply.started": "2024-03-04T05:02:34.084056Z",
          "shell.execute_reply": "2024-03-04T05:23:54.445926Z"
        },
        "trusted": true,
        "id": "LB_AggzzVavW",
        "outputId": "fbd5501a-2644-4c43-da61-54c4ec0ca6a4"
      },
      "execution_count": null,
      "outputs": [
        {
          "name": "stderr",
          "text": "                                                                                \r",
          "output_type": "stream"
        },
        {
          "execution_count": 32,
          "output_type": "execute_result",
          "data": {
            "text/plain": "            category_id  product_id                category_code   views  \\\n0   2053013555631882655     1004856       electronics.smartphone  522880   \n1   2053013555631882655     1004767       electronics.smartphone  482898   \n2   2053013555631882655     1005115       electronics.smartphone  583010   \n3   2053013554658804075     4804056  electronics.audio.headphone  318339   \n4   2053013555631882655     1004833       electronics.smartphone  247446   \n5   2053013555631882655     1002544       electronics.smartphone  229920   \n6   2053013555631882655     1004870       electronics.smartphone  272097   \n7   2053013555631882655     1005100       electronics.smartphone  216374   \n8   2053013555631882655     1004249       electronics.smartphone  254931   \n9   2053013555631882655     1005105       electronics.smartphone  275721   \n10  2053013555631882655     1004836       electronics.smartphone  179932   \n11  2053013555631882655     1005160       electronics.smartphone  304614   \n12  2053013553375346967     5100816                         None  168451   \n13  2053013555631882655     1002524       electronics.smartphone  131452   \n14  2053013555631882655     1004873       electronics.smartphone  198101   \n15  2053013555631882655     1005116       electronics.smartphone  166202   \n16  2053013555631882655     1004838       electronics.smartphone  149872   \n17  2053013555631882655     1002633       electronics.smartphone  104987   \n18  2053013555631882655     1005135       electronics.smartphone  136844   \n19  2053013555631882655     1004750       electronics.smartphone  132187   \n20  2053013554658804075     4804055  electronics.audio.headphone  125534   \n21  2053013555631882655     1004785       electronics.smartphone  158024   \n22  2053013555631882655     1004565       electronics.smartphone  128272   \n23  2053013555631882655     1004858       electronics.smartphone   89751   \n24  2053013555631882655     1005174       electronics.smartphone  132764   \n25  2053013555631882655     1005161       electronics.smartphone  127711   \n26  2053013554658804075     4804295  electronics.audio.headphone  112596   \n27  2053013554415534427     1801690         electronics.video.tv  121183   \n28  2053013555631882655     1003306       electronics.smartphone   91098   \n29  2053013555631882655     1004741       electronics.smartphone  139003   \n30  2053013561218695907     4100346                         None   72184   \n31  2053013555631882655     1004768       electronics.smartphone   93714   \n32  2053013555631882655     1005098       electronics.smartphone   81203   \n33  2053013555631882655     1005239       electronics.smartphone  193835   \n34  2053013555631882655     1005159       electronics.smartphone  106884   \n35  2053013553559896355    12703015                         None   94959   \n36  2053013555631882655     1004209       electronics.smartphone   68217   \n37  2053013555631882655     1005169       electronics.smartphone   74317   \n38  2053013554658804075     4804718  electronics.audio.headphone  148218   \n39  2053013555631882655     1005212       electronics.smartphone   56020   \n40  2053013555631882655     1004659       electronics.smartphone  129593   \n41  2053013555631882655     1005217       electronics.smartphone  112654   \n42  2053013555631882655     1004258       electronics.smartphone   87781   \n43  2053013555631882655     1005186       electronics.smartphone   88229   \n44  2053013555631882655     1005203       electronics.smartphone   90533   \n45  2053013554415534427     1801766         electronics.video.tv  128283   \n46  2053013555631882655     1004246       electronics.smartphone   83609   \n47  2053013555631882655     1004781       electronics.smartphone   88241   \n48  2053013555631882655     1003317       electronics.smartphone  112169   \n49  2053013555631882655     1005008       electronics.smartphone   83111   \n\n    carts  purchases        price          first_date           last_date  \\\n0   51709      32321   127.285916 2019-11-01 00:00:23 2019-11-30 23:57:05   \n1   40776      22613   245.660016 2019-11-01 00:00:30 2019-11-30 23:58:57   \n2   44398      22244   923.553354 2019-11-01 00:00:10 2019-11-30 23:57:19   \n3   34684      17800   162.846331 2019-11-01 00:01:30 2019-11-30 23:59:11   \n4   21362      13486   170.689336 2019-11-01 00:00:49 2019-11-30 23:59:59   \n5   19094      11678   475.860346 2019-11-01 00:00:14 2019-11-30 23:57:42   \n6   21644      10673   282.161473 2019-11-01 00:01:33 2019-11-30 23:50:07   \n7   17962      10132   136.236611 2019-11-01 00:03:21 2019-11-30 23:57:33   \n8   17225       8881   758.719656 2019-11-01 00:02:38 2019-11-30 23:59:11   \n9   15914       8483  1351.403351 2019-11-01 00:03:27 2019-11-30 23:59:38   \n10  13586       7858   230.412060 2019-11-01 00:02:11 2019-11-30 23:59:43   \n11  15512       6877   202.375897 2019-11-01 00:09:36 2019-11-30 23:59:32   \n12  14956       6725    31.083599 2019-11-01 00:02:36 2019-11-30 23:49:36   \n13  11109       6244   551.116178 2019-11-01 00:02:18 2019-11-30 23:58:37   \n14  11591       6153   359.015487 2019-11-01 00:02:02 2019-11-30 23:50:54   \n15  12245       5174   994.607558 2019-11-01 00:00:40 2019-11-30 23:58:21   \n16   8627       5067   162.382354 2019-11-01 00:12:10 2019-11-30 23:59:42   \n17   7709       4622   379.377465 2019-11-01 00:15:43 2019-11-30 23:59:09   \n18   8471       4284  1652.208084 2019-11-01 00:02:56 2019-11-30 23:58:51   \n19   7918       4276   194.647263 2019-11-01 00:19:50 2019-11-30 23:57:44   \n20   7820       3776   196.501980 2019-11-01 00:12:46 2019-11-30 23:51:21   \n21   7211       3571   261.153822 2019-11-01 00:01:52 2019-11-30 23:50:12   \n22   6722       3535   168.034794 2019-11-01 00:08:38 2019-11-30 23:45:32   \n23   6402       3471   127.294029 2019-11-01 00:50:23 2019-11-30 23:55:58   \n24   5213       3465   640.135371 2019-11-01 00:05:40 2019-11-30 23:59:54   \n25   7229       3259   201.976113 2019-11-01 00:00:17 2019-11-30 23:54:44   \n26   7176       3162    25.051179 2019-11-01 00:00:28 2019-11-30 23:51:13   \n27   6598       3086   391.057623 2019-11-01 00:18:18 2019-11-30 23:53:17   \n28   5760       2991   585.631891 2019-11-01 00:07:24 2019-11-30 23:59:27   \n29   6560       2890   189.852047 2019-11-01 00:18:06 2019-11-30 23:44:26   \n30   5625       2824   366.112442 2019-11-01 00:40:04 2019-11-30 23:54:37   \n31   6167       2813   244.005760 2019-11-01 00:07:59 2019-11-30 23:53:32   \n32   5372       2778   136.321246 2019-11-01 00:10:55 2019-11-30 23:52:16   \n33   7092       2659   265.637468 2019-11-01 00:01:32 2019-11-30 23:58:39   \n34   5665       2600   202.338727 2019-11-01 00:13:45 2019-11-30 23:54:40   \n35   6523       2591    43.572981 2019-11-01 00:01:35 2019-11-30 23:56:20   \n36   4183       2539    88.997873 2019-11-01 00:37:36 2019-11-30 23:53:57   \n37   4841       2539   204.222828 2019-11-01 00:34:56 2019-11-30 23:52:37   \n38   5602       2501   343.925750 2019-11-01 05:20:41 2019-11-30 23:59:40   \n39   4390       2351   176.245357 2019-11-01 00:09:11 2019-11-30 23:57:23   \n40   4788       2346   726.963075 2019-11-01 00:05:09 2019-11-30 23:55:21   \n41   4978       2332   146.967540 2019-11-01 00:18:35 2019-11-30 23:59:28   \n42   4570       2270   777.663644 2019-11-01 00:00:02 2019-11-30 23:59:41   \n43   3403       2257   758.530603 2019-11-01 00:04:14 2019-11-30 23:54:25   \n44   5032       2238   107.797956 2019-11-01 00:25:48 2019-11-30 23:56:23   \n45   5071       2238   152.484387 2019-11-01 00:03:34 2019-11-30 23:59:52   \n46   4716       2213   757.855847 2019-11-01 00:20:39 2019-11-30 23:56:51   \n47   4236       2143   260.298181 2019-11-01 00:10:35 2019-11-30 23:35:50   \n48   3920       2034   956.043621 2019-11-01 00:00:18 2019-11-30 23:50:28   \n49   4393       2025    93.615008 2019-11-01 00:01:39 2019-11-30 23:58:52   \n\n    purchase_per_view  cart_per_view  purchase_per_cart  relative_price  \n0            0.061813       0.098893           0.625056       -0.243029  \n1            0.046828       0.084440           0.554566        0.072242  \n2            0.038154       0.076153           0.501014        1.877710  \n3            0.055915       0.108953           0.513205        1.752062  \n4            0.054501       0.086330           0.631308       -0.127431  \n5            0.050792       0.083046           0.611606        0.685347  \n6            0.039225       0.079545           0.493116        0.169459  \n7            0.046826       0.083014           0.564080       -0.219191  \n8            0.034837       0.067567           0.515588        1.438700  \n9            0.030767       0.057718           0.533053        3.017225  \n10           0.043672       0.075506           0.578390        0.031632  \n11           0.022576       0.050923           0.443334       -0.043038  \n12           0.039923       0.088785           0.449652       -0.414403  \n13           0.047500       0.084510           0.562067        0.885779  \n14           0.031060       0.058511           0.530843        0.374148  \n15           0.031131       0.073675           0.422540        2.066953  \n16           0.033809       0.057562           0.587342       -0.149555  \n17           0.044024       0.073428           0.599559        0.428379  \n18           0.031306       0.061903           0.505725        3.818374  \n19           0.032348       0.059900           0.540035       -0.063622  \n20           0.030080       0.062294           0.482864        2.216575  \n21           0.022598       0.045632           0.495216        0.113508  \n22           0.027559       0.052404           0.525885       -0.134501  \n23           0.038674       0.071331           0.542174       -0.243008  \n24           0.026099       0.039265           0.664684        1.122869  \n25           0.025519       0.056604           0.450823       -0.044103  \n26           0.028083       0.063732           0.440635       -0.149776  \n27           0.025466       0.054447           0.467717       -0.143883  \n28           0.032833       0.063229           0.519271        0.977707  \n29           0.020791       0.047193           0.440549       -0.076394  \n30           0.039122       0.077926           0.502044       -0.672033  \n31           0.030017       0.065807           0.456138        0.067837  \n32           0.034211       0.066155           0.517126       -0.218965  \n33           0.013718       0.036588           0.374929        0.125449  \n34           0.024325       0.053001           0.458959       -0.043137  \n35           0.027285       0.068693           0.397210       -0.534420  \n36           0.037219       0.061319           0.606981       -0.345004  \n37           0.034164       0.065140           0.524478       -0.038119  \n38           0.016874       0.037796           0.446448        4.251306  \n39           0.041967       0.078365           0.535535       -0.112633  \n40           0.018103       0.036946           0.489975        1.354121  \n41           0.020701       0.044188           0.468461       -0.190610  \n42           0.025860       0.052061           0.496718        1.489155  \n43           0.025581       0.038570           0.663238        1.438197  \n44           0.024720       0.055582           0.444754       -0.294933  \n45           0.017446       0.039530           0.441333       -0.539038  \n46           0.026468       0.056405           0.469254        1.436400  \n47           0.024286       0.048005           0.505902        0.111229  \n48           0.018133       0.034947           0.518878        1.964243  \n49           0.024365       0.052857           0.460961       -0.332707  ",
            "text/html": "<div>\n<style scoped>\n    .dataframe tbody tr th:only-of-type {\n        vertical-align: middle;\n    }\n\n    .dataframe tbody tr th {\n        vertical-align: top;\n    }\n\n    .dataframe thead th {\n        text-align: right;\n    }\n</style>\n<table border=\"1\" class=\"dataframe\">\n  <thead>\n    <tr style=\"text-align: right;\">\n      <th></th>\n      <th>category_id</th>\n      <th>product_id</th>\n      <th>category_code</th>\n      <th>views</th>\n      <th>carts</th>\n      <th>purchases</th>\n      <th>price</th>\n      <th>first_date</th>\n      <th>last_date</th>\n      <th>purchase_per_view</th>\n      <th>cart_per_view</th>\n      <th>purchase_per_cart</th>\n      <th>relative_price</th>\n    </tr>\n  </thead>\n  <tbody>\n    <tr>\n      <th>0</th>\n      <td>2053013555631882655</td>\n      <td>1004856</td>\n      <td>electronics.smartphone</td>\n      <td>522880</td>\n      <td>51709</td>\n      <td>32321</td>\n      <td>127.285916</td>\n      <td>2019-11-01 00:00:23</td>\n      <td>2019-11-30 23:57:05</td>\n      <td>0.061813</td>\n      <td>0.098893</td>\n      <td>0.625056</td>\n      <td>-0.243029</td>\n    </tr>\n    <tr>\n      <th>1</th>\n      <td>2053013555631882655</td>\n      <td>1004767</td>\n      <td>electronics.smartphone</td>\n      <td>482898</td>\n      <td>40776</td>\n      <td>22613</td>\n      <td>245.660016</td>\n      <td>2019-11-01 00:00:30</td>\n      <td>2019-11-30 23:58:57</td>\n      <td>0.046828</td>\n      <td>0.084440</td>\n      <td>0.554566</td>\n      <td>0.072242</td>\n    </tr>\n    <tr>\n      <th>2</th>\n      <td>2053013555631882655</td>\n      <td>1005115</td>\n      <td>electronics.smartphone</td>\n      <td>583010</td>\n      <td>44398</td>\n      <td>22244</td>\n      <td>923.553354</td>\n      <td>2019-11-01 00:00:10</td>\n      <td>2019-11-30 23:57:19</td>\n      <td>0.038154</td>\n      <td>0.076153</td>\n      <td>0.501014</td>\n      <td>1.877710</td>\n    </tr>\n    <tr>\n      <th>3</th>\n      <td>2053013554658804075</td>\n      <td>4804056</td>\n      <td>electronics.audio.headphone</td>\n      <td>318339</td>\n      <td>34684</td>\n      <td>17800</td>\n      <td>162.846331</td>\n      <td>2019-11-01 00:01:30</td>\n      <td>2019-11-30 23:59:11</td>\n      <td>0.055915</td>\n      <td>0.108953</td>\n      <td>0.513205</td>\n      <td>1.752062</td>\n    </tr>\n    <tr>\n      <th>4</th>\n      <td>2053013555631882655</td>\n      <td>1004833</td>\n      <td>electronics.smartphone</td>\n      <td>247446</td>\n      <td>21362</td>\n      <td>13486</td>\n      <td>170.689336</td>\n      <td>2019-11-01 00:00:49</td>\n      <td>2019-11-30 23:59:59</td>\n      <td>0.054501</td>\n      <td>0.086330</td>\n      <td>0.631308</td>\n      <td>-0.127431</td>\n    </tr>\n    <tr>\n      <th>5</th>\n      <td>2053013555631882655</td>\n      <td>1002544</td>\n      <td>electronics.smartphone</td>\n      <td>229920</td>\n      <td>19094</td>\n      <td>11678</td>\n      <td>475.860346</td>\n      <td>2019-11-01 00:00:14</td>\n      <td>2019-11-30 23:57:42</td>\n      <td>0.050792</td>\n      <td>0.083046</td>\n      <td>0.611606</td>\n      <td>0.685347</td>\n    </tr>\n    <tr>\n      <th>6</th>\n      <td>2053013555631882655</td>\n      <td>1004870</td>\n      <td>electronics.smartphone</td>\n      <td>272097</td>\n      <td>21644</td>\n      <td>10673</td>\n      <td>282.161473</td>\n      <td>2019-11-01 00:01:33</td>\n      <td>2019-11-30 23:50:07</td>\n      <td>0.039225</td>\n      <td>0.079545</td>\n      <td>0.493116</td>\n      <td>0.169459</td>\n    </tr>\n    <tr>\n      <th>7</th>\n      <td>2053013555631882655</td>\n      <td>1005100</td>\n      <td>electronics.smartphone</td>\n      <td>216374</td>\n      <td>17962</td>\n      <td>10132</td>\n      <td>136.236611</td>\n      <td>2019-11-01 00:03:21</td>\n      <td>2019-11-30 23:57:33</td>\n      <td>0.046826</td>\n      <td>0.083014</td>\n      <td>0.564080</td>\n      <td>-0.219191</td>\n    </tr>\n    <tr>\n      <th>8</th>\n      <td>2053013555631882655</td>\n      <td>1004249</td>\n      <td>electronics.smartphone</td>\n      <td>254931</td>\n      <td>17225</td>\n      <td>8881</td>\n      <td>758.719656</td>\n      <td>2019-11-01 00:02:38</td>\n      <td>2019-11-30 23:59:11</td>\n      <td>0.034837</td>\n      <td>0.067567</td>\n      <td>0.515588</td>\n      <td>1.438700</td>\n    </tr>\n    <tr>\n      <th>9</th>\n      <td>2053013555631882655</td>\n      <td>1005105</td>\n      <td>electronics.smartphone</td>\n      <td>275721</td>\n      <td>15914</td>\n      <td>8483</td>\n      <td>1351.403351</td>\n      <td>2019-11-01 00:03:27</td>\n      <td>2019-11-30 23:59:38</td>\n      <td>0.030767</td>\n      <td>0.057718</td>\n      <td>0.533053</td>\n      <td>3.017225</td>\n    </tr>\n    <tr>\n      <th>10</th>\n      <td>2053013555631882655</td>\n      <td>1004836</td>\n      <td>electronics.smartphone</td>\n      <td>179932</td>\n      <td>13586</td>\n      <td>7858</td>\n      <td>230.412060</td>\n      <td>2019-11-01 00:02:11</td>\n      <td>2019-11-30 23:59:43</td>\n      <td>0.043672</td>\n      <td>0.075506</td>\n      <td>0.578390</td>\n      <td>0.031632</td>\n    </tr>\n    <tr>\n      <th>11</th>\n      <td>2053013555631882655</td>\n      <td>1005160</td>\n      <td>electronics.smartphone</td>\n      <td>304614</td>\n      <td>15512</td>\n      <td>6877</td>\n      <td>202.375897</td>\n      <td>2019-11-01 00:09:36</td>\n      <td>2019-11-30 23:59:32</td>\n      <td>0.022576</td>\n      <td>0.050923</td>\n      <td>0.443334</td>\n      <td>-0.043038</td>\n    </tr>\n    <tr>\n      <th>12</th>\n      <td>2053013553375346967</td>\n      <td>5100816</td>\n      <td>None</td>\n      <td>168451</td>\n      <td>14956</td>\n      <td>6725</td>\n      <td>31.083599</td>\n      <td>2019-11-01 00:02:36</td>\n      <td>2019-11-30 23:49:36</td>\n      <td>0.039923</td>\n      <td>0.088785</td>\n      <td>0.449652</td>\n      <td>-0.414403</td>\n    </tr>\n    <tr>\n      <th>13</th>\n      <td>2053013555631882655</td>\n      <td>1002524</td>\n      <td>electronics.smartphone</td>\n      <td>131452</td>\n      <td>11109</td>\n      <td>6244</td>\n      <td>551.116178</td>\n      <td>2019-11-01 00:02:18</td>\n      <td>2019-11-30 23:58:37</td>\n      <td>0.047500</td>\n      <td>0.084510</td>\n      <td>0.562067</td>\n      <td>0.885779</td>\n    </tr>\n    <tr>\n      <th>14</th>\n      <td>2053013555631882655</td>\n      <td>1004873</td>\n      <td>electronics.smartphone</td>\n      <td>198101</td>\n      <td>11591</td>\n      <td>6153</td>\n      <td>359.015487</td>\n      <td>2019-11-01 00:02:02</td>\n      <td>2019-11-30 23:50:54</td>\n      <td>0.031060</td>\n      <td>0.058511</td>\n      <td>0.530843</td>\n      <td>0.374148</td>\n    </tr>\n    <tr>\n      <th>15</th>\n      <td>2053013555631882655</td>\n      <td>1005116</td>\n      <td>electronics.smartphone</td>\n      <td>166202</td>\n      <td>12245</td>\n      <td>5174</td>\n      <td>994.607558</td>\n      <td>2019-11-01 00:00:40</td>\n      <td>2019-11-30 23:58:21</td>\n      <td>0.031131</td>\n      <td>0.073675</td>\n      <td>0.422540</td>\n      <td>2.066953</td>\n    </tr>\n    <tr>\n      <th>16</th>\n      <td>2053013555631882655</td>\n      <td>1004838</td>\n      <td>electronics.smartphone</td>\n      <td>149872</td>\n      <td>8627</td>\n      <td>5067</td>\n      <td>162.382354</td>\n      <td>2019-11-01 00:12:10</td>\n      <td>2019-11-30 23:59:42</td>\n      <td>0.033809</td>\n      <td>0.057562</td>\n      <td>0.587342</td>\n      <td>-0.149555</td>\n    </tr>\n    <tr>\n      <th>17</th>\n      <td>2053013555631882655</td>\n      <td>1002633</td>\n      <td>electronics.smartphone</td>\n      <td>104987</td>\n      <td>7709</td>\n      <td>4622</td>\n      <td>379.377465</td>\n      <td>2019-11-01 00:15:43</td>\n      <td>2019-11-30 23:59:09</td>\n      <td>0.044024</td>\n      <td>0.073428</td>\n      <td>0.599559</td>\n      <td>0.428379</td>\n    </tr>\n    <tr>\n      <th>18</th>\n      <td>2053013555631882655</td>\n      <td>1005135</td>\n      <td>electronics.smartphone</td>\n      <td>136844</td>\n      <td>8471</td>\n      <td>4284</td>\n      <td>1652.208084</td>\n      <td>2019-11-01 00:02:56</td>\n      <td>2019-11-30 23:58:51</td>\n      <td>0.031306</td>\n      <td>0.061903</td>\n      <td>0.505725</td>\n      <td>3.818374</td>\n    </tr>\n    <tr>\n      <th>19</th>\n      <td>2053013555631882655</td>\n      <td>1004750</td>\n      <td>electronics.smartphone</td>\n      <td>132187</td>\n      <td>7918</td>\n      <td>4276</td>\n      <td>194.647263</td>\n      <td>2019-11-01 00:19:50</td>\n      <td>2019-11-30 23:57:44</td>\n      <td>0.032348</td>\n      <td>0.059900</td>\n      <td>0.540035</td>\n      <td>-0.063622</td>\n    </tr>\n    <tr>\n      <th>20</th>\n      <td>2053013554658804075</td>\n      <td>4804055</td>\n      <td>electronics.audio.headphone</td>\n      <td>125534</td>\n      <td>7820</td>\n      <td>3776</td>\n      <td>196.501980</td>\n      <td>2019-11-01 00:12:46</td>\n      <td>2019-11-30 23:51:21</td>\n      <td>0.030080</td>\n      <td>0.062294</td>\n      <td>0.482864</td>\n      <td>2.216575</td>\n    </tr>\n    <tr>\n      <th>21</th>\n      <td>2053013555631882655</td>\n      <td>1004785</td>\n      <td>electronics.smartphone</td>\n      <td>158024</td>\n      <td>7211</td>\n      <td>3571</td>\n      <td>261.153822</td>\n      <td>2019-11-01 00:01:52</td>\n      <td>2019-11-30 23:50:12</td>\n      <td>0.022598</td>\n      <td>0.045632</td>\n      <td>0.495216</td>\n      <td>0.113508</td>\n    </tr>\n    <tr>\n      <th>22</th>\n      <td>2053013555631882655</td>\n      <td>1004565</td>\n      <td>electronics.smartphone</td>\n      <td>128272</td>\n      <td>6722</td>\n      <td>3535</td>\n      <td>168.034794</td>\n      <td>2019-11-01 00:08:38</td>\n      <td>2019-11-30 23:45:32</td>\n      <td>0.027559</td>\n      <td>0.052404</td>\n      <td>0.525885</td>\n      <td>-0.134501</td>\n    </tr>\n    <tr>\n      <th>23</th>\n      <td>2053013555631882655</td>\n      <td>1004858</td>\n      <td>electronics.smartphone</td>\n      <td>89751</td>\n      <td>6402</td>\n      <td>3471</td>\n      <td>127.294029</td>\n      <td>2019-11-01 00:50:23</td>\n      <td>2019-11-30 23:55:58</td>\n      <td>0.038674</td>\n      <td>0.071331</td>\n      <td>0.542174</td>\n      <td>-0.243008</td>\n    </tr>\n    <tr>\n      <th>24</th>\n      <td>2053013555631882655</td>\n      <td>1005174</td>\n      <td>electronics.smartphone</td>\n      <td>132764</td>\n      <td>5213</td>\n      <td>3465</td>\n      <td>640.135371</td>\n      <td>2019-11-01 00:05:40</td>\n      <td>2019-11-30 23:59:54</td>\n      <td>0.026099</td>\n      <td>0.039265</td>\n      <td>0.664684</td>\n      <td>1.122869</td>\n    </tr>\n    <tr>\n      <th>25</th>\n      <td>2053013555631882655</td>\n      <td>1005161</td>\n      <td>electronics.smartphone</td>\n      <td>127711</td>\n      <td>7229</td>\n      <td>3259</td>\n      <td>201.976113</td>\n      <td>2019-11-01 00:00:17</td>\n      <td>2019-11-30 23:54:44</td>\n      <td>0.025519</td>\n      <td>0.056604</td>\n      <td>0.450823</td>\n      <td>-0.044103</td>\n    </tr>\n    <tr>\n      <th>26</th>\n      <td>2053013554658804075</td>\n      <td>4804295</td>\n      <td>electronics.audio.headphone</td>\n      <td>112596</td>\n      <td>7176</td>\n      <td>3162</td>\n      <td>25.051179</td>\n      <td>2019-11-01 00:00:28</td>\n      <td>2019-11-30 23:51:13</td>\n      <td>0.028083</td>\n      <td>0.063732</td>\n      <td>0.440635</td>\n      <td>-0.149776</td>\n    </tr>\n    <tr>\n      <th>27</th>\n      <td>2053013554415534427</td>\n      <td>1801690</td>\n      <td>electronics.video.tv</td>\n      <td>121183</td>\n      <td>6598</td>\n      <td>3086</td>\n      <td>391.057623</td>\n      <td>2019-11-01 00:18:18</td>\n      <td>2019-11-30 23:53:17</td>\n      <td>0.025466</td>\n      <td>0.054447</td>\n      <td>0.467717</td>\n      <td>-0.143883</td>\n    </tr>\n    <tr>\n      <th>28</th>\n      <td>2053013555631882655</td>\n      <td>1003306</td>\n      <td>electronics.smartphone</td>\n      <td>91098</td>\n      <td>5760</td>\n      <td>2991</td>\n      <td>585.631891</td>\n      <td>2019-11-01 00:07:24</td>\n      <td>2019-11-30 23:59:27</td>\n      <td>0.032833</td>\n      <td>0.063229</td>\n      <td>0.519271</td>\n      <td>0.977707</td>\n    </tr>\n    <tr>\n      <th>29</th>\n      <td>2053013555631882655</td>\n      <td>1004741</td>\n      <td>electronics.smartphone</td>\n      <td>139003</td>\n      <td>6560</td>\n      <td>2890</td>\n      <td>189.852047</td>\n      <td>2019-11-01 00:18:06</td>\n      <td>2019-11-30 23:44:26</td>\n      <td>0.020791</td>\n      <td>0.047193</td>\n      <td>0.440549</td>\n      <td>-0.076394</td>\n    </tr>\n    <tr>\n      <th>30</th>\n      <td>2053013561218695907</td>\n      <td>4100346</td>\n      <td>None</td>\n      <td>72184</td>\n      <td>5625</td>\n      <td>2824</td>\n      <td>366.112442</td>\n      <td>2019-11-01 00:40:04</td>\n      <td>2019-11-30 23:54:37</td>\n      <td>0.039122</td>\n      <td>0.077926</td>\n      <td>0.502044</td>\n      <td>-0.672033</td>\n    </tr>\n    <tr>\n      <th>31</th>\n      <td>2053013555631882655</td>\n      <td>1004768</td>\n      <td>electronics.smartphone</td>\n      <td>93714</td>\n      <td>6167</td>\n      <td>2813</td>\n      <td>244.005760</td>\n      <td>2019-11-01 00:07:59</td>\n      <td>2019-11-30 23:53:32</td>\n      <td>0.030017</td>\n      <td>0.065807</td>\n      <td>0.456138</td>\n      <td>0.067837</td>\n    </tr>\n    <tr>\n      <th>32</th>\n      <td>2053013555631882655</td>\n      <td>1005098</td>\n      <td>electronics.smartphone</td>\n      <td>81203</td>\n      <td>5372</td>\n      <td>2778</td>\n      <td>136.321246</td>\n      <td>2019-11-01 00:10:55</td>\n      <td>2019-11-30 23:52:16</td>\n      <td>0.034211</td>\n      <td>0.066155</td>\n      <td>0.517126</td>\n      <td>-0.218965</td>\n    </tr>\n    <tr>\n      <th>33</th>\n      <td>2053013555631882655</td>\n      <td>1005239</td>\n      <td>electronics.smartphone</td>\n      <td>193835</td>\n      <td>7092</td>\n      <td>2659</td>\n      <td>265.637468</td>\n      <td>2019-11-01 00:01:32</td>\n      <td>2019-11-30 23:58:39</td>\n      <td>0.013718</td>\n      <td>0.036588</td>\n      <td>0.374929</td>\n      <td>0.125449</td>\n    </tr>\n    <tr>\n      <th>34</th>\n      <td>2053013555631882655</td>\n      <td>1005159</td>\n      <td>electronics.smartphone</td>\n      <td>106884</td>\n      <td>5665</td>\n      <td>2600</td>\n      <td>202.338727</td>\n      <td>2019-11-01 00:13:45</td>\n      <td>2019-11-30 23:54:40</td>\n      <td>0.024325</td>\n      <td>0.053001</td>\n      <td>0.458959</td>\n      <td>-0.043137</td>\n    </tr>\n    <tr>\n      <th>35</th>\n      <td>2053013553559896355</td>\n      <td>12703015</td>\n      <td>None</td>\n      <td>94959</td>\n      <td>6523</td>\n      <td>2591</td>\n      <td>43.572981</td>\n      <td>2019-11-01 00:01:35</td>\n      <td>2019-11-30 23:56:20</td>\n      <td>0.027285</td>\n      <td>0.068693</td>\n      <td>0.397210</td>\n      <td>-0.534420</td>\n    </tr>\n    <tr>\n      <th>36</th>\n      <td>2053013555631882655</td>\n      <td>1004209</td>\n      <td>electronics.smartphone</td>\n      <td>68217</td>\n      <td>4183</td>\n      <td>2539</td>\n      <td>88.997873</td>\n      <td>2019-11-01 00:37:36</td>\n      <td>2019-11-30 23:53:57</td>\n      <td>0.037219</td>\n      <td>0.061319</td>\n      <td>0.606981</td>\n      <td>-0.345004</td>\n    </tr>\n    <tr>\n      <th>37</th>\n      <td>2053013555631882655</td>\n      <td>1005169</td>\n      <td>electronics.smartphone</td>\n      <td>74317</td>\n      <td>4841</td>\n      <td>2539</td>\n      <td>204.222828</td>\n      <td>2019-11-01 00:34:56</td>\n      <td>2019-11-30 23:52:37</td>\n      <td>0.034164</td>\n      <td>0.065140</td>\n      <td>0.524478</td>\n      <td>-0.038119</td>\n    </tr>\n    <tr>\n      <th>38</th>\n      <td>2053013554658804075</td>\n      <td>4804718</td>\n      <td>electronics.audio.headphone</td>\n      <td>148218</td>\n      <td>5602</td>\n      <td>2501</td>\n      <td>343.925750</td>\n      <td>2019-11-01 05:20:41</td>\n      <td>2019-11-30 23:59:40</td>\n      <td>0.016874</td>\n      <td>0.037796</td>\n      <td>0.446448</td>\n      <td>4.251306</td>\n    </tr>\n    <tr>\n      <th>39</th>\n      <td>2053013555631882655</td>\n      <td>1005212</td>\n      <td>electronics.smartphone</td>\n      <td>56020</td>\n      <td>4390</td>\n      <td>2351</td>\n      <td>176.245357</td>\n      <td>2019-11-01 00:09:11</td>\n      <td>2019-11-30 23:57:23</td>\n      <td>0.041967</td>\n      <td>0.078365</td>\n      <td>0.535535</td>\n      <td>-0.112633</td>\n    </tr>\n    <tr>\n      <th>40</th>\n      <td>2053013555631882655</td>\n      <td>1004659</td>\n      <td>electronics.smartphone</td>\n      <td>129593</td>\n      <td>4788</td>\n      <td>2346</td>\n      <td>726.963075</td>\n      <td>2019-11-01 00:05:09</td>\n      <td>2019-11-30 23:55:21</td>\n      <td>0.018103</td>\n      <td>0.036946</td>\n      <td>0.489975</td>\n      <td>1.354121</td>\n    </tr>\n    <tr>\n      <th>41</th>\n      <td>2053013555631882655</td>\n      <td>1005217</td>\n      <td>electronics.smartphone</td>\n      <td>112654</td>\n      <td>4978</td>\n      <td>2332</td>\n      <td>146.967540</td>\n      <td>2019-11-01 00:18:35</td>\n      <td>2019-11-30 23:59:28</td>\n      <td>0.020701</td>\n      <td>0.044188</td>\n      <td>0.468461</td>\n      <td>-0.190610</td>\n    </tr>\n    <tr>\n      <th>42</th>\n      <td>2053013555631882655</td>\n      <td>1004258</td>\n      <td>electronics.smartphone</td>\n      <td>87781</td>\n      <td>4570</td>\n      <td>2270</td>\n      <td>777.663644</td>\n      <td>2019-11-01 00:00:02</td>\n      <td>2019-11-30 23:59:41</td>\n      <td>0.025860</td>\n      <td>0.052061</td>\n      <td>0.496718</td>\n      <td>1.489155</td>\n    </tr>\n    <tr>\n      <th>43</th>\n      <td>2053013555631882655</td>\n      <td>1005186</td>\n      <td>electronics.smartphone</td>\n      <td>88229</td>\n      <td>3403</td>\n      <td>2257</td>\n      <td>758.530603</td>\n      <td>2019-11-01 00:04:14</td>\n      <td>2019-11-30 23:54:25</td>\n      <td>0.025581</td>\n      <td>0.038570</td>\n      <td>0.663238</td>\n      <td>1.438197</td>\n    </tr>\n    <tr>\n      <th>44</th>\n      <td>2053013555631882655</td>\n      <td>1005203</td>\n      <td>electronics.smartphone</td>\n      <td>90533</td>\n      <td>5032</td>\n      <td>2238</td>\n      <td>107.797956</td>\n      <td>2019-11-01 00:25:48</td>\n      <td>2019-11-30 23:56:23</td>\n      <td>0.024720</td>\n      <td>0.055582</td>\n      <td>0.444754</td>\n      <td>-0.294933</td>\n    </tr>\n    <tr>\n      <th>45</th>\n      <td>2053013554415534427</td>\n      <td>1801766</td>\n      <td>electronics.video.tv</td>\n      <td>128283</td>\n      <td>5071</td>\n      <td>2238</td>\n      <td>152.484387</td>\n      <td>2019-11-01 00:03:34</td>\n      <td>2019-11-30 23:59:52</td>\n      <td>0.017446</td>\n      <td>0.039530</td>\n      <td>0.441333</td>\n      <td>-0.539038</td>\n    </tr>\n    <tr>\n      <th>46</th>\n      <td>2053013555631882655</td>\n      <td>1004246</td>\n      <td>electronics.smartphone</td>\n      <td>83609</td>\n      <td>4716</td>\n      <td>2213</td>\n      <td>757.855847</td>\n      <td>2019-11-01 00:20:39</td>\n      <td>2019-11-30 23:56:51</td>\n      <td>0.026468</td>\n      <td>0.056405</td>\n      <td>0.469254</td>\n      <td>1.436400</td>\n    </tr>\n    <tr>\n      <th>47</th>\n      <td>2053013555631882655</td>\n      <td>1004781</td>\n      <td>electronics.smartphone</td>\n      <td>88241</td>\n      <td>4236</td>\n      <td>2143</td>\n      <td>260.298181</td>\n      <td>2019-11-01 00:10:35</td>\n      <td>2019-11-30 23:35:50</td>\n      <td>0.024286</td>\n      <td>0.048005</td>\n      <td>0.505902</td>\n      <td>0.111229</td>\n    </tr>\n    <tr>\n      <th>48</th>\n      <td>2053013555631882655</td>\n      <td>1003317</td>\n      <td>electronics.smartphone</td>\n      <td>112169</td>\n      <td>3920</td>\n      <td>2034</td>\n      <td>956.043621</td>\n      <td>2019-11-01 00:00:18</td>\n      <td>2019-11-30 23:50:28</td>\n      <td>0.018133</td>\n      <td>0.034947</td>\n      <td>0.518878</td>\n      <td>1.964243</td>\n    </tr>\n    <tr>\n      <th>49</th>\n      <td>2053013555631882655</td>\n      <td>1005008</td>\n      <td>electronics.smartphone</td>\n      <td>83111</td>\n      <td>4393</td>\n      <td>2025</td>\n      <td>93.615008</td>\n      <td>2019-11-01 00:01:39</td>\n      <td>2019-11-30 23:58:52</td>\n      <td>0.024365</td>\n      <td>0.052857</td>\n      <td>0.460961</td>\n      <td>-0.332707</td>\n    </tr>\n  </tbody>\n</table>\n</div>"
          },
          "metadata": {}
        }
      ]
    },
    {
      "cell_type": "markdown",
      "source": [
        "## Collaborative Filtering"
      ],
      "metadata": {
        "id": "0LYbZMZnVavX"
      }
    },
    {
      "cell_type": "code",
      "source": [
        "last_date = df.agg(max('event_time')).collect()[0][0]\n",
        "df = df.withColumn('last_date', lit(last_date))\n",
        "\n",
        "df = df.withColumn('recency', (col('last_date').cast('double') - col('event_time').cast('double')) / 86400)\n",
        "df = df.drop('last_date')\n",
        "\n",
        "df = df.withColumn('recency_coef', expr('exp(ln(0.5)*recency/20)'))"
      ],
      "metadata": {
        "scrolled": true,
        "execution": {
          "iopub.status.busy": "2024-03-04T14:46:38.338226Z",
          "iopub.execute_input": "2024-03-04T14:46:38.338692Z",
          "iopub.status.idle": "2024-03-04T14:50:53.286430Z",
          "shell.execute_reply.started": "2024-03-04T14:46:38.338658Z",
          "shell.execute_reply": "2024-03-04T14:50:53.285063Z"
        },
        "trusted": true,
        "id": "hEDQjFC0VavY",
        "outputId": "939c55a2-b1b3-4ace-8489-9c9dd3a4a168"
      },
      "execution_count": null,
      "outputs": [
        {
          "name": "stderr",
          "text": "                                                                                \r",
          "output_type": "stream"
        }
      ]
    },
    {
      "cell_type": "code",
      "source": [
        "interactions = df.groupby(['user_id', 'product_id']).agg(sum(when(df['event_type'] == 'view', 1) * df['recency_coef']).alias('views'),\n",
        "                                                         sum(when(df['event_type'] == 'cart', 1) * df['recency_coef']).alias('carts'),\n",
        "                                                         sum(when(df['event_type'] == 'purchase', 1) * df['recency_coef']).alias('purchases'))\n",
        "interactions = interactions.na.fill(0)"
      ],
      "metadata": {
        "execution": {
          "iopub.status.busy": "2024-03-04T05:34:54.630436Z",
          "iopub.execute_input": "2024-03-04T05:34:54.631297Z",
          "iopub.status.idle": "2024-03-04T05:34:54.748003Z",
          "shell.execute_reply.started": "2024-03-04T05:34:54.631252Z",
          "shell.execute_reply": "2024-03-04T05:34:54.746806Z"
        },
        "trusted": true,
        "id": "bI36V_N6VavY"
      },
      "execution_count": null,
      "outputs": []
    },
    {
      "cell_type": "code",
      "source": [
        "def calculate_interaction_matrix(df, view_weight=0.1, cart_weight=0.3, purchase_weight=1.0):\n",
        "\n",
        "    df = df.withColumn('interaction', view_weight * col('views') + cart_weight * col('carts') + purchase_weight * col('purchases'))\n",
        "\n",
        "    df = df.withColumn('interaction', log10(col('interaction') + 1))\n",
        "\n",
        "    df = df.withColumn('interaction', when(col('interaction') > 2, 2).otherwise(col('interaction')))\n",
        "\n",
        "    return df\n",
        "\n",
        "interaction_matrix = calculate_interaction_matrix(interactions)"
      ],
      "metadata": {
        "execution": {
          "iopub.status.busy": "2024-03-04T05:34:54.753700Z",
          "iopub.execute_input": "2024-03-04T05:34:54.754963Z",
          "iopub.status.idle": "2024-03-04T05:34:54.765591Z",
          "shell.execute_reply.started": "2024-03-04T05:34:54.754894Z",
          "shell.execute_reply": "2024-03-04T05:34:54.764201Z"
        },
        "trusted": true,
        "id": "kC10_XJcVavZ"
      },
      "execution_count": null,
      "outputs": []
    },
    {
      "cell_type": "code",
      "source": [
        "interaction_matrix.sort('interaction', ascending=False).show()"
      ],
      "metadata": {
        "execution": {
          "iopub.status.busy": "2024-03-04T05:34:54.869009Z",
          "iopub.execute_input": "2024-03-04T05:34:54.869342Z",
          "iopub.status.idle": "2024-03-04T05:46:22.533307Z",
          "shell.execute_reply.started": "2024-03-04T05:34:54.869315Z",
          "shell.execute_reply": "2024-03-04T05:46:22.532012Z"
        },
        "trusted": true,
        "id": "yPzXpZcGVava",
        "outputId": "226f1b16-ff97-459c-9a3d-ece701d5b040"
      },
      "execution_count": null,
      "outputs": [
        {
          "name": "stderr",
          "text": "[Stage 197:===================================================>   (15 + 1) / 16]\r",
          "output_type": "stream"
        },
        {
          "name": "stdout",
          "text": "+---------+----------+------------------+------------------+------------------+------------------+\n|  user_id|product_id|             views|             carts|         purchases|       interaction|\n+---------+----------+------------------+------------------+------------------+------------------+\n|549030056|   1004856|118.77629885902095|62.657110294156816| 71.00154722881302|               2.0|\n|564068124|   1004833|139.54991783915665| 33.93168190423818| 99.65625067729745|               2.0|\n|552639168|   4100346|142.36639228501605| 66.44439531146062| 77.03626179428448|               2.0|\n|518514099|   1005116| 99.37373946113752|13.175932454920725| 88.01711693417916|               2.0|\n|543128872|   4804056|168.97402855276016|28.793344970527357| 134.8246254453266|               2.0|\n|564068124|   1004767| 99.10566057156981|21.353469680092054| 68.77746116880749|1.9349732296515765|\n|549385752|   4804056|105.15837234341382|26.966968912974835|57.385810309866244|1.8864441246686523|\n|513637414|   1004750| 92.84337288003907|37.829633495937244| 55.32620176540811|1.8862618373732227|\n|541385001|   1005113|100.90199281836969| 24.08036566283506| 57.00253023782487| 1.876892085922932|\n|521230795|   1005115|110.66344420921045| 39.91599700809583| 44.58826495358693|1.8365102556834823|\n|534790953|   1004249| 73.59647753153092|16.608509353422555| 54.24670099129443|1.8298753883809968|\n|512386086|   1801555| 77.17228192461036|38.458411999224005| 45.61276473244338| 1.818671289068296|\n|567928887|   1004856| 59.16997754226138|  35.2892721610963|48.062421454170746| 1.816680019799488|\n|512386086|   4201541| 74.15260344228795|   35.763327666123| 38.20937241646253|1.7585609183075819|\n|566195962|   1801723| 59.31880255182916|14.722810734322394| 43.17612803683671| 1.736594491536947|\n|545376441|   1002544| 75.30296015370868|33.121403783642336|35.818927345120734|1.7346849982698829|\n|521230795|   1005116| 83.06837782951793|   38.674648968375| 33.03756050652971|1.7319656319199426|\n|561787183|   1005168| 76.26748267293691| 26.98200114616191| 36.34688978971131|1.7248346714717364|\n|512842822|   1304410| 67.38950545659063|23.610706279538043|37.938199934226986|1.7223077696649938|\n|568411069|   4100346| 66.86457914127185| 30.71351263709505| 34.29598135201723|1.7092402129672841|\n+---------+----------+------------------+------------------+------------------+------------------+\nonly showing top 20 rows\n\n",
          "output_type": "stream"
        },
        {
          "name": "stderr",
          "text": "                                                                                \r",
          "output_type": "stream"
        }
      ]
    },
    {
      "cell_type": "code",
      "source": [
        "from pyspark.ml.recommendation import ALS\n",
        "from pyspark.ml.evaluation import RegressionEvaluator\n",
        "from pyspark.ml.tuning import CrossValidator, ParamGridBuilder\n",
        "from pyspark.ml import Pipeline\n",
        "\n",
        "def cross_validate_als(interaction_matrix):\n",
        "\n",
        "    als = ALS(userCol='user_id', itemCol='product_id', ratingCol='interaction',\n",
        "              nonnegative=True, coldStartStrategy='drop', implicitPrefs=True)\n",
        "\n",
        "    param_grid = ParamGridBuilder() \\\n",
        "        .addGrid(als.rank, [5, 10, 15, 20]) \\\n",
        "        .addGrid(als.regParam, [0.005, 0.01, 0.05, 0.1]) \\\n",
        "        .addGrid(als.alpha, [0, 1.0, 5.0]) \\\n",
        "        .build()\n",
        "\n",
        "    evaluator = RegressionEvaluator(metricName='rmse', labelCol='interaction', predictionCol='prediction')\n",
        "    cv = CrossValidator(estimator=als, estimatorParamMaps=param_grid, evaluator=evaluator, numFolds=5, collectSubModels=False)\n",
        "    pipeline = Pipeline(stages=[cv])\n",
        "    model = pipeline.fit(interaction_matrix)\n",
        "\n",
        "    return model"
      ],
      "metadata": {
        "execution": {
          "iopub.status.busy": "2024-03-04T05:46:22.538506Z",
          "iopub.execute_input": "2024-03-04T05:46:22.539051Z",
          "iopub.status.idle": "2024-03-04T05:46:23.458292Z",
          "shell.execute_reply.started": "2024-03-04T05:46:22.539005Z",
          "shell.execute_reply": "2024-03-04T05:46:23.456786Z"
        },
        "trusted": true,
        "id": "Lhp4LByGVavb"
      },
      "execution_count": null,
      "outputs": []
    },
    {
      "cell_type": "code",
      "source": [
        "model = cross_validate_als(interaction_matrix)\n",
        "\n",
        "bestModel = model.stages[0].bestModel\n",
        "\n",
        "predictions = bestModel.transform(interaction_matrix)\n",
        "\n",
        "evaluator = RegressionEvaluator(metricName='rmse', labelCol='interaction', predictionCol='prediction')\n",
        "rmse = evaluator.setMetricName('rmse').evaluate(predictions)\n",
        "mae = evaluator.setMetricName('mae').evaluate(predictions)\n",
        "print(' rmse:' + str(rmse) + ' mae:' + str(mae))\n",
        "\n",
        "regParam = bestModel._java_obj.parent().getRegParam()\n",
        "rank = bestModel._java_obj.parent().getRank()\n",
        "alpha = bestModel._java_obj.parent().getAlpha()\n",
        "print('rank:' + str(rank) + ' regParam:' + str(regParam) + ' alpha:' + str(alpha))"
      ],
      "metadata": {
        "execution": {
          "iopub.status.busy": "2024-03-03T15:00:57.734301Z",
          "iopub.execute_input": "2024-03-03T15:00:57.735277Z",
          "iopub.status.idle": "2024-03-03T17:43:14.466956Z",
          "shell.execute_reply.started": "2024-03-03T15:00:57.735235Z",
          "shell.execute_reply": "2024-03-03T17:43:14.462637Z"
        },
        "trusted": true,
        "id": "_esl0AWPVavb"
      },
      "execution_count": null,
      "outputs": []
    },
    {
      "cell_type": "code",
      "source": [
        "from pyspark.ml.recommendation import ALS\n",
        "from pyspark.ml.evaluation import RegressionEvaluator\n",
        "\n",
        "def simple_als(interaction_matrix):\n",
        "\n",
        "    (train, test) = interaction_matrix.randomSplit([0.8, 0.2])\n",
        "\n",
        "    als = ALS(userCol='user_id', itemCol='product_id', ratingCol='interaction',\n",
        "              alpha=1, regParam=0.005, rank=15, implicitPrefs=True,\n",
        "              nonnegative=True, coldStartStrategy='drop')\n",
        "\n",
        "    model = als.fit(train)\n",
        "\n",
        "    predictions = model.transform(test)\n",
        "    evaluator = RegressionEvaluator(metricName='rmse', labelCol='interaction', predictionCol='prediction')\n",
        "    rmse = evaluator.evaluate(predictions)\n",
        "    mae = evaluator.setMetricName('mae').evaluate(predictions)\n",
        "    print('test rmse:' + str(rmse) + ' mae:' + str(mae))\n",
        "\n",
        "    return model"
      ],
      "metadata": {
        "execution": {
          "iopub.status.busy": "2024-03-04T05:46:23.459891Z",
          "iopub.execute_input": "2024-03-04T05:46:23.460302Z",
          "iopub.status.idle": "2024-03-04T05:46:23.470713Z",
          "shell.execute_reply.started": "2024-03-04T05:46:23.460269Z",
          "shell.execute_reply": "2024-03-04T05:46:23.469301Z"
        },
        "trusted": true,
        "id": "M_2fEQyxVavc"
      },
      "execution_count": null,
      "outputs": []
    },
    {
      "cell_type": "code",
      "source": [
        "als_model = simple_als(interaction_matrix)"
      ],
      "metadata": {
        "execution": {
          "iopub.status.busy": "2024-03-04T05:46:23.472718Z",
          "iopub.execute_input": "2024-03-04T05:46:23.473162Z",
          "iopub.status.idle": "2024-03-04T06:45:44.405522Z",
          "shell.execute_reply.started": "2024-03-04T05:46:23.473127Z",
          "shell.execute_reply": "2024-03-04T06:45:44.403244Z"
        },
        "trusted": true,
        "id": "vapc60gnVavd",
        "outputId": "33f68693-dbc9-4c80-a841-2568861572eb"
      },
      "execution_count": null,
      "outputs": [
        {
          "name": "stderr",
          "text": "[Stage 867:================================================>        (6 + 1) / 7]\r",
          "output_type": "stream"
        },
        {
          "name": "stdout",
          "text": "test rmse:0.0928369745772974 mae:0.05432642733033301\n",
          "output_type": "stream"
        },
        {
          "name": "stderr",
          "text": "                                                                                \r",
          "output_type": "stream"
        }
      ]
    },
    {
      "cell_type": "markdown",
      "source": [
        "## Recommend Products for Users"
      ],
      "metadata": {
        "id": "uy2SEhTHVave"
      }
    },
    {
      "cell_type": "code",
      "source": [
        "user_subset = [565606905, 570112140, 564068124]\n",
        "recommendations = sc.createDataFrame([(user, 0) for user in user_subset], ['user_id', 'product_id'])\n",
        "recommendations = als_model.recommendForUserSubset(recommendations, 500)"
      ],
      "metadata": {
        "execution": {
          "iopub.status.busy": "2024-03-04T06:45:44.409009Z",
          "iopub.execute_input": "2024-03-04T06:45:44.409499Z",
          "iopub.status.idle": "2024-03-04T06:45:44.948312Z",
          "shell.execute_reply.started": "2024-03-04T06:45:44.409462Z",
          "shell.execute_reply": "2024-03-04T06:45:44.947049Z"
        },
        "trusted": true,
        "id": "mRWg-HPrVavf"
      },
      "execution_count": null,
      "outputs": []
    },
    {
      "cell_type": "code",
      "source": [
        "recommendations.show()"
      ],
      "metadata": {
        "execution": {
          "iopub.status.busy": "2024-03-04T06:45:44.950898Z",
          "iopub.execute_input": "2024-03-04T06:45:44.951396Z",
          "iopub.status.idle": "2024-03-04T06:46:01.984320Z",
          "shell.execute_reply.started": "2024-03-04T06:45:44.951354Z",
          "shell.execute_reply": "2024-03-04T06:46:01.982768Z"
        },
        "trusted": true,
        "id": "sg-7YhB_Vavf",
        "outputId": "4a05bc80-a855-4266-e863-1e9ab301524d"
      },
      "execution_count": null,
      "outputs": [
        {
          "name": "stderr",
          "text": "[Stage 923:====================================================>  (48 + 2) / 50]\r",
          "output_type": "stream"
        },
        {
          "name": "stdout",
          "text": "+---------+--------------------+\n|  user_id|     recommendations|\n+---------+--------------------+\n|570112140|[{1004833, 0.5887...|\n|565606905|[{1005115, 0.9853...|\n|564068124|[{1004873, 1.0589...|\n+---------+--------------------+\n\n",
          "output_type": "stream"
        },
        {
          "name": "stderr",
          "text": "                                                                                \r",
          "output_type": "stream"
        }
      ]
    },
    {
      "cell_type": "code",
      "source": [
        "recs_for_user_1 = sc.createDataFrame(recommendations.collect()[1][1])"
      ],
      "metadata": {
        "execution": {
          "iopub.status.busy": "2024-03-04T06:46:01.986577Z",
          "iopub.execute_input": "2024-03-04T06:46:01.987510Z",
          "iopub.status.idle": "2024-03-04T06:46:12.999680Z",
          "shell.execute_reply.started": "2024-03-04T06:46:01.987464Z",
          "shell.execute_reply": "2024-03-04T06:46:12.996898Z"
        },
        "trusted": true,
        "id": "DUSq-PaTVavg",
        "outputId": "dbee76b1-035c-4daf-ee0d-156646fa701e"
      },
      "execution_count": null,
      "outputs": [
        {
          "name": "stderr",
          "text": "                                                                                \r",
          "output_type": "stream"
        }
      ]
    },
    {
      "cell_type": "code",
      "source": [
        "interactions.filter(col('user_id') == 564068124).sort('purchases', ascending=False).show()"
      ],
      "metadata": {
        "execution": {
          "iopub.status.busy": "2024-03-04T06:46:13.002536Z",
          "iopub.execute_input": "2024-03-04T06:46:13.002915Z",
          "iopub.status.idle": "2024-03-04T06:55:06.199445Z",
          "shell.execute_reply.started": "2024-03-04T06:46:13.002886Z",
          "shell.execute_reply": "2024-03-04T06:55:06.197989Z"
        },
        "trusted": true,
        "id": "Hqk--jNXVavg",
        "outputId": "33c352af-5de5-4e2f-d375-393cc58c9a8c"
      },
      "execution_count": null,
      "outputs": [
        {
          "name": "stderr",
          "text": "[Stage 1058:===========>                                            (1 + 4) / 5]\r",
          "output_type": "stream"
        },
        {
          "name": "stdout",
          "text": "+---------+----------+------------------+-------------------+------------------+\n|  user_id|product_id|             views|              carts|         purchases|\n+---------+----------+------------------+-------------------+------------------+\n|564068124|   1004833|139.54991783915662|  33.93168190423818| 99.65625067729746|\n|564068124|   1004767| 99.10566057156984|  21.35346968009205| 68.77746116880749|\n|564068124|   1004856|22.286414097085476|  5.485494261870614|12.006362990183272|\n|564068124|   1004870|12.360455924522274| 2.8240715924850974|  8.56032828206366|\n|564068124|   1004873|10.745808997156987| 2.9390547109247525|  8.01436540346296|\n|564068124|   1005115| 9.649142656908744| 1.1602375014526323| 6.924999866007589|\n|564068124|   1003525| 5.740135679629443|                0.0| 4.576104202695865|\n|564068124|   1004875| 5.359923757611487|   0.89632110532636| 4.463581838693649|\n|564068124|   1307310| 3.429727471133744|  1.795425924579977|2.6126704924519952|\n|564068124|   1004858|2.8272097260555076| 0.5653909131855773|2.2617913673787156|\n|564068124|   1005186|2.6366121533009363|                0.0| 2.260001623893033|\n|564068124|   1002544|2.5790146241787646|0.36840412262634364| 2.210589663198723|\n|564068124|   1307545|3.4661725908387444| 0.6931797933123995| 2.079642818956845|\n|564068124|  21404397| 3.743007563822526|  0.920910286339787|1.8419073844766902|\n|564068124|   5100338|2.5545110648643967| 0.8514823976708903|1.7030126134955745|\n|564068124|   1004320| 2.497754187179987|                0.0|1.6651626778710997|\n|564068124|   1005100|2.2593632005303874|0.37653908430026317|1.5062037655949887|\n|564068124|   5100610| 1.913936736470578| 0.3828130204595373|1.1484209420902145|\n|564068124|   4804660|1.4734073729074115|0.49112022742769906| 0.982272566768376|\n|564068124|   1201465|1.3654886875358836| 0.4551541321085482|0.9103263393353906|\n+---------+----------+------------------+-------------------+------------------+\nonly showing top 20 rows\n\n",
          "output_type": "stream"
        },
        {
          "name": "stderr",
          "text": "                                                                                \r",
          "output_type": "stream"
        }
      ]
    },
    {
      "cell_type": "code",
      "source": [
        "def calculate_recommendation_scores_for_user(user_id, recs, products, users, coef_als_score=0.8, coef_conversion_rate=0.1, coef_spending_habit=0.1, coef_spending_booster=0.05):\n",
        "    recs = recs.join(products['product_id', 'purchase_per_view', 'relative_price'], on='product_id')\n",
        "    user_avg_relative_price = users.filter(col('user_id') == user_id)['user_id', 'avg_relative_price_purchased'].collect()[0][1]\n",
        "    recs = recs.withColumn('rating', col('rating') / 2)\n",
        "    recs = recs.withColumn('purchase_per_view', col('purchase_per_view') / 0.075)\n",
        "    recs = recs.withColumn('relative_price', (col('relative_price') + 5) / 10)\n",
        "    user_avg_relative_price = (user_avg_relative_price + 1) / 2\n",
        "    recs = recs.withColumn('recommendation_score', ((recs['rating'] * coef_als_score) + (recs['purchase_per_view'] * coef_conversion_rate) - abs(user_avg_relative_price + coef_spending_booster - recs['relative_price']) * coef_spending_habit) / (coef_als_score + coef_conversion_rate + coef_spending_habit))\n",
        "    recs = recs.withColumn('rating', col('rating') * 2)\n",
        "    recs = recs.withColumn('purchase_per_view', col('purchase_per_view') * 0.075)\n",
        "    recs = recs.withColumn('relative_price', col('relative_price') * 2 - 1)\n",
        "    user_avg_relative_price = user_avg_relative_price * 10 - 5\n",
        "\n",
        "    return recs"
      ],
      "metadata": {
        "execution": {
          "iopub.status.busy": "2024-03-04T06:55:06.201518Z",
          "iopub.execute_input": "2024-03-04T06:55:06.203107Z",
          "iopub.status.idle": "2024-03-04T06:55:06.227681Z",
          "shell.execute_reply.started": "2024-03-04T06:55:06.203019Z",
          "shell.execute_reply": "2024-03-04T06:55:06.226088Z"
        },
        "trusted": true,
        "id": "gq8xiCysVavi"
      },
      "execution_count": null,
      "outputs": []
    },
    {
      "cell_type": "code",
      "source": [
        "recs_user = calculate_recommendation_scores_for_user(564068124, recs_for_user_1, products, users)"
      ],
      "metadata": {
        "execution": {
          "iopub.status.busy": "2024-03-04T06:55:06.230161Z",
          "iopub.execute_input": "2024-03-04T06:55:06.231078Z",
          "iopub.status.idle": "2024-03-04T07:04:34.305143Z",
          "shell.execute_reply.started": "2024-03-04T06:55:06.231033Z",
          "shell.execute_reply": "2024-03-04T07:04:34.303862Z"
        },
        "trusted": true,
        "id": "xk6qG9tRVavi",
        "outputId": "82164b2c-7914-4f96-cb49-4430ffdebbca"
      },
      "execution_count": null,
      "outputs": [
        {
          "name": "stderr",
          "text": "                                                                                \r",
          "output_type": "stream"
        }
      ]
    },
    {
      "cell_type": "code",
      "source": [
        "recs_user.sort('recommendation_score', ascending=False).show()"
      ],
      "metadata": {
        "execution": {
          "iopub.status.busy": "2024-03-04T07:04:34.306884Z",
          "iopub.execute_input": "2024-03-04T07:04:34.308628Z",
          "iopub.status.idle": "2024-03-04T07:22:11.970398Z",
          "shell.execute_reply.started": "2024-03-04T07:04:34.308587Z",
          "shell.execute_reply": "2024-03-04T07:22:11.968920Z"
        },
        "trusted": true,
        "id": "HRgbRuMwVavk",
        "outputId": "341b1c36-6c73-4bf2-fb82-88daf787add1"
      },
      "execution_count": null,
      "outputs": [
        {
          "name": "stderr",
          "text": "                                                                                \r",
          "output_type": "stream"
        },
        {
          "name": "stdout",
          "text": "+----------+--------------------+--------------------+--------------------+--------------------+\n|product_id|              rating|   purchase_per_view|      relative_price|recommendation_score|\n+----------+--------------------+--------------------+--------------------+--------------------+\n|   1004767|  0.9750394225120544| 0.04682769446135623| 0.01444848433599133|  0.4440904726154273|\n|   1005115|  0.9853531122207642|0.038153719490231726|  0.3755420579370299| 0.43532041453309894|\n|   1005105|  0.9283467531204224|0.030766608274306273|  0.6034449976962315|  0.3912732422837682|\n|   1002544| 0.22544562816619873|0.050791579679888656|  0.1370693376880836| 0.15566917783606612|\n|   4804056| 0.06504727900028229|0.055915235016758866|  0.3504124335836738| 0.09213658316461013|\n|   1002524| 0.05744624510407448| 0.04750022822018684| 0.17715587613694495| 0.08608528292072375|\n|   1002633| 0.07430935651063919| 0.04402449827121454| 0.08567578305186885| 0.08362221623046609|\n|   1005135| 0.17164206504821777| 0.03130572038233317|  0.7636747121888816| 0.08129869747428968|\n|   1004838|  0.1060510128736496| 0.03380885021885342|-0.02991104390592...| 0.07691867335796597|\n|   1004856|0.010625545866787434| 0.06181341799265606|-0.04860587049062...|  0.0751531689243893|\n|  10701101|0.006446830928325653|0.051646529258469555|  0.2013256331084805| 0.07045913628186806|\n|   1004836|0.047420576214790344|0.043672053887023984|0.006326352436951677| 0.06842930673579328|\n|   1005116| 0.09494680166244507|0.031130792649907944|  0.4133905142588177| 0.06790156503991682|\n|   5100816| 0.06421759724617004| 0.03992258876468528|-0.08288061838283434| 0.06568847977757093|\n|   1002547|  0.0209965780377388| 0.04070552147239264| 0.14423060808584198|0.060799543694575395|\n|   1004565| 0.08609820157289505|0.027558625420980417|-0.02690015779614...|0.060754460079322295|\n|   1005129| 0.09023970365524292|0.032671650769098566|   0.586609896867611| 0.05941223419885046|\n|   1002629| 0.03428216278553009| 0.03712810425374969| 0.08054590311203302|0.058159652720144187|\n|   5100562|0.011668979190289974| 0.04534815681685197| 0.01998669993355562|0.057046489207260645|\n|   1004785| 0.08698270469903946|0.022597833240520428|0.022701572537244363| 0.05697395827250283|\n+----------+--------------------+--------------------+--------------------+--------------------+\nonly showing top 20 rows\n\n",
          "output_type": "stream"
        },
        {
          "name": "stderr",
          "text": "                                                                                \r",
          "output_type": "stream"
        }
      ]
    },
    {
      "cell_type": "code",
      "source": [
        "non_interacted_products = recs_user.join(interactions.filter(col('user_id') == 564068124), on='product_id', how='leftanti')\n",
        "non_interacted_products.sort('recommendation_score', ascending=False).show()"
      ],
      "metadata": {
        "execution": {
          "iopub.status.busy": "2024-03-04T07:22:11.972828Z",
          "iopub.execute_input": "2024-03-04T07:22:11.976120Z",
          "iopub.status.idle": "2024-03-04T07:47:04.085347Z",
          "shell.execute_reply.started": "2024-03-04T07:22:11.976053Z",
          "shell.execute_reply": "2024-03-04T07:47:04.084055Z"
        },
        "trusted": true,
        "id": "VuzdMf0QVavl",
        "outputId": "e037c726-19d4-4560-9f52-05d6605854db"
      },
      "execution_count": null,
      "outputs": [
        {
          "name": "stderr",
          "text": "                                                                                \r",
          "output_type": "stream"
        },
        {
          "name": "stdout",
          "text": "+----------+--------------------+--------------------+--------------------+--------------------+\n|product_id|              rating|   purchase_per_view|      relative_price|recommendation_score|\n+----------+--------------------+--------------------+--------------------+--------------------+\n|   1005105|  0.9283467531204224|0.030766608274306273|  0.6034449976962315|  0.3912732422837682|\n|   4804056| 0.06504727900028229|0.055915235016758866|  0.3504124335836738| 0.09213658316461013|\n|   1002524| 0.05744624510407448| 0.04750022822018684| 0.17715587613694495| 0.08608528292072375|\n|   1002633| 0.07430935651063919| 0.04402449827121454| 0.08567578305186885| 0.08362221623046609|\n|   1005135| 0.17164206504821777| 0.03130572038233317|  0.7636747121888816| 0.08129869747428968|\n|   1004838|  0.1060510128736496| 0.03380885021885342|-0.02991104390592...| 0.07691867335796597|\n|  10701101|0.006446830928325653|0.051646529258469555|  0.2013256331084805| 0.07045913628186806|\n|   1004836|0.047420576214790344|0.043672053887023984|0.006326352436951677| 0.06842930673579328|\n|   1005116| 0.09494680166244507|0.031130792649907944|  0.4133905142588177| 0.06790156503991682|\n|   5100816| 0.06421759724617004| 0.03992258876468528|-0.08288061838283434| 0.06568847977757093|\n|   1002547|  0.0209965780377388| 0.04070552147239264| 0.14423060808584198|0.060799543694575395|\n|   1005129| 0.09023970365524292|0.032671650769098566|   0.586609896867611| 0.05941223419885046|\n|   1002629| 0.03428216278553009| 0.03712810425374969| 0.08054590311203302|0.058159652720144187|\n|   1002532| 0.01765429973602295| 0.03794897829673816| 0.19845539595097073| 0.05682223438051395|\n|   1004768|0.062269046902656555|0.030016859807499414|0.013567311162147266| 0.05652381750783346|\n|   1003306| 0.03049813210964203| 0.03283277349667391| 0.19554136772308794| 0.05528386234127006|\n|   1801690| 0.07958168536424637|0.025465618114752068|-0.02877660120998...| 0.05526335501686613|\n|   1005239| 0.10688567906618118|0.013717852812959477| 0.02508987707743815|  0.0532145893429546|\n|   1005212|0.011574103496968746| 0.04196715458764727|-0.02252663573983915|0.050374869173989485|\n|   1005118| 0.03727572411298752| 0.03325114351057747|  0.3967329424152026| 0.04849314709320727|\n+----------+--------------------+--------------------+--------------------+--------------------+\nonly showing top 20 rows\n\n",
          "output_type": "stream"
        }
      ]
    },
    {
      "cell_type": "markdown",
      "source": [
        "## Recommend Similar Products"
      ],
      "metadata": {
        "id": "Jle_IwICVavm"
      }
    },
    {
      "cell_type": "code",
      "source": [
        "from pyspark.ml.linalg import Vectors\n",
        "from pyspark.ml.feature import VectorAssembler\n",
        "from pyspark.ml.feature import Normalizer\n",
        "from pyspark.ml.feature import SQLTransformer\n",
        "\n",
        "product_vectors = als_model.itemFactors\n",
        "product_vectors = product_vectors.rdd.map(lambda row: (row[0], Vectors.dense(row[1])))\n",
        "product_vectors = product_vectors.toDF(['product_id', 'features'])\n",
        "\n",
        "assembler = VectorAssembler(inputCols=['features'], outputCol='vector')\n",
        "product_vectors = assembler.transform(product_vectors)\n",
        "\n",
        "normalizer = Normalizer(inputCol='vector', outputCol='norm_vector')\n",
        "product_vectors = normalizer.transform(product_vectors)\n",
        "\n",
        "product_vector = product_vectors.where(col('product_id') == 5100067).select('norm_vector').collect()[0][0]\n",
        "product_vector"
      ],
      "metadata": {
        "execution": {
          "iopub.status.busy": "2024-03-04T07:47:04.087276Z",
          "iopub.execute_input": "2024-03-04T07:47:04.088792Z",
          "iopub.status.idle": "2024-03-04T07:47:14.691801Z",
          "shell.execute_reply.started": "2024-03-04T07:47:04.088745Z",
          "shell.execute_reply": "2024-03-04T07:47:14.690914Z"
        },
        "trusted": true,
        "id": "h5lMQQOuVavo",
        "outputId": "65e7aff4-bdc2-42ff-a12d-836d9e32fecd"
      },
      "execution_count": null,
      "outputs": [
        {
          "name": "stderr",
          "text": "                                                                                \r",
          "output_type": "stream"
        },
        {
          "execution_count": 50,
          "output_type": "execute_result",
          "data": {
            "text/plain": "DenseVector([0.0, 0.0, 0.2427, 0.0563, 0.0, 0.0, 0.0011, 0.4784, 0.111, 0.2474, 0.0904, 0.008, 0.1202, 0.7829, 0.0])"
          },
          "metadata": {}
        }
      ]
    },
    {
      "cell_type": "code",
      "source": [
        "from pyspark.ml.feature import BucketedRandomProjectionLSH\n",
        "\n",
        "brp = BucketedRandomProjectionLSH(inputCol=\"norm_vector\", outputCol=\"neighbors\", numHashTables=5, bucketLength=0.1)\n",
        "brp_model = brp.fit(product_vectors)\n",
        "query = product_vectors.filter(col('product_id') == 5100067).select('norm_vector').first()[0]\n",
        "neighbors = brp_model.approxNearestNeighbors(product_vectors, query, numNearestNeighbors=50)"
      ],
      "metadata": {
        "execution": {
          "iopub.status.busy": "2024-03-04T07:47:14.693655Z",
          "iopub.execute_input": "2024-03-04T07:47:14.694820Z",
          "iopub.status.idle": "2024-03-04T07:47:20.766761Z",
          "shell.execute_reply.started": "2024-03-04T07:47:14.694774Z",
          "shell.execute_reply": "2024-03-04T07:47:20.765525Z"
        },
        "trusted": true,
        "id": "ctx8NrhjVavp",
        "outputId": "56508cf2-dc26-4809-e7f3-7f6362048cfe"
      },
      "execution_count": null,
      "outputs": [
        {
          "name": "stderr",
          "text": "                                                                                \r",
          "output_type": "stream"
        }
      ]
    },
    {
      "cell_type": "code",
      "source": [
        "neighbors.select('product_id', 'distCol').show(truncate=False)"
      ],
      "metadata": {
        "execution": {
          "iopub.status.busy": "2024-03-04T07:47:20.768230Z",
          "iopub.execute_input": "2024-03-04T07:47:20.769261Z",
          "iopub.status.idle": "2024-03-04T07:47:27.782614Z",
          "shell.execute_reply.started": "2024-03-04T07:47:20.769218Z",
          "shell.execute_reply": "2024-03-04T07:47:27.781688Z"
        },
        "trusted": true,
        "id": "plGp3moJVavq",
        "outputId": "4b2c37c2-70ae-40c9-9509-0b3b767a96d1"
      },
      "execution_count": null,
      "outputs": [
        {
          "name": "stderr",
          "text": "[Stage 1413:============================================>          (8 + 2) / 10]\r",
          "output_type": "stream"
        },
        {
          "name": "stdout",
          "text": "+----------+-------------------+\n|product_id|distCol            |\n+----------+-------------------+\n|5100067   |0.0                |\n|5100343   |0.08841860213508962|\n|5100505   |0.09861238244765123|\n|5100604   |0.10482159743434806|\n|5100346   |0.11965644360949981|\n|5100338   |0.12016250786569516|\n|5100562   |0.12352265884596454|\n|5100689   |0.1362194636553884 |\n|5100365   |0.14253535750289695|\n|5100576   |0.15033471982236105|\n|5100572   |0.1529031172279817 |\n|5100337   |0.15586511816257986|\n|5100735   |0.15739057634411044|\n|5100570   |0.16056365061802622|\n|5100574   |0.1644178657566772 |\n|5100571   |0.1648571356009112 |\n|5100610   |0.1675802040172355 |\n|5100575   |0.16923975581189366|\n|40500173  |0.17233112328410555|\n|5100351   |0.18776271975242348|\n+----------+-------------------+\nonly showing top 20 rows\n\n",
          "output_type": "stream"
        },
        {
          "name": "stderr",
          "text": "                                                                                \r",
          "output_type": "stream"
        }
      ]
    },
    {
      "cell_type": "code",
      "source": [
        "def calculate_recommendation_scores_for_products(recs, products, coef_distance_score=0.8, coef_conversion_rate=0.1, coef_relative_price=0.1, coef_spending_booster=0.05):\n",
        "    recs = recs.join(products['product_id', 'purchase_per_view', 'relative_price'], on='product_id')\n",
        "    recs = recs.withColumn('distCol', (math.sqrt(2) - col('distCol')) / math.sqrt(2))\n",
        "    recs = recs.withColumn('purchase_per_view', col('purchase_per_view') / 0.075)\n",
        "    recs = recs.withColumn('relative_price', (col('relative_price') + 5) / 10)\n",
        "    product_relative_price = recs.filter(col('distCol') == 1)['product_id', 'relative_price'].collect()[0][1]\n",
        "    product_relative_price = (product_relative_price + 5) / 10\n",
        "    recs = recs.withColumn('recommendation_score', ((recs['distCol'] * coef_distance_score) + (recs['purchase_per_view'] * coef_conversion_rate) - abs(product_relative_price + coef_spending_booster - recs['relative_price']) * coef_relative_price) / (coef_distance_score + coef_conversion_rate + coef_relative_price))\n",
        "    recs = recs.filter(col('distCol') != 1)\n",
        "    recs = recs.withColumn('distCol', math.sqrt(2) - col('distCol') * math.sqrt(2))\n",
        "    recs = recs.withColumn('purchase_per_view', col('purchase_per_view') * 0.075)\n",
        "    recs = recs.withColumn('relative_price', col('relative_price') * 10 - 5)\n",
        "    product_relative_price = product_relative_price * 10 - 5\n",
        "\n",
        "    return recs"
      ],
      "metadata": {
        "execution": {
          "iopub.status.busy": "2024-03-04T07:47:27.783819Z",
          "iopub.execute_input": "2024-03-04T07:47:27.784205Z",
          "iopub.status.idle": "2024-03-04T07:47:27.799413Z",
          "shell.execute_reply.started": "2024-03-04T07:47:27.784175Z",
          "shell.execute_reply": "2024-03-04T07:47:27.797498Z"
        },
        "trusted": true,
        "id": "JcJr9sndVavr"
      },
      "execution_count": null,
      "outputs": []
    },
    {
      "cell_type": "code",
      "source": [
        "recs_product = calculate_recommendation_scores_for_products(neighbors.select('product_id', 'distCol'), products)"
      ],
      "metadata": {
        "execution": {
          "iopub.status.busy": "2024-03-04T07:47:27.800899Z",
          "iopub.execute_input": "2024-03-04T07:47:27.801336Z",
          "iopub.status.idle": "2024-03-04T08:02:09.299991Z",
          "shell.execute_reply.started": "2024-03-04T07:47:27.801305Z",
          "shell.execute_reply": "2024-03-04T08:02:09.298846Z"
        },
        "trusted": true,
        "id": "AUXK10vFVavs",
        "outputId": "a39fbe01-8610-4e10-f63b-bc44a14068f0"
      },
      "execution_count": null,
      "outputs": [
        {
          "name": "stderr",
          "text": "                                                                                \r",
          "output_type": "stream"
        }
      ]
    },
    {
      "cell_type": "code",
      "source": [
        "recs_product.sort('recommendation_score', ascending=False).toPandas() \\\n",
        "    .style.bar(color='lightgreen', subset='distCol') \\\n",
        "    .bar(color='pink', subset='purchase_per_view') \\\n",
        "    .bar(color='tan', subset='relative_price') \\\n",
        "    .bar(color='lightblue', subset='recommendation_score')\n"
      ],
      "metadata": {
        "scrolled": true,
        "execution": {
          "iopub.status.busy": "2024-03-04T08:02:09.301391Z",
          "iopub.execute_input": "2024-03-04T08:02:09.301754Z",
          "iopub.status.idle": "2024-03-04T08:19:34.465430Z",
          "shell.execute_reply.started": "2024-03-04T08:02:09.301724Z",
          "shell.execute_reply": "2024-03-04T08:19:34.464058Z"
        },
        "trusted": true,
        "id": "gMLWpC0eVavt",
        "outputId": "07cb1d73-4d54-49e3-d66b-b28858aca510"
      },
      "execution_count": null,
      "outputs": [
        {
          "name": "stderr",
          "text": "                                                                                \r",
          "output_type": "stream"
        },
        {
          "execution_count": 55,
          "output_type": "execute_result",
          "data": {
            "text/plain": "<pandas.io.formats.style.Styler at 0x7a31c77b5f90>",
            "text/html": "<style type=\"text/css\">\n#T_a5d69_row0_col1 {\n  width: 10em;\n  background: linear-gradient(90deg, lightgreen 32.4%, transparent 32.4%);\n}\n#T_a5d69_row0_col2 {\n  width: 10em;\n  background: linear-gradient(90deg, pink 75.3%, transparent 75.3%);\n}\n#T_a5d69_row0_col3 {\n  width: 10em;\n  background: linear-gradient(90deg, transparent 13.7%, tan 13.7%, tan 16.7%, transparent 16.7%);\n}\n#T_a5d69_row0_col4 {\n  width: 10em;\n  background: linear-gradient(90deg, lightblue 100.0%, transparent 100.0%);\n}\n#T_a5d69_row1_col1 {\n  width: 10em;\n  background: linear-gradient(90deg, lightgreen 45.2%, transparent 45.2%);\n}\n#T_a5d69_row1_col2 {\n  width: 10em;\n  background: linear-gradient(90deg, pink 100.0%, transparent 100.0%);\n}\n#T_a5d69_row1_col3, #T_a5d69_row2_col3, #T_a5d69_row5_col3, #T_a5d69_row41_col3 {\n  width: 10em;\n  background: linear-gradient(90deg, transparent 13.7%, tan 13.7%, tan 15.4%, transparent 15.4%);\n}\n#T_a5d69_row1_col4 {\n  width: 10em;\n  background: linear-gradient(90deg, lightblue 99.3%, transparent 99.3%);\n}\n#T_a5d69_row2_col1 {\n  width: 10em;\n  background: linear-gradient(90deg, lightgreen 38.4%, transparent 38.4%);\n}\n#T_a5d69_row2_col2 {\n  width: 10em;\n  background: linear-gradient(90deg, pink 77.0%, transparent 77.0%);\n}\n#T_a5d69_row2_col4 {\n  width: 10em;\n  background: linear-gradient(90deg, lightblue 98.9%, transparent 98.9%);\n}\n#T_a5d69_row3_col1 {\n  width: 10em;\n  background: linear-gradient(90deg, lightgreen 52.2%, transparent 52.2%);\n}\n#T_a5d69_row3_col2 {\n  width: 10em;\n  background: linear-gradient(90deg, pink 86.7%, transparent 86.7%);\n}\n#T_a5d69_row3_col3 {\n  width: 10em;\n  background: linear-gradient(90deg, transparent 13.7%, tan 13.7%, tan 15.9%, transparent 15.9%);\n}\n#T_a5d69_row3_col4 {\n  width: 10em;\n  background: linear-gradient(90deg, lightblue 96.9%, transparent 96.9%);\n}\n#T_a5d69_row4_col1 {\n  width: 10em;\n  background: linear-gradient(90deg, lightgreen 49.9%, transparent 49.9%);\n}\n#T_a5d69_row4_col2 {\n  width: 10em;\n  background: linear-gradient(90deg, pink 78.9%, transparent 78.9%);\n}\n#T_a5d69_row4_col3 {\n  width: 10em;\n  background: linear-gradient(90deg, transparent 13.7%, tan 13.7%, tan 16.1%, transparent 16.1%);\n}\n#T_a5d69_row4_col4 {\n  width: 10em;\n  background: linear-gradient(90deg, lightblue 96.8%, transparent 96.8%);\n}\n#T_a5d69_row5_col1 {\n  width: 10em;\n  background: linear-gradient(90deg, lightgreen 36.1%, transparent 36.1%);\n}\n#T_a5d69_row5_col2 {\n  width: 10em;\n  background: linear-gradient(90deg, pink 38.7%, transparent 38.7%);\n}\n#T_a5d69_row5_col4 {\n  width: 10em;\n  background: linear-gradient(90deg, lightblue 96.4%, transparent 96.4%);\n}\n#T_a5d69_row6_col1 {\n  width: 10em;\n  background: linear-gradient(90deg, lightgreen 44.0%, transparent 44.0%);\n}\n#T_a5d69_row6_col2 {\n  width: 10em;\n  background: linear-gradient(90deg, pink 57.6%, transparent 57.6%);\n}\n#T_a5d69_row6_col3 {\n  width: 10em;\n  background: linear-gradient(90deg, transparent 13.7%, tan 13.7%, tan 15.3%, transparent 15.3%);\n}\n#T_a5d69_row6_col4 {\n  width: 10em;\n  background: linear-gradient(90deg, lightblue 96.3%, transparent 96.3%);\n}\n#T_a5d69_row7_col1 {\n  width: 10em;\n  background: linear-gradient(90deg, lightgreen 61.4%, transparent 61.4%);\n}\n#T_a5d69_row7_col2 {\n  width: 10em;\n  background: linear-gradient(90deg, pink 86.1%, transparent 86.1%);\n}\n#T_a5d69_row7_col3, #T_a5d69_row15_col3 {\n  width: 10em;\n  background: linear-gradient(90deg, transparent 13.7%, tan 13.7%, tan 15.1%, transparent 15.1%);\n}\n#T_a5d69_row7_col4 {\n  width: 10em;\n  background: linear-gradient(90deg, lightblue 95.0%, transparent 95.0%);\n}\n#T_a5d69_row8_col1 {\n  width: 10em;\n  background: linear-gradient(90deg, lightgreen 43.8%, transparent 43.8%);\n}\n#T_a5d69_row8_col2 {\n  width: 10em;\n  background: linear-gradient(90deg, pink 34.2%, transparent 34.2%);\n}\n#T_a5d69_row8_col3, #T_a5d69_row23_col3 {\n  width: 10em;\n  background: linear-gradient(90deg, transparent 13.7%, tan 13.7%, tan 17.3%, transparent 17.3%);\n}\n#T_a5d69_row8_col4 {\n  width: 10em;\n  background: linear-gradient(90deg, lightblue 94.6%, transparent 94.6%);\n}\n#T_a5d69_row9_col1 {\n  width: 10em;\n  background: linear-gradient(90deg, lightgreen 55.1%, transparent 55.1%);\n}\n#T_a5d69_row9_col2 {\n  width: 10em;\n  background: linear-gradient(90deg, pink 58.5%, transparent 58.5%);\n}\n#T_a5d69_row9_col3 {\n  width: 10em;\n  background: linear-gradient(90deg, transparent 13.7%, tan 13.7%, tan 20.1%, transparent 20.1%);\n}\n#T_a5d69_row9_col4 {\n  width: 10em;\n  background: linear-gradient(90deg, lightblue 94.5%, transparent 94.5%);\n}\n#T_a5d69_row10_col1 {\n  width: 10em;\n  background: linear-gradient(90deg, lightgreen 56.0%, transparent 56.0%);\n}\n#T_a5d69_row10_col2 {\n  width: 10em;\n  background: linear-gradient(90deg, pink 59.1%, transparent 59.1%);\n}\n#T_a5d69_row10_col3, #T_a5d69_row12_col3, #T_a5d69_row13_col3 {\n  width: 10em;\n  background: linear-gradient(90deg, transparent 13.7%, tan 13.7%, tan 20.3%, transparent 20.3%);\n}\n#T_a5d69_row10_col4 {\n  width: 10em;\n  background: linear-gradient(90deg, lightblue 94.4%, transparent 94.4%);\n}\n#T_a5d69_row11_col1 {\n  width: 10em;\n  background: linear-gradient(90deg, lightgreen 57.1%, transparent 57.1%);\n}\n#T_a5d69_row11_col2 {\n  width: 10em;\n  background: linear-gradient(90deg, pink 54.9%, transparent 54.9%);\n}\n#T_a5d69_row11_col3 {\n  width: 10em;\n  background: linear-gradient(90deg, transparent 13.7%, tan 13.7%, tan 16.4%, transparent 16.4%);\n}\n#T_a5d69_row11_col4 {\n  width: 10em;\n  background: linear-gradient(90deg, lightblue 93.6%, transparent 93.6%);\n}\n#T_a5d69_row12_col1 {\n  width: 10em;\n  background: linear-gradient(90deg, lightgreen 62.0%, transparent 62.0%);\n}\n#T_a5d69_row12_col2 {\n  width: 10em;\n  background: linear-gradient(90deg, pink 51.8%, transparent 51.8%);\n}\n#T_a5d69_row12_col4 {\n  width: 10em;\n  background: linear-gradient(90deg, lightblue 92.7%, transparent 92.7%);\n}\n#T_a5d69_row13_col1 {\n  width: 10em;\n  background: linear-gradient(90deg, lightgreen 60.4%, transparent 60.4%);\n}\n#T_a5d69_row13_col2 {\n  width: 10em;\n  background: linear-gradient(90deg, pink 46.0%, transparent 46.0%);\n}\n#T_a5d69_row13_col4 {\n  width: 10em;\n  background: linear-gradient(90deg, lightblue 92.5%, transparent 92.5%);\n}\n#T_a5d69_row14_col1 {\n  width: 10em;\n  background: linear-gradient(90deg, lightgreen 58.8%, transparent 58.8%);\n}\n#T_a5d69_row14_col2 {\n  width: 10em;\n  background: linear-gradient(90deg, pink 38.4%, transparent 38.4%);\n}\n#T_a5d69_row14_col3, #T_a5d69_row18_col3 {\n  width: 10em;\n  background: linear-gradient(90deg, transparent 13.7%, tan 13.7%, tan 21.3%, transparent 21.3%);\n}\n#T_a5d69_row14_col4 {\n  width: 10em;\n  background: linear-gradient(90deg, lightblue 92.3%, transparent 92.3%);\n}\n#T_a5d69_row15_col1 {\n  width: 10em;\n  background: linear-gradient(90deg, lightgreen 68.8%, transparent 68.8%);\n}\n#T_a5d69_row15_col2 {\n  width: 10em;\n  background: linear-gradient(90deg, pink 63.1%, transparent 63.1%);\n}\n#T_a5d69_row15_col4 {\n  width: 10em;\n  background: linear-gradient(90deg, lightblue 91.8%, transparent 91.8%);\n}\n#T_a5d69_row16_col1 {\n  width: 10em;\n  background: linear-gradient(90deg, lightgreen 60.2%, transparent 60.2%);\n}\n#T_a5d69_row16_col2 {\n  width: 10em;\n  background: linear-gradient(90deg, pink 32.6%, transparent 32.6%);\n}\n#T_a5d69_row16_col3 {\n  width: 10em;\n  background: linear-gradient(90deg, transparent 13.7%, tan 13.7%, tan 21.8%, transparent 21.8%);\n}\n#T_a5d69_row16_col4, #T_a5d69_row17_col4 {\n  width: 10em;\n  background: linear-gradient(90deg, lightblue 91.6%, transparent 91.6%);\n}\n#T_a5d69_row17_col1 {\n  width: 10em;\n  background: linear-gradient(90deg, lightgreen 63.1%, transparent 63.1%);\n}\n#T_a5d69_row17_col2 {\n  width: 10em;\n  background: linear-gradient(90deg, pink 31.4%, transparent 31.4%);\n}\n#T_a5d69_row17_col3 {\n  width: 10em;\n  background: linear-gradient(90deg, transparent 13.7%, tan 13.7%, tan 30.1%, transparent 30.1%);\n}\n#T_a5d69_row18_col1 {\n  width: 10em;\n  background: linear-gradient(90deg, lightgreen 71.2%, transparent 71.2%);\n}\n#T_a5d69_row18_col2 {\n  width: 10em;\n  background: linear-gradient(90deg, pink 59.2%, transparent 59.2%);\n}\n#T_a5d69_row18_col4 {\n  width: 10em;\n  background: linear-gradient(90deg, lightblue 91.5%, transparent 91.5%);\n}\n#T_a5d69_row19_col1 {\n  width: 10em;\n  background: linear-gradient(90deg, lightgreen 57.6%, transparent 57.6%);\n}\n#T_a5d69_row19_col2 {\n  width: 10em;\n  background: linear-gradient(90deg, pink 21.2%, transparent 21.2%);\n}\n#T_a5d69_row19_col3 {\n  width: 10em;\n  background: linear-gradient(90deg, transparent 13.7%, tan 13.7%, tan 23.6%, transparent 23.6%);\n}\n#T_a5d69_row19_col4 {\n  width: 10em;\n  background: linear-gradient(90deg, lightblue 91.4%, transparent 91.4%);\n}\n#T_a5d69_row20_col1 {\n  width: 10em;\n  background: linear-gradient(90deg, lightgreen 74.4%, transparent 74.4%);\n}\n#T_a5d69_row20_col2 {\n  width: 10em;\n  background: linear-gradient(90deg, pink 63.6%, transparent 63.6%);\n}\n#T_a5d69_row20_col3 {\n  width: 10em;\n  background: linear-gradient(90deg, transparent 13.7%, tan 13.7%, tan 21.2%, transparent 21.2%);\n}\n#T_a5d69_row20_col4 {\n  width: 10em;\n  background: linear-gradient(90deg, lightblue 91.2%, transparent 91.2%);\n}\n#T_a5d69_row21_col1, #T_a5d69_row33_col1 {\n  width: 10em;\n  background: linear-gradient(90deg, lightgreen 76.9%, transparent 76.9%);\n}\n#T_a5d69_row21_col2 {\n  width: 10em;\n  background: linear-gradient(90deg, pink 56.3%, transparent 56.3%);\n}\n#T_a5d69_row21_col3 {\n  width: 10em;\n  background: linear-gradient(90deg, transparent 13.7%, tan 13.7%, tan 32.8%, transparent 32.8%);\n}\n#T_a5d69_row21_col4 {\n  width: 10em;\n  background: linear-gradient(90deg, lightblue 90.7%, transparent 90.7%);\n}\n#T_a5d69_row22_col1 {\n  width: 10em;\n  background: linear-gradient(90deg, lightgreen 74.0%, transparent 74.0%);\n}\n#T_a5d69_row22_col2 {\n  width: 10em;\n  background: linear-gradient(90deg, pink 28.1%, transparent 28.1%);\n}\n#T_a5d69_row22_col3 {\n  width: 10em;\n  background: linear-gradient(90deg, transparent 13.7%, tan 13.7%, tan 22.0%, transparent 22.0%);\n}\n#T_a5d69_row22_col4 {\n  width: 10em;\n  background: linear-gradient(90deg, lightblue 88.6%, transparent 88.6%);\n}\n#T_a5d69_row23_col1 {\n  width: 10em;\n  background: linear-gradient(90deg, lightgreen 84.4%, transparent 84.4%);\n}\n#T_a5d69_row23_col2 {\n  width: 10em;\n  background: linear-gradient(90deg, pink 49.5%, transparent 49.5%);\n}\n#T_a5d69_row23_col4 {\n  width: 10em;\n  background: linear-gradient(90deg, lightblue 87.8%, transparent 87.8%);\n}\n#T_a5d69_row24_col1 {\n  width: 10em;\n  background: linear-gradient(90deg, lightgreen 79.2%, transparent 79.2%);\n}\n#T_a5d69_row24_col2 {\n  width: 10em;\n  background: linear-gradient(90deg, pink 28.2%, transparent 28.2%);\n}\n#T_a5d69_row24_col3 {\n  width: 10em;\n  background: linear-gradient(90deg, transparent 13.7%, tan 13.7%, tan 23.0%, transparent 23.0%);\n}\n#T_a5d69_row24_col4 {\n  width: 10em;\n  background: linear-gradient(90deg, lightblue 87.7%, transparent 87.7%);\n}\n#T_a5d69_row25_col1 {\n  width: 10em;\n  background: linear-gradient(90deg, lightgreen 79.7%, transparent 79.7%);\n}\n#T_a5d69_row25_col2 {\n  width: 10em;\n  background: linear-gradient(90deg, pink 27.2%, transparent 27.2%);\n}\n#T_a5d69_row25_col3 {\n  width: 10em;\n  background: linear-gradient(90deg, transparent 13.7%, tan 13.7%, tan 21.5%, transparent 21.5%);\n}\n#T_a5d69_row25_col4 {\n  width: 10em;\n  background: linear-gradient(90deg, lightblue 87.4%, transparent 87.4%);\n}\n#T_a5d69_row26_col1 {\n  width: 10em;\n  background: linear-gradient(90deg, lightgreen 78.3%, transparent 78.3%);\n}\n#T_a5d69_row26_col2 {\n  width: 10em;\n  background: linear-gradient(90deg, pink 17.5%, transparent 17.5%);\n}\n#T_a5d69_row26_col3 {\n  width: 10em;\n  background: linear-gradient(90deg, transparent 13.7%, tan 13.7%, tan 23.3%, transparent 23.3%);\n}\n#T_a5d69_row26_col4 {\n  width: 10em;\n  background: linear-gradient(90deg, lightblue 87.0%, transparent 87.0%);\n}\n#T_a5d69_row27_col1 {\n  width: 10em;\n  background: linear-gradient(90deg, lightgreen 97.8%, transparent 97.8%);\n}\n#T_a5d69_row27_col2 {\n  width: 10em;\n  background: linear-gradient(90deg, pink 55.6%, transparent 55.6%);\n}\n#T_a5d69_row27_col3 {\n  width: 10em;\n  background: linear-gradient(90deg, transparent 13.7%, tan 13.7%, tan 23.8%, transparent 23.8%);\n}\n#T_a5d69_row27_col4 {\n  width: 10em;\n  background: linear-gradient(90deg, lightblue 86.2%, transparent 86.2%);\n}\n#T_a5d69_row28_col1 {\n  width: 10em;\n  background: linear-gradient(90deg, lightgreen 76.4%, transparent 76.4%);\n}\n#T_a5d69_row28_col2 {\n  width: 10em;\n  background: linear-gradient(90deg, pink 25.6%, transparent 25.6%);\n}\n#T_a5d69_row28_col3 {\n  width: 10em;\n  background: linear-gradient(90deg, transparent 13.7%, tan 13.7%, tan 65.2%, transparent 65.2%);\n}\n#T_a5d69_row28_col4 {\n  width: 10em;\n  background: linear-gradient(90deg, lightblue 86.1%, transparent 86.1%);\n}\n#T_a5d69_row29_col1 {\n  width: 10em;\n  background: linear-gradient(90deg, lightgreen 85.5%, transparent 85.5%);\n}\n#T_a5d69_row29_col2, #T_a5d69_row36_col2 {\n  width: 10em;\n  background: linear-gradient(90deg, pink 15.3%, transparent 15.3%);\n}\n#T_a5d69_row29_col3 {\n  width: 10em;\n  background: linear-gradient(90deg, transparent 13.7%, tan 13.7%, tan 22.7%, transparent 22.7%);\n}\n#T_a5d69_row29_col4 {\n  width: 10em;\n  background: linear-gradient(90deg, lightblue 85.4%, transparent 85.4%);\n}\n#T_a5d69_row30_col1 {\n  width: 10em;\n  background: linear-gradient(90deg, lightgreen 96.9%, transparent 96.9%);\n}\n#T_a5d69_row30_col2 {\n  width: 10em;\n  background: linear-gradient(90deg, pink 41.0%, transparent 41.0%);\n}\n#T_a5d69_row30_col3 {\n  width: 10em;\n  background: linear-gradient(90deg, transparent 13.7%, tan 13.7%, tan 43.5%, transparent 43.5%);\n}\n#T_a5d69_row30_col4 {\n  width: 10em;\n  background: linear-gradient(90deg, lightblue 84.9%, transparent 84.9%);\n}\n#T_a5d69_row31_col1 {\n  width: 10em;\n  background: linear-gradient(90deg, lightgreen 99.7%, transparent 99.7%);\n}\n#T_a5d69_row31_col2 {\n  width: 10em;\n  background: linear-gradient(90deg, pink 53.5%, transparent 53.5%);\n}\n#T_a5d69_row31_col3 {\n  width: 10em;\n  background: linear-gradient(90deg, transparent 13.7%, tan 13.7%, tan 49.3%, transparent 49.3%);\n}\n#T_a5d69_row31_col4, #T_a5d69_row32_col4 {\n  width: 10em;\n  background: linear-gradient(90deg, lightblue 84.8%, transparent 84.8%);\n}\n#T_a5d69_row32_col1 {\n  width: 10em;\n  background: linear-gradient(90deg, lightgreen 89.8%, transparent 89.8%);\n}\n#T_a5d69_row32_col2 {\n  width: 10em;\n  background: linear-gradient(90deg, pink 15.0%, transparent 15.0%);\n}\n#T_a5d69_row32_col3 {\n  width: 10em;\n  background: linear-gradient(90deg, transparent 13.7%, tan 13.7%, tan 36.3%, transparent 36.3%);\n}\n#T_a5d69_row33_col2 {\n  width: 10em;\n  background: linear-gradient(90deg, pink 25.5%, transparent 25.5%);\n}\n#T_a5d69_row33_col3, #T_a5d69_row45_col3 {\n  width: 10em;\n  background: linear-gradient(90deg, transparent 13.7%, tan 13.7%, tan 89.9%, transparent 89.9%);\n}\n#T_a5d69_row33_col4 {\n  width: 10em;\n  background: linear-gradient(90deg, lightblue 84.2%, transparent 84.2%);\n}\n#T_a5d69_row34_col1, #T_a5d69_row35_col1 {\n  width: 10em;\n  background: linear-gradient(90deg, lightgreen 87.2%, transparent 87.2%);\n}\n#T_a5d69_row34_col2 {\n  width: 10em;\n  background: linear-gradient(90deg, pink 23.4%, transparent 23.4%);\n}\n#T_a5d69_row34_col3 {\n  width: 10em;\n  background: linear-gradient(90deg, tan 13.7%, transparent 13.7%);\n}\n#T_a5d69_row34_col4 {\n  width: 10em;\n  background: linear-gradient(90deg, lightblue 84.0%, transparent 84.0%);\n}\n#T_a5d69_row35_col2 {\n  width: 10em;\n  background: linear-gradient(90deg, pink 16.6%, transparent 16.6%);\n}\n#T_a5d69_row35_col3 {\n  width: 10em;\n  background: linear-gradient(90deg, transparent 13.7%, tan 13.7%, tan 58.2%, transparent 58.2%);\n}\n#T_a5d69_row35_col4, #T_a5d69_row36_col4, #T_a5d69_row37_col4, #T_a5d69_row38_col4 {\n  width: 10em;\n  background: linear-gradient(90deg, lightblue 83.8%, transparent 83.8%);\n}\n#T_a5d69_row36_col1 {\n  width: 10em;\n  background: linear-gradient(90deg, lightgreen 94.7%, transparent 94.7%);\n}\n#T_a5d69_row36_col3 {\n  width: 10em;\n  background: linear-gradient(90deg, transparent 13.7%, tan 13.7%, tan 25.6%, transparent 25.6%);\n}\n#T_a5d69_row37_col1 {\n  width: 10em;\n  background: linear-gradient(90deg, lightgreen 96.0%, transparent 96.0%);\n}\n#T_a5d69_row37_col2 {\n  width: 10em;\n  background: linear-gradient(90deg, pink 29.5%, transparent 29.5%);\n}\n#T_a5d69_row37_col3 {\n  width: 10em;\n  background: linear-gradient(90deg, transparent 13.7%, tan 13.7%, tan 14.0%, transparent 14.0%);\n}\n#T_a5d69_row38_col1 {\n  width: 10em;\n  background: linear-gradient(90deg, lightgreen 95.5%, transparent 95.5%);\n}\n#T_a5d69_row38_col2 {\n  width: 10em;\n  background: linear-gradient(90deg, pink 14.2%, transparent 14.2%);\n}\n#T_a5d69_row38_col3 {\n  width: 10em;\n  background: linear-gradient(90deg, transparent 13.7%, tan 13.7%, tan 28.7%, transparent 28.7%);\n}\n#T_a5d69_row39_col1 {\n  width: 10em;\n  background: linear-gradient(90deg, lightgreen 90.6%, transparent 90.6%);\n}\n#T_a5d69_row39_col2 {\n  width: 10em;\n  background: linear-gradient(90deg, pink 31.2%, transparent 31.2%);\n}\n#T_a5d69_row39_col3, #T_a5d69_row48_col3 {\n  width: 10em;\n  background: linear-gradient(90deg, transparent 13.7%, tan 13.7%, tan 66.8%, transparent 66.8%);\n}\n#T_a5d69_row39_col4 {\n  width: 10em;\n  background: linear-gradient(90deg, lightblue 83.6%, transparent 83.6%);\n}\n#T_a5d69_row40_col1 {\n  width: 10em;\n  background: linear-gradient(90deg, lightgreen 92.8%, transparent 92.8%);\n}\n#T_a5d69_row40_col2 {\n  width: 10em;\n  background: linear-gradient(90deg, pink 31.1%, transparent 31.1%);\n}\n#T_a5d69_row40_col3 {\n  width: 10em;\n  background: linear-gradient(90deg, transparent 13.7%, tan 13.7%, tan 63.4%, transparent 63.4%);\n}\n#T_a5d69_row40_col4 {\n  width: 10em;\n  background: linear-gradient(90deg, lightblue 83.5%, transparent 83.5%);\n}\n#T_a5d69_row41_col1 {\n  width: 10em;\n  background: linear-gradient(90deg, lightgreen 93.6%, transparent 93.6%);\n}\n#T_a5d69_row41_col2 {\n  width: 10em;\n  background: linear-gradient(90deg, pink 8.1%, transparent 8.1%);\n}\n#T_a5d69_row41_col4, #T_a5d69_row42_col4 {\n  width: 10em;\n  background: linear-gradient(90deg, lightblue 82.7%, transparent 82.7%);\n}\n#T_a5d69_row42_col1 {\n  width: 10em;\n  background: linear-gradient(90deg, lightgreen 97.2%, transparent 97.2%);\n}\n#T_a5d69_row42_col2 {\n  width: 10em;\n  background: linear-gradient(90deg, pink 16.3%, transparent 16.3%);\n}\n#T_a5d69_row42_col3 {\n  width: 10em;\n  background: linear-gradient(90deg, transparent 13.7%, tan 13.7%, tan 15.8%, transparent 15.8%);\n}\n#T_a5d69_row43_col1 {\n  width: 10em;\n  background: linear-gradient(90deg, lightgreen 100.0%, transparent 100.0%);\n}\n#T_a5d69_row43_col2 {\n  width: 10em;\n  background: linear-gradient(90deg, pink 11.6%, transparent 11.6%);\n}\n#T_a5d69_row43_col3 {\n  width: 10em;\n  background: linear-gradient(90deg, transparent 13.7%, tan 13.7%, tan 22.2%, transparent 22.2%);\n}\n#T_a5d69_row43_col4 {\n  width: 10em;\n  background: linear-gradient(90deg, lightblue 82.2%, transparent 82.2%);\n}\n#T_a5d69_row44_col1 {\n  width: 10em;\n  background: linear-gradient(90deg, lightgreen 93.3%, transparent 93.3%);\n}\n#T_a5d69_row44_col2 {\n  width: 10em;\n  background: linear-gradient(90deg, pink 23.7%, transparent 23.7%);\n}\n#T_a5d69_row44_col3 {\n  width: 10em;\n  background: linear-gradient(90deg, transparent 13.7%, tan 13.7%, tan 72.8%, transparent 72.8%);\n}\n#T_a5d69_row44_col4 {\n  width: 10em;\n  background: linear-gradient(90deg, lightblue 82.1%, transparent 82.1%);\n}\n#T_a5d69_row45_col1 {\n  width: 10em;\n  background: linear-gradient(90deg, lightgreen 89.1%, transparent 89.1%);\n}\n#T_a5d69_row45_col2 {\n  width: 10em;\n  background: linear-gradient(90deg, pink 19.9%, transparent 19.9%);\n}\n#T_a5d69_row45_col4 {\n  width: 10em;\n  background: linear-gradient(90deg, lightblue 81.4%, transparent 81.4%);\n}\n#T_a5d69_row46_col1 {\n  width: 10em;\n  background: linear-gradient(90deg, lightgreen 99.4%, transparent 99.4%);\n}\n#T_a5d69_row46_col2 {\n  width: 10em;\n  background: linear-gradient(90deg, pink 21.4%, transparent 21.4%);\n}\n#T_a5d69_row46_col3 {\n  width: 10em;\n  background: linear-gradient(90deg, transparent 13.7%, tan 13.7%, tan 66.6%, transparent 66.6%);\n}\n#T_a5d69_row46_col4 {\n  width: 10em;\n  background: linear-gradient(90deg, lightblue 81.2%, transparent 81.2%);\n}\n#T_a5d69_row47_col1 {\n  width: 10em;\n  background: linear-gradient(90deg, lightgreen 85.1%, transparent 85.1%);\n}\n#T_a5d69_row47_col2 {\n  width: 10em;\n  background: linear-gradient(90deg, pink 16.2%, transparent 16.2%);\n}\n#T_a5d69_row47_col3 {\n  width: 10em;\n  background: linear-gradient(90deg, transparent 13.7%, tan 13.7%, tan 100.0%, transparent 100.0%);\n}\n#T_a5d69_row47_col4 {\n  width: 10em;\n  background: linear-gradient(90deg, lightblue 81.1%, transparent 81.1%);\n}\n#T_a5d69_row48_col1 {\n  width: 10em;\n  background: linear-gradient(90deg, lightgreen 98.1%, transparent 98.1%);\n}\n#T_a5d69_row48_col2 {\n  width: 10em;\n  background: linear-gradient(90deg, pink 14.7%, transparent 14.7%);\n}\n#T_a5d69_row48_col4 {\n  width: 10em;\n  background: linear-gradient(90deg, lightblue 80.9%, transparent 80.9%);\n}\n</style>\n<table id=\"T_a5d69\">\n  <thead>\n    <tr>\n      <th class=\"blank level0\" >&nbsp;</th>\n      <th id=\"T_a5d69_level0_col0\" class=\"col_heading level0 col0\" >product_id</th>\n      <th id=\"T_a5d69_level0_col1\" class=\"col_heading level0 col1\" >distCol</th>\n      <th id=\"T_a5d69_level0_col2\" class=\"col_heading level0 col2\" >purchase_per_view</th>\n      <th id=\"T_a5d69_level0_col3\" class=\"col_heading level0 col3\" >relative_price</th>\n      <th id=\"T_a5d69_level0_col4\" class=\"col_heading level0 col4\" >recommendation_score</th>\n    </tr>\n  </thead>\n  <tbody>\n    <tr>\n      <th id=\"T_a5d69_level0_row0\" class=\"row_heading level0 row0\" >0</th>\n      <td id=\"T_a5d69_row0_col0\" class=\"data row0 col0\" >5100343</td>\n      <td id=\"T_a5d69_row0_col1\" class=\"data row0 col1\" >0.088419</td>\n      <td id=\"T_a5d69_row0_col2\" class=\"data row0 col2\" >0.034125</td>\n      <td id=\"T_a5d69_row0_col3\" class=\"data row0 col3\" >0.172782</td>\n      <td id=\"T_a5d69_row0_col4\" class=\"data row0 col4\" >0.787083</td>\n    </tr>\n    <tr>\n      <th id=\"T_a5d69_level0_row1\" class=\"row_heading level0 row1\" >1</th>\n      <td id=\"T_a5d69_row1_col0\" class=\"data row1 col0\" >5100562</td>\n      <td id=\"T_a5d69_row1_col1\" class=\"data row1 col1\" >0.123523</td>\n      <td id=\"T_a5d69_row1_col2\" class=\"data row1 col2\" >0.045348</td>\n      <td id=\"T_a5d69_row1_col3\" class=\"data row1 col3\" >0.099933</td>\n      <td id=\"T_a5d69_row1_col4\" class=\"data row1 col4\" >0.781460</td>\n    </tr>\n    <tr>\n      <th id=\"T_a5d69_level0_row2\" class=\"row_heading level0 row2\" >2</th>\n      <td id=\"T_a5d69_row2_col0\" class=\"data row2 col0\" >5100604</td>\n      <td id=\"T_a5d69_row2_col1\" class=\"data row2 col1\" >0.104822</td>\n      <td id=\"T_a5d69_row2_col2\" class=\"data row2 col2\" >0.034934</td>\n      <td id=\"T_a5d69_row2_col3\" class=\"data row2 col3\" >0.100170</td>\n      <td id=\"T_a5d69_row2_col4\" class=\"data row2 col4\" >0.778157</td>\n    </tr>\n    <tr>\n      <th id=\"T_a5d69_level0_row3\" class=\"row_heading level0 row3\" >3</th>\n      <td id=\"T_a5d69_row3_col0\" class=\"data row3 col0\" >5100365</td>\n      <td id=\"T_a5d69_row3_col1\" class=\"data row3 col1\" >0.142535</td>\n      <td id=\"T_a5d69_row3_col2\" class=\"data row3 col2\" >0.039339</td>\n      <td id=\"T_a5d69_row3_col3\" class=\"data row3 col3\" >0.128554</td>\n      <td id=\"T_a5d69_row3_col4\" class=\"data row3 col4\" >0.762979</td>\n    </tr>\n    <tr>\n      <th id=\"T_a5d69_level0_row4\" class=\"row_heading level0 row4\" >4</th>\n      <td id=\"T_a5d69_row4_col0\" class=\"data row4 col0\" >5100689</td>\n      <td id=\"T_a5d69_row4_col1\" class=\"data row4 col1\" >0.136219</td>\n      <td id=\"T_a5d69_row4_col2\" class=\"data row4 col2\" >0.035785</td>\n      <td id=\"T_a5d69_row4_col3\" class=\"data row4 col3\" >0.139820</td>\n      <td id=\"T_a5d69_row4_col4\" class=\"data row4 col4\" >0.761926</td>\n    </tr>\n    <tr>\n      <th id=\"T_a5d69_level0_row5\" class=\"row_heading level0 row5\" >5</th>\n      <td id=\"T_a5d69_row5_col0\" class=\"data row5 col0\" >5100505</td>\n      <td id=\"T_a5d69_row5_col1\" class=\"data row5 col1\" >0.098612</td>\n      <td id=\"T_a5d69_row5_col2\" class=\"data row5 col2\" >0.017569</td>\n      <td id=\"T_a5d69_row5_col3\" class=\"data row5 col3\" >0.100222</td>\n      <td id=\"T_a5d69_row5_col4\" class=\"data row5 col4\" >0.758516</td>\n    </tr>\n    <tr>\n      <th id=\"T_a5d69_level0_row6\" class=\"row_heading level0 row6\" >6</th>\n      <td id=\"T_a5d69_row6_col0\" class=\"data row6 col0\" >5100338</td>\n      <td id=\"T_a5d69_row6_col1\" class=\"data row6 col1\" >0.120163</td>\n      <td id=\"T_a5d69_row6_col2\" class=\"data row6 col2\" >0.026111</td>\n      <td id=\"T_a5d69_row6_col3\" class=\"data row6 col3\" >0.094215</td>\n      <td id=\"T_a5d69_row6_col4\" class=\"data row6 col4\" >0.757654</td>\n    </tr>\n    <tr>\n      <th id=\"T_a5d69_level0_row7\" class=\"row_heading level0 row7\" >7</th>\n      <td id=\"T_a5d69_row7_col0\" class=\"data row7 col0\" >5100610</td>\n      <td id=\"T_a5d69_row7_col1\" class=\"data row7 col1\" >0.167580</td>\n      <td id=\"T_a5d69_row7_col2\" class=\"data row7 col2\" >0.039063</td>\n      <td id=\"T_a5d69_row7_col3\" class=\"data row7 col3\" >0.081039</td>\n      <td id=\"T_a5d69_row7_col4\" class=\"data row7 col4\" >0.747968</td>\n    </tr>\n    <tr>\n      <th id=\"T_a5d69_level0_row8\" class=\"row_heading level0 row8\" >8</th>\n      <td id=\"T_a5d69_row8_col0\" class=\"data row8 col0\" >5100346</td>\n      <td id=\"T_a5d69_row8_col1\" class=\"data row8 col1\" >0.119656</td>\n      <td id=\"T_a5d69_row8_col2\" class=\"data row8 col2\" >0.015488</td>\n      <td id=\"T_a5d69_row8_col3\" class=\"data row8 col3\" >0.209387</td>\n      <td id=\"T_a5d69_row8_col4\" class=\"data row8 col4\" >0.744928</td>\n    </tr>\n    <tr>\n      <th id=\"T_a5d69_level0_row9\" class=\"row_heading level0 row9\" >9</th>\n      <td id=\"T_a5d69_row9_col0\" class=\"data row9 col0\" >5100576</td>\n      <td id=\"T_a5d69_row9_col1\" class=\"data row9 col1\" >0.150335</td>\n      <td id=\"T_a5d69_row9_col2\" class=\"data row9 col2\" >0.026530</td>\n      <td id=\"T_a5d69_row9_col3\" class=\"data row9 col3\" >0.367609</td>\n      <td id=\"T_a5d69_row9_col4\" class=\"data row9 col4\" >0.743878</td>\n    </tr>\n    <tr>\n      <th id=\"T_a5d69_level0_row10\" class=\"row_heading level0 row10\" >10</th>\n      <td id=\"T_a5d69_row10_col0\" class=\"data row10 col0\" >5100572</td>\n      <td id=\"T_a5d69_row10_col1\" class=\"data row10 col1\" >0.152903</td>\n      <td id=\"T_a5d69_row10_col2\" class=\"data row10 col2\" >0.026821</td>\n      <td id=\"T_a5d69_row10_col3\" class=\"data row10 col3\" >0.381558</td>\n      <td id=\"T_a5d69_row10_col4\" class=\"data row10 col4\" >0.742953</td>\n    </tr>\n    <tr>\n      <th id=\"T_a5d69_level0_row11\" class=\"row_heading level0 row11\" >11</th>\n      <td id=\"T_a5d69_row11_col0\" class=\"data row11 col0\" >5100337</td>\n      <td id=\"T_a5d69_row11_col1\" class=\"data row11 col1\" >0.155865</td>\n      <td id=\"T_a5d69_row11_col2\" class=\"data row11 col2\" >0.024890</td>\n      <td id=\"T_a5d69_row11_col3\" class=\"data row11 col3\" >0.152943</td>\n      <td id=\"T_a5d69_row11_col4\" class=\"data row11 col4\" >0.736418</td>\n    </tr>\n    <tr>\n      <th id=\"T_a5d69_level0_row12\" class=\"row_heading level0 row12\" >12</th>\n      <td id=\"T_a5d69_row12_col0\" class=\"data row12 col0\" >5100575</td>\n      <td id=\"T_a5d69_row12_col1\" class=\"data row12 col1\" >0.169240</td>\n      <td id=\"T_a5d69_row12_col2\" class=\"data row12 col2\" >0.023495</td>\n      <td id=\"T_a5d69_row12_col3\" class=\"data row12 col3\" >0.383933</td>\n      <td id=\"T_a5d69_row12_col4\" class=\"data row12 col4\" >0.729302</td>\n    </tr>\n    <tr>\n      <th id=\"T_a5d69_level0_row13\" class=\"row_heading level0 row13\" >13</th>\n      <td id=\"T_a5d69_row13_col0\" class=\"data row13 col0\" >5100571</td>\n      <td id=\"T_a5d69_row13_col1\" class=\"data row13 col1\" >0.164857</td>\n      <td id=\"T_a5d69_row13_col2\" class=\"data row13 col2\" >0.020882</td>\n      <td id=\"T_a5d69_row13_col3\" class=\"data row13 col3\" >0.381810</td>\n      <td id=\"T_a5d69_row13_col4\" class=\"data row13 col4\" >0.728275</td>\n    </tr>\n    <tr>\n      <th id=\"T_a5d69_level0_row14\" class=\"row_heading level0 row14\" >14</th>\n      <td id=\"T_a5d69_row14_col0\" class=\"data row14 col0\" >5100570</td>\n      <td id=\"T_a5d69_row14_col1\" class=\"data row14 col1\" >0.160564</td>\n      <td id=\"T_a5d69_row14_col2\" class=\"data row14 col2\" >0.017403</td>\n      <td id=\"T_a5d69_row14_col3\" class=\"data row14 col3\" >0.436428</td>\n      <td id=\"T_a5d69_row14_col4\" class=\"data row14 col4\" >0.726611</td>\n    </tr>\n    <tr>\n      <th id=\"T_a5d69_level0_row15\" class=\"row_heading level0 row15\" >15</th>\n      <td id=\"T_a5d69_row15_col0\" class=\"data row15 col0\" >5100351</td>\n      <td id=\"T_a5d69_row15_col1\" class=\"data row15 col1\" >0.187763</td>\n      <td id=\"T_a5d69_row15_col2\" class=\"data row15 col2\" >0.028616</td>\n      <td id=\"T_a5d69_row15_col3\" class=\"data row15 col3\" >0.079314</td>\n      <td id=\"T_a5d69_row15_col4\" class=\"data row15 col4\" >0.722605</td>\n    </tr>\n    <tr>\n      <th id=\"T_a5d69_level0_row16\" class=\"row_heading level0 row16\" >16</th>\n      <td id=\"T_a5d69_row16_col0\" class=\"data row16 col0\" >5100574</td>\n      <td id=\"T_a5d69_row16_col1\" class=\"data row16 col1\" >0.164418</td>\n      <td id=\"T_a5d69_row16_col2\" class=\"data row16 col2\" >0.014802</td>\n      <td id=\"T_a5d69_row16_col3\" class=\"data row16 col3\" >0.468627</td>\n      <td id=\"T_a5d69_row16_col4\" class=\"data row16 col4\" >0.721285</td>\n    </tr>\n    <tr>\n      <th id=\"T_a5d69_level0_row17\" class=\"row_heading level0 row17\" >17</th>\n      <td id=\"T_a5d69_row17_col0\" class=\"data row17 col0\" >40500173</td>\n      <td id=\"T_a5d69_row17_col1\" class=\"data row17 col1\" >0.172331</td>\n      <td id=\"T_a5d69_row17_col2\" class=\"data row17 col2\" >0.014252</td>\n      <td id=\"T_a5d69_row17_col3\" class=\"data row17 col3\" >0.946603</td>\n      <td id=\"T_a5d69_row17_col4\" class=\"data row17 col4\" >0.720855</td>\n    </tr>\n    <tr>\n      <th id=\"T_a5d69_level0_row18\" class=\"row_heading level0 row18\" >18</th>\n      <td id=\"T_a5d69_row18_col0\" class=\"data row18 col0\" >5100567</td>\n      <td id=\"T_a5d69_row18_col1\" class=\"data row18 col1\" >0.194320</td>\n      <td id=\"T_a5d69_row18_col2\" class=\"data row18 col2\" >0.026851</td>\n      <td id=\"T_a5d69_row18_col3\" class=\"data row18 col3\" >0.439485</td>\n      <td id=\"T_a5d69_row18_col4\" class=\"data row18 col4\" >0.720144</td>\n    </tr>\n    <tr>\n      <th id=\"T_a5d69_level0_row19\" class=\"row_heading level0 row19\" >19</th>\n      <td id=\"T_a5d69_row19_col0\" class=\"data row19 col0\" >5100735</td>\n      <td id=\"T_a5d69_row19_col1\" class=\"data row19 col1\" >0.157391</td>\n      <td id=\"T_a5d69_row19_col2\" class=\"data row19 col2\" >0.009596</td>\n      <td id=\"T_a5d69_row19_col3\" class=\"data row19 col3\" >0.569735</td>\n      <td id=\"T_a5d69_row19_col4\" class=\"data row19 col4\" >0.719330</td>\n    </tr>\n    <tr>\n      <th id=\"T_a5d69_level0_row20\" class=\"row_heading level0 row20\" >20</th>\n      <td id=\"T_a5d69_row20_col0\" class=\"data row20 col0\" >5100566</td>\n      <td id=\"T_a5d69_row20_col1\" class=\"data row20 col1\" >0.203087</td>\n      <td id=\"T_a5d69_row20_col2\" class=\"data row20 col2\" >0.028830</td>\n      <td id=\"T_a5d69_row20_col3\" class=\"data row20 col3\" >0.432456</td>\n      <td id=\"T_a5d69_row20_col4\" class=\"data row20 col4\" >0.717752</td>\n    </tr>\n    <tr>\n      <th id=\"T_a5d69_level0_row21\" class=\"row_heading level0 row21\" >21</th>\n      <td id=\"T_a5d69_row21_col0\" class=\"data row21 col0\" >40500104</td>\n      <td id=\"T_a5d69_row21_col1\" class=\"data row21 col1\" >0.210032</td>\n      <td id=\"T_a5d69_row21_col2\" class=\"data row21 col2\" >0.025511</td>\n      <td id=\"T_a5d69_row21_col3\" class=\"data row21 col3\" >1.107652</td>\n      <td id=\"T_a5d69_row21_col4\" class=\"data row21 col4\" >0.714255</td>\n    </tr>\n    <tr>\n      <th id=\"T_a5d69_level0_row22\" class=\"row_heading level0 row22\" >22</th>\n      <td id=\"T_a5d69_row22_col0\" class=\"data row22 col0\" >5100573</td>\n      <td id=\"T_a5d69_row22_col1\" class=\"data row22 col1\" >0.202191</td>\n      <td id=\"T_a5d69_row22_col2\" class=\"data row22 col2\" >0.012753</td>\n      <td id=\"T_a5d69_row22_col3\" class=\"data row22 col3\" >0.481612</td>\n      <td id=\"T_a5d69_row22_col4\" class=\"data row22 col4\" >0.697315</td>\n    </tr>\n    <tr>\n      <th id=\"T_a5d69_level0_row23\" class=\"row_heading level0 row23\" >23</th>\n      <td id=\"T_a5d69_row23_col0\" class=\"data row23 col0\" >5100347</td>\n      <td id=\"T_a5d69_row23_col1\" class=\"data row23 col1\" >0.230571</td>\n      <td id=\"T_a5d69_row23_col2\" class=\"data row23 col2\" >0.022425</td>\n      <td id=\"T_a5d69_row23_col3\" class=\"data row23 col3\" >0.206721</td>\n      <td id=\"T_a5d69_row23_col4\" class=\"data row23 col4\" >0.691408</td>\n    </tr>\n    <tr>\n      <th id=\"T_a5d69_level0_row24\" class=\"row_heading level0 row24\" >24</th>\n      <td id=\"T_a5d69_row24_col0\" class=\"data row24 col0\" >5100744</td>\n      <td id=\"T_a5d69_row24_col1\" class=\"data row24 col1\" >0.216188</td>\n      <td id=\"T_a5d69_row24_col2\" class=\"data row24 col2\" >0.012797</td>\n      <td id=\"T_a5d69_row24_col3\" class=\"data row24 col3\" >0.539543</td>\n      <td id=\"T_a5d69_row24_col4\" class=\"data row24 col4\" >0.690036</td>\n    </tr>\n    <tr>\n      <th id=\"T_a5d69_level0_row25\" class=\"row_heading level0 row25\" >25</th>\n      <td id=\"T_a5d69_row25_col0\" class=\"data row25 col0\" >5100096</td>\n      <td id=\"T_a5d69_row25_col1\" class=\"data row25 col1\" >0.217736</td>\n      <td id=\"T_a5d69_row25_col2\" class=\"data row25 col2\" >0.012338</td>\n      <td id=\"T_a5d69_row25_col3\" class=\"data row25 col3\" >0.451563</td>\n      <td id=\"T_a5d69_row25_col4\" class=\"data row25 col4\" >0.687668</td>\n    </tr>\n    <tr>\n      <th id=\"T_a5d69_level0_row26\" class=\"row_heading level0 row26\" >26</th>\n      <td id=\"T_a5d69_row26_col0\" class=\"data row26 col0\" >5100624</td>\n      <td id=\"T_a5d69_row26_col1\" class=\"data row26 col1\" >0.213755</td>\n      <td id=\"T_a5d69_row26_col2\" class=\"data row26 col2\" >0.007943</td>\n      <td id=\"T_a5d69_row26_col3\" class=\"data row26 col3\" >0.555532</td>\n      <td id=\"T_a5d69_row26_col4\" class=\"data row26 col4\" >0.685099</td>\n    </tr>\n    <tr>\n      <th id=\"T_a5d69_level0_row27\" class=\"row_heading level0 row27\" >27</th>\n      <td id=\"T_a5d69_row27_col0\" class=\"data row27 col0\" >5100852</td>\n      <td id=\"T_a5d69_row27_col1\" class=\"data row27 col1\" >0.266939</td>\n      <td id=\"T_a5d69_row27_col2\" class=\"data row27 col2\" >0.025219</td>\n      <td id=\"T_a5d69_row27_col3\" class=\"data row27 col3\" >0.582352</td>\n      <td id=\"T_a5d69_row27_col4\" class=\"data row27 col4\" >0.678317</td>\n    </tr>\n    <tr>\n      <th id=\"T_a5d69_level0_row28\" class=\"row_heading level0 row28\" >28</th>\n      <td id=\"T_a5d69_row28_col0\" class=\"data row28 col0\" >40500103</td>\n      <td id=\"T_a5d69_row28_col1\" class=\"data row28 col1\" >0.208585</td>\n      <td id=\"T_a5d69_row28_col2\" class=\"data row28 col2\" >0.011619</td>\n      <td id=\"T_a5d69_row28_col3\" class=\"data row28 col3\" >2.982644</td>\n      <td id=\"T_a5d69_row28_col4\" class=\"data row28 col4\" >0.677801</td>\n    </tr>\n    <tr>\n      <th id=\"T_a5d69_level0_row29\" class=\"row_heading level0 row29\" >29</th>\n      <td id=\"T_a5d69_row29_col0\" class=\"data row29 col0\" >21406687</td>\n      <td id=\"T_a5d69_row29_col1\" class=\"data row29 col1\" >0.233477</td>\n      <td id=\"T_a5d69_row29_col2\" class=\"data row29 col2\" >0.006954</td>\n      <td id=\"T_a5d69_row29_col3\" class=\"data row29 col3\" >0.521563</td>\n      <td id=\"T_a5d69_row29_col4\" class=\"data row29 col4\" >0.672284</td>\n    </tr>\n    <tr>\n      <th id=\"T_a5d69_level0_row30\" class=\"row_heading level0 row30\" >30</th>\n      <td id=\"T_a5d69_row30_col0\" class=\"data row30 col0\" >26027590</td>\n      <td id=\"T_a5d69_row30_col1\" class=\"data row30 col1\" >0.264537</td>\n      <td id=\"T_a5d69_row30_col2\" class=\"data row30 col2\" >0.018586</td>\n      <td id=\"T_a5d69_row30_col3\" class=\"data row30 col3\" >1.723535</td>\n      <td id=\"T_a5d69_row30_col4\" class=\"data row30 col4\" >0.668030</td>\n    </tr>\n    <tr>\n      <th id=\"T_a5d69_level0_row31\" class=\"row_heading level0 row31\" >31</th>\n      <td id=\"T_a5d69_row31_col0\" class=\"data row31 col0\" >4804235</td>\n      <td id=\"T_a5d69_row31_col1\" class=\"data row31 col1\" >0.272318</td>\n      <td id=\"T_a5d69_row31_col2\" class=\"data row31 col2\" >0.024253</td>\n      <td id=\"T_a5d69_row31_col3\" class=\"data row31 col3\" >2.060778</td>\n      <td id=\"T_a5d69_row31_col4\" class=\"data row31 col4\" >0.667812</td>\n    </tr>\n    <tr>\n      <th id=\"T_a5d69_level0_row32\" class=\"row_heading level0 row32\" >32</th>\n      <td id=\"T_a5d69_row32_col0\" class=\"data row32 col0\" >21411971</td>\n      <td id=\"T_a5d69_row32_col1\" class=\"data row32 col1\" >0.245310</td>\n      <td id=\"T_a5d69_row32_col2\" class=\"data row32 col2\" >0.006788</td>\n      <td id=\"T_a5d69_row32_col3\" class=\"data row32 col3\" >1.308420</td>\n      <td id=\"T_a5d69_row32_col4\" class=\"data row32 col4\" >0.667326</td>\n    </tr>\n    <tr>\n      <th id=\"T_a5d69_level0_row33\" class=\"row_heading level0 row33\" >33</th>\n      <td id=\"T_a5d69_row33_col0\" class=\"data row33 col0\" >40500101</td>\n      <td id=\"T_a5d69_row33_col1\" class=\"data row33 col1\" >0.210058</td>\n      <td id=\"T_a5d69_row33_col2\" class=\"data row33 col2\" >0.011572</td>\n      <td id=\"T_a5d69_row33_col3\" class=\"data row33 col3\" >4.413433</td>\n      <td id=\"T_a5d69_row33_col4\" class=\"data row33 col4\" >0.662597</td>\n    </tr>\n    <tr>\n      <th id=\"T_a5d69_level0_row34\" class=\"row_heading level0 row34\" >34</th>\n      <td id=\"T_a5d69_row34_col0\" class=\"data row34 col0\" >26202297</td>\n      <td id=\"T_a5d69_row34_col1\" class=\"data row34 col1\" >0.238200</td>\n      <td id=\"T_a5d69_row34_col2\" class=\"data row34 col2\" >0.010626</td>\n      <td id=\"T_a5d69_row34_col3\" class=\"data row34 col3\" >-0.795044</td>\n      <td id=\"T_a5d69_row34_col4\" class=\"data row34 col4\" >0.661343</td>\n    </tr>\n    <tr>\n      <th id=\"T_a5d69_level0_row35\" class=\"row_heading level0 row35\" >35</th>\n      <td id=\"T_a5d69_row35_col0\" class=\"data row35 col0\" >21409663</td>\n      <td id=\"T_a5d69_row35_col1\" class=\"data row35 col1\" >0.238063</td>\n      <td id=\"T_a5d69_row35_col2\" class=\"data row35 col2\" >0.007521</td>\n      <td id=\"T_a5d69_row35_col3\" class=\"data row35 col3\" >2.579257</td>\n      <td id=\"T_a5d69_row35_col4\" class=\"data row35 col4\" >0.659696</td>\n    </tr>\n    <tr>\n      <th id=\"T_a5d69_level0_row36\" class=\"row_heading level0 row36\" >36</th>\n      <td id=\"T_a5d69_row36_col0\" class=\"data row36 col0\" >21410950</td>\n      <td id=\"T_a5d69_row36_col1\" class=\"data row36 col1\" >0.258671</td>\n      <td id=\"T_a5d69_row36_col2\" class=\"data row36 col2\" >0.006954</td>\n      <td id=\"T_a5d69_row36_col3\" class=\"data row36 col3\" >0.686702</td>\n      <td id=\"T_a5d69_row36_col4\" class=\"data row36 col4\" >0.659684</td>\n    </tr>\n    <tr>\n      <th id=\"T_a5d69_level0_row37\" class=\"row_heading level0 row37\" >37</th>\n      <td id=\"T_a5d69_row37_col0\" class=\"data row37 col0\" >17301089</td>\n      <td id=\"T_a5d69_row37_col1\" class=\"data row37 col1\" >0.262055</td>\n      <td id=\"T_a5d69_row37_col2\" class=\"data row37 col2\" >0.013380</td>\n      <td id=\"T_a5d69_row37_col3\" class=\"data row37 col3\" >0.013617</td>\n      <td id=\"T_a5d69_row37_col4\" class=\"data row37 col4\" >0.659607</td>\n    </tr>\n    <tr>\n      <th id=\"T_a5d69_level0_row38\" class=\"row_heading level0 row38\" >38</th>\n      <td id=\"T_a5d69_row38_col0\" class=\"data row38 col0\" >18001685</td>\n      <td id=\"T_a5d69_row38_col1\" class=\"data row38 col1\" >0.260893</td>\n      <td id=\"T_a5d69_row38_col2\" class=\"data row38 col2\" >0.006459</td>\n      <td id=\"T_a5d69_row38_col3\" class=\"data row38 col3\" >0.868140</td>\n      <td id=\"T_a5d69_row38_col4\" class=\"data row38 col4\" >0.659581</td>\n    </tr>\n    <tr>\n      <th id=\"T_a5d69_level0_row39\" class=\"row_heading level0 row39\" >39</th>\n      <td id=\"T_a5d69_row39_col0\" class=\"data row39 col0\" >40500425</td>\n      <td id=\"T_a5d69_row39_col1\" class=\"data row39 col1\" >0.247404</td>\n      <td id=\"T_a5d69_row39_col2\" class=\"data row39 col2\" >0.014146</td>\n      <td id=\"T_a5d69_row39_col3\" class=\"data row39 col3\" >3.075533</td>\n      <td id=\"T_a5d69_row39_col4\" class=\"data row39 col4\" >0.658282</td>\n    </tr>\n    <tr>\n      <th id=\"T_a5d69_level0_row40\" class=\"row_heading level0 row40\" >40</th>\n      <td id=\"T_a5d69_row40_col0\" class=\"data row40 col0\" >40500507</td>\n      <td id=\"T_a5d69_row40_col1\" class=\"data row40 col1\" >0.253302</td>\n      <td id=\"T_a5d69_row40_col2\" class=\"data row40 col2\" >0.014125</td>\n      <td id=\"T_a5d69_row40_col3\" class=\"data row40 col3\" >2.876119</td>\n      <td id=\"T_a5d69_row40_col4\" class=\"data row40 col4\" >0.656912</td>\n    </tr>\n    <tr>\n      <th id=\"T_a5d69_level0_row41\" class=\"row_heading level0 row41\" >41</th>\n      <td id=\"T_a5d69_row41_col0\" class=\"data row41 col0\" >27200540</td>\n      <td id=\"T_a5d69_row41_col1\" class=\"data row41 col1\" >0.255547</td>\n      <td id=\"T_a5d69_row41_col2\" class=\"data row41 col2\" >0.003668</td>\n      <td id=\"T_a5d69_row41_col3\" class=\"data row41 col3\" >0.098901</td>\n      <td id=\"T_a5d69_row41_col4\" class=\"data row41 col4\" >0.651193</td>\n    </tr>\n    <tr>\n      <th id=\"T_a5d69_level0_row42\" class=\"row_heading level0 row42\" >42</th>\n      <td id=\"T_a5d69_row42_col0\" class=\"data row42 col0\" >18001355</td>\n      <td id=\"T_a5d69_row42_col1\" class=\"data row42 col1\" >0.265378</td>\n      <td id=\"T_a5d69_row42_col2\" class=\"data row42 col2\" >0.007394</td>\n      <td id=\"T_a5d69_row42_col3\" class=\"data row42 col3\" >0.117776</td>\n      <td id=\"T_a5d69_row42_col4\" class=\"data row42 col4\" >0.650787</td>\n    </tr>\n    <tr>\n      <th id=\"T_a5d69_level0_row43\" class=\"row_heading level0 row43\" >43</th>\n      <td id=\"T_a5d69_row43_col0\" class=\"data row43 col0\" >5100568</td>\n      <td id=\"T_a5d69_row43_col1\" class=\"data row43 col1\" >0.273082</td>\n      <td id=\"T_a5d69_row43_col2\" class=\"data row43 col2\" >0.005252</td>\n      <td id=\"T_a5d69_row43_col3\" class=\"data row43 col3\" >0.492397</td>\n      <td id=\"T_a5d69_row43_col4\" class=\"data row43 col4\" >0.647320</td>\n    </tr>\n    <tr>\n      <th id=\"T_a5d69_level0_row44\" class=\"row_heading level0 row44\" >44</th>\n      <td id=\"T_a5d69_row44_col0\" class=\"data row44 col0\" >40500390</td>\n      <td id=\"T_a5d69_row44_col1\" class=\"data row44 col1\" >0.254913</td>\n      <td id=\"T_a5d69_row44_col2\" class=\"data row44 col2\" >0.010751</td>\n      <td id=\"T_a5d69_row44_col3\" class=\"data row44 col3\" >3.424663</td>\n      <td id=\"T_a5d69_row44_col4\" class=\"data row44 col4\" >0.646016</td>\n    </tr>\n    <tr>\n      <th id=\"T_a5d69_level0_row45\" class=\"row_heading level0 row45\" >45</th>\n      <td id=\"T_a5d69_row45_col0\" class=\"data row45 col0\" >40500102</td>\n      <td id=\"T_a5d69_row45_col1\" class=\"data row45 col1\" >0.243368</td>\n      <td id=\"T_a5d69_row45_col2\" class=\"data row45 col2\" >0.009016</td>\n      <td id=\"T_a5d69_row45_col3\" class=\"data row45 col3\" >4.413433</td>\n      <td id=\"T_a5d69_row45_col4\" class=\"data row45 col4\" >0.640346</td>\n    </tr>\n    <tr>\n      <th id=\"T_a5d69_level0_row46\" class=\"row_heading level0 row46\" >46</th>\n      <td id=\"T_a5d69_row46_col0\" class=\"data row46 col0\" >18300795</td>\n      <td id=\"T_a5d69_row46_col1\" class=\"data row46 col1\" >0.271375</td>\n      <td id=\"T_a5d69_row46_col2\" class=\"data row46 col2\" >0.009708</td>\n      <td id=\"T_a5d69_row46_col3\" class=\"data row46 col3\" >3.064217</td>\n      <td id=\"T_a5d69_row46_col4\" class=\"data row46 col4\" >0.638917</td>\n    </tr>\n    <tr>\n      <th id=\"T_a5d69_level0_row47\" class=\"row_heading level0 row47\" >47</th>\n      <td id=\"T_a5d69_row47_col0\" class=\"data row47 col0\" >18000815</td>\n      <td id=\"T_a5d69_row47_col1\" class=\"data row47 col1\" >0.232291</td>\n      <td id=\"T_a5d69_row47_col2\" class=\"data row47 col2\" >0.007365</td>\n      <td id=\"T_a5d69_row47_col3\" class=\"data row47 col3\" >5.000000</td>\n      <td id=\"T_a5d69_row47_col4\" class=\"data row47 col4\" >0.638545</td>\n    </tr>\n    <tr>\n      <th id=\"T_a5d69_level0_row48\" class=\"row_heading level0 row48\" >48</th>\n      <td id=\"T_a5d69_row48_col0\" class=\"data row48 col0\" >21406812</td>\n      <td id=\"T_a5d69_row48_col1\" class=\"data row48 col1\" >0.267965</td>\n      <td id=\"T_a5d69_row48_col2\" class=\"data row48 col2\" >0.006644</td>\n      <td id=\"T_a5d69_row48_col3\" class=\"data row48 col3\" >3.075975</td>\n      <td id=\"T_a5d69_row48_col4\" class=\"data row48 col4\" >0.636643</td>\n    </tr>\n  </tbody>\n</table>\n"
          },
          "metadata": {}
        }
      ]
    },
    {
      "cell_type": "markdown",
      "source": [
        "## Recommend Products to Users Viewing a Product"
      ],
      "metadata": {
        "id": "PHoqHC6kVavu"
      }
    },
    {
      "cell_type": "code",
      "source": [
        "recs_user = recs_user.withColumnRenamed('recommendation_score', 'recommendation_score_user')\n",
        "recs_paired = recs_product.join(recs_user['product_id', 'recommendation_score_user'], on='product_id', how='left')"
      ],
      "metadata": {
        "execution": {
          "iopub.status.busy": "2024-03-04T08:19:34.467113Z",
          "iopub.execute_input": "2024-03-04T08:19:34.467791Z",
          "iopub.status.idle": "2024-03-04T08:19:34.799323Z",
          "shell.execute_reply.started": "2024-03-04T08:19:34.467754Z",
          "shell.execute_reply": "2024-03-04T08:19:34.798330Z"
        },
        "trusted": true,
        "id": "c0yMYh39Vavx"
      },
      "execution_count": null,
      "outputs": []
    },
    {
      "cell_type": "code",
      "source": [
        "min_user_score = recs_paired.select(min('recommendation_score_user')).collect()[0][0]\n",
        "recs_paired = recs_paired.na.fill(min_user_score * 0.9)\n",
        "recs_paired = recs_paired.withColumn('paired_score', col('recommendation_score') * 0.5 + col('recommendation_score_user') * 0.5)\n"
      ],
      "metadata": {
        "execution": {
          "iopub.status.busy": "2024-03-04T08:19:34.800623Z",
          "iopub.execute_input": "2024-03-04T08:19:34.801073Z",
          "iopub.status.idle": "2024-03-04T08:43:25.940037Z",
          "shell.execute_reply.started": "2024-03-04T08:19:34.801032Z",
          "shell.execute_reply": "2024-03-04T08:43:25.938702Z"
        },
        "trusted": true,
        "id": "wtTi07zEVavy",
        "outputId": "59aeb85f-a3d2-4eba-9a13-e1f95d608f93"
      },
      "execution_count": null,
      "outputs": [
        {
          "name": "stderr",
          "text": "                                                                                \r",
          "output_type": "stream"
        }
      ]
    },
    {
      "cell_type": "code",
      "source": [
        "recs_paired.sort('paired_score', ascending=False).toPandas()\\\n",
        "           .head(50).style.bar(color='lightblue', subset='recommendation_score')\\\n",
        "           .bar(color='pink', subset='recommendation_score_user')\\\n",
        "           .bar(color='lightgreen', subset='paired_score')\n"
      ],
      "metadata": {
        "scrolled": true,
        "execution": {
          "iopub.status.busy": "2024-03-04T08:43:25.941827Z",
          "iopub.execute_input": "2024-03-04T08:43:25.943086Z",
          "iopub.status.idle": "2024-03-04T09:08:14.873448Z",
          "shell.execute_reply.started": "2024-03-04T08:43:25.943044Z",
          "shell.execute_reply": "2024-03-04T09:08:14.867039Z"
        },
        "trusted": true,
        "id": "y65EowQfVavz",
        "outputId": "910077b5-5e49-43f0-83fd-83dd3843aa54"
      },
      "execution_count": null,
      "outputs": [
        {
          "name": "stderr",
          "text": "                                                                                \r",
          "output_type": "stream"
        },
        {
          "execution_count": 58,
          "output_type": "execute_result",
          "data": {
            "text/plain": "<pandas.io.formats.style.Styler at 0x7a31c517f6a0>",
            "text/html": "<style type=\"text/css\">\n#T_13267_row0_col4 {\n  width: 10em;\n  background: linear-gradient(90deg, lightblue 99.3%, transparent 99.3%);\n}\n#T_13267_row0_col5 {\n  width: 10em;\n  background: linear-gradient(90deg, pink 100.0%, transparent 100.0%);\n}\n#T_13267_row0_col6 {\n  width: 10em;\n  background: linear-gradient(90deg, lightgreen 100.0%, transparent 100.0%);\n}\n#T_13267_row1_col4 {\n  width: 10em;\n  background: linear-gradient(90deg, lightblue 100.0%, transparent 100.0%);\n}\n#T_13267_row1_col5, #T_13267_row2_col5, #T_13267_row4_col5, #T_13267_row5_col5, #T_13267_row6_col5, #T_13267_row7_col5, #T_13267_row10_col5, #T_13267_row13_col5, #T_13267_row14_col5, #T_13267_row15_col5, #T_13267_row16_col5, #T_13267_row17_col5, #T_13267_row18_col5, #T_13267_row19_col5, #T_13267_row20_col5, #T_13267_row21_col5, #T_13267_row22_col5, #T_13267_row23_col5, #T_13267_row24_col5, #T_13267_row25_col5, #T_13267_row26_col5, #T_13267_row28_col5, #T_13267_row29_col5, #T_13267_row30_col5, #T_13267_row31_col5, #T_13267_row32_col5, #T_13267_row33_col5, #T_13267_row34_col5, #T_13267_row35_col5, #T_13267_row36_col5, #T_13267_row37_col5, #T_13267_row38_col5, #T_13267_row39_col5, #T_13267_row40_col5, #T_13267_row41_col5, #T_13267_row42_col5, #T_13267_row43_col5, #T_13267_row44_col5, #T_13267_row45_col5, #T_13267_row46_col5, #T_13267_row47_col5, #T_13267_row48_col5 {\n  width: 10em;\n  background: linear-gradient(90deg, pink 51.5%, transparent 51.5%);\n}\n#T_13267_row1_col6 {\n  width: 10em;\n  background: linear-gradient(90deg, lightgreen 97.4%, transparent 97.4%);\n}\n#T_13267_row2_col4 {\n  width: 10em;\n  background: linear-gradient(90deg, lightblue 98.9%, transparent 98.9%);\n}\n#T_13267_row2_col6 {\n  width: 10em;\n  background: linear-gradient(90deg, lightgreen 96.3%, transparent 96.3%);\n}\n#T_13267_row3_col4 {\n  width: 10em;\n  background: linear-gradient(90deg, lightblue 95.0%, transparent 95.0%);\n}\n#T_13267_row3_col5 {\n  width: 10em;\n  background: linear-gradient(90deg, pink 82.6%, transparent 82.6%);\n}\n#T_13267_row3_col6 {\n  width: 10em;\n  background: linear-gradient(90deg, lightgreen 94.8%, transparent 94.8%);\n}\n#T_13267_row4_col4 {\n  width: 10em;\n  background: linear-gradient(90deg, lightblue 96.9%, transparent 96.9%);\n}\n#T_13267_row4_col6 {\n  width: 10em;\n  background: linear-gradient(90deg, lightgreen 94.5%, transparent 94.5%);\n}\n#T_13267_row5_col4 {\n  width: 10em;\n  background: linear-gradient(90deg, lightblue 96.8%, transparent 96.8%);\n}\n#T_13267_row5_col6 {\n  width: 10em;\n  background: linear-gradient(90deg, lightgreen 94.4%, transparent 94.4%);\n}\n#T_13267_row6_col4 {\n  width: 10em;\n  background: linear-gradient(90deg, lightblue 96.4%, transparent 96.4%);\n}\n#T_13267_row6_col6 {\n  width: 10em;\n  background: linear-gradient(90deg, lightgreen 94.0%, transparent 94.0%);\n}\n#T_13267_row7_col4 {\n  width: 10em;\n  background: linear-gradient(90deg, lightblue 96.3%, transparent 96.3%);\n}\n#T_13267_row7_col6 {\n  width: 10em;\n  background: linear-gradient(90deg, lightgreen 93.9%, transparent 93.9%);\n}\n#T_13267_row8_col4 {\n  width: 10em;\n  background: linear-gradient(90deg, lightblue 94.4%, transparent 94.4%);\n}\n#T_13267_row8_col5 {\n  width: 10em;\n  background: linear-gradient(90deg, pink 62.5%, transparent 62.5%);\n}\n#T_13267_row8_col6 {\n  width: 10em;\n  background: linear-gradient(90deg, lightgreen 92.9%, transparent 92.9%);\n}\n#T_13267_row9_col4 {\n  width: 10em;\n  background: linear-gradient(90deg, lightblue 94.5%, transparent 94.5%);\n}\n#T_13267_row9_col5 {\n  width: 10em;\n  background: linear-gradient(90deg, pink 57.3%, transparent 57.3%);\n}\n#T_13267_row9_col6 {\n  width: 10em;\n  background: linear-gradient(90deg, lightgreen 92.6%, transparent 92.6%);\n}\n#T_13267_row10_col4 {\n  width: 10em;\n  background: linear-gradient(90deg, lightblue 94.6%, transparent 94.6%);\n}\n#T_13267_row10_col6 {\n  width: 10em;\n  background: linear-gradient(90deg, lightgreen 92.3%, transparent 92.3%);\n}\n#T_13267_row11_col4 {\n  width: 10em;\n  background: linear-gradient(90deg, lightblue 93.6%, transparent 93.6%);\n}\n#T_13267_row11_col5 {\n  width: 10em;\n  background: linear-gradient(90deg, pink 62.8%, transparent 62.8%);\n}\n#T_13267_row11_col6 {\n  width: 10em;\n  background: linear-gradient(90deg, lightgreen 92.1%, transparent 92.1%);\n}\n#T_13267_row12_col4 {\n  width: 10em;\n  background: linear-gradient(90deg, lightblue 91.2%, transparent 91.2%);\n}\n#T_13267_row12_col5 {\n  width: 10em;\n  background: linear-gradient(90deg, pink 73.8%, transparent 73.8%);\n}\n#T_13267_row12_col6 {\n  width: 10em;\n  background: linear-gradient(90deg, lightgreen 90.6%, transparent 90.6%);\n}\n#T_13267_row13_col4 {\n  width: 10em;\n  background: linear-gradient(90deg, lightblue 92.7%, transparent 92.7%);\n}\n#T_13267_row13_col6 {\n  width: 10em;\n  background: linear-gradient(90deg, lightgreen 90.5%, transparent 90.5%);\n}\n#T_13267_row14_col4 {\n  width: 10em;\n  background: linear-gradient(90deg, lightblue 92.5%, transparent 92.5%);\n}\n#T_13267_row14_col6 {\n  width: 10em;\n  background: linear-gradient(90deg, lightgreen 90.4%, transparent 90.4%);\n}\n#T_13267_row15_col4 {\n  width: 10em;\n  background: linear-gradient(90deg, lightblue 92.3%, transparent 92.3%);\n}\n#T_13267_row15_col6 {\n  width: 10em;\n  background: linear-gradient(90deg, lightgreen 90.2%, transparent 90.2%);\n}\n#T_13267_row16_col4 {\n  width: 10em;\n  background: linear-gradient(90deg, lightblue 91.8%, transparent 91.8%);\n}\n#T_13267_row16_col6 {\n  width: 10em;\n  background: linear-gradient(90deg, lightgreen 89.7%, transparent 89.7%);\n}\n#T_13267_row17_col4, #T_13267_row18_col4 {\n  width: 10em;\n  background: linear-gradient(90deg, lightblue 91.6%, transparent 91.6%);\n}\n#T_13267_row17_col6, #T_13267_row18_col6 {\n  width: 10em;\n  background: linear-gradient(90deg, lightgreen 89.5%, transparent 89.5%);\n}\n#T_13267_row19_col4 {\n  width: 10em;\n  background: linear-gradient(90deg, lightblue 91.5%, transparent 91.5%);\n}\n#T_13267_row19_col6 {\n  width: 10em;\n  background: linear-gradient(90deg, lightgreen 89.4%, transparent 89.4%);\n}\n#T_13267_row20_col4 {\n  width: 10em;\n  background: linear-gradient(90deg, lightblue 91.4%, transparent 91.4%);\n}\n#T_13267_row20_col6 {\n  width: 10em;\n  background: linear-gradient(90deg, lightgreen 89.3%, transparent 89.3%);\n}\n#T_13267_row21_col4 {\n  width: 10em;\n  background: linear-gradient(90deg, lightblue 90.7%, transparent 90.7%);\n}\n#T_13267_row21_col6 {\n  width: 10em;\n  background: linear-gradient(90deg, lightgreen 88.7%, transparent 88.7%);\n}\n#T_13267_row22_col4 {\n  width: 10em;\n  background: linear-gradient(90deg, lightblue 88.6%, transparent 88.6%);\n}\n#T_13267_row22_col6 {\n  width: 10em;\n  background: linear-gradient(90deg, lightgreen 86.7%, transparent 86.7%);\n}\n#T_13267_row23_col4 {\n  width: 10em;\n  background: linear-gradient(90deg, lightblue 87.8%, transparent 87.8%);\n}\n#T_13267_row23_col6 {\n  width: 10em;\n  background: linear-gradient(90deg, lightgreen 86.0%, transparent 86.0%);\n}\n#T_13267_row24_col4 {\n  width: 10em;\n  background: linear-gradient(90deg, lightblue 87.7%, transparent 87.7%);\n}\n#T_13267_row24_col6 {\n  width: 10em;\n  background: linear-gradient(90deg, lightgreen 85.8%, transparent 85.8%);\n}\n#T_13267_row25_col4 {\n  width: 10em;\n  background: linear-gradient(90deg, lightblue 87.4%, transparent 87.4%);\n}\n#T_13267_row25_col6 {\n  width: 10em;\n  background: linear-gradient(90deg, lightgreen 85.5%, transparent 85.5%);\n}\n#T_13267_row26_col4 {\n  width: 10em;\n  background: linear-gradient(90deg, lightblue 87.0%, transparent 87.0%);\n}\n#T_13267_row26_col6 {\n  width: 10em;\n  background: linear-gradient(90deg, lightgreen 85.2%, transparent 85.2%);\n}\n#T_13267_row27_col4 {\n  width: 10em;\n  background: linear-gradient(90deg, lightblue 86.2%, transparent 86.2%);\n}\n#T_13267_row27_col5 {\n  width: 10em;\n  background: linear-gradient(90deg, pink 61.3%, transparent 61.3%);\n}\n#T_13267_row27_col6 {\n  width: 10em;\n  background: linear-gradient(90deg, lightgreen 85.1%, transparent 85.1%);\n}\n#T_13267_row28_col4 {\n  width: 10em;\n  background: linear-gradient(90deg, lightblue 86.1%, transparent 86.1%);\n}\n#T_13267_row28_col6 {\n  width: 10em;\n  background: linear-gradient(90deg, lightgreen 84.3%, transparent 84.3%);\n}\n#T_13267_row29_col4 {\n  width: 10em;\n  background: linear-gradient(90deg, lightblue 85.4%, transparent 85.4%);\n}\n#T_13267_row29_col6 {\n  width: 10em;\n  background: linear-gradient(90deg, lightgreen 83.7%, transparent 83.7%);\n}\n#T_13267_row30_col4 {\n  width: 10em;\n  background: linear-gradient(90deg, lightblue 84.9%, transparent 84.9%);\n}\n#T_13267_row30_col6 {\n  width: 10em;\n  background: linear-gradient(90deg, lightgreen 83.2%, transparent 83.2%);\n}\n#T_13267_row31_col4, #T_13267_row32_col4 {\n  width: 10em;\n  background: linear-gradient(90deg, lightblue 84.8%, transparent 84.8%);\n}\n#T_13267_row31_col6, #T_13267_row32_col6 {\n  width: 10em;\n  background: linear-gradient(90deg, lightgreen 83.1%, transparent 83.1%);\n}\n#T_13267_row33_col4 {\n  width: 10em;\n  background: linear-gradient(90deg, lightblue 84.2%, transparent 84.2%);\n}\n#T_13267_row33_col6 {\n  width: 10em;\n  background: linear-gradient(90deg, lightgreen 82.5%, transparent 82.5%);\n}\n#T_13267_row34_col4 {\n  width: 10em;\n  background: linear-gradient(90deg, lightblue 84.0%, transparent 84.0%);\n}\n#T_13267_row34_col6 {\n  width: 10em;\n  background: linear-gradient(90deg, lightgreen 82.4%, transparent 82.4%);\n}\n#T_13267_row35_col4, #T_13267_row36_col4, #T_13267_row37_col4, #T_13267_row38_col4 {\n  width: 10em;\n  background: linear-gradient(90deg, lightblue 83.8%, transparent 83.8%);\n}\n#T_13267_row35_col6, #T_13267_row36_col6, #T_13267_row37_col6, #T_13267_row38_col6 {\n  width: 10em;\n  background: linear-gradient(90deg, lightgreen 82.2%, transparent 82.2%);\n}\n#T_13267_row39_col4 {\n  width: 10em;\n  background: linear-gradient(90deg, lightblue 83.6%, transparent 83.6%);\n}\n#T_13267_row39_col6 {\n  width: 10em;\n  background: linear-gradient(90deg, lightgreen 82.0%, transparent 82.0%);\n}\n#T_13267_row40_col4 {\n  width: 10em;\n  background: linear-gradient(90deg, lightblue 83.5%, transparent 83.5%);\n}\n#T_13267_row40_col6 {\n  width: 10em;\n  background: linear-gradient(90deg, lightgreen 81.8%, transparent 81.8%);\n}\n#T_13267_row41_col4, #T_13267_row42_col4 {\n  width: 10em;\n  background: linear-gradient(90deg, lightblue 82.7%, transparent 82.7%);\n}\n#T_13267_row41_col6 {\n  width: 10em;\n  background: linear-gradient(90deg, lightgreen 81.2%, transparent 81.2%);\n}\n#T_13267_row42_col6 {\n  width: 10em;\n  background: linear-gradient(90deg, lightgreen 81.1%, transparent 81.1%);\n}\n#T_13267_row43_col4 {\n  width: 10em;\n  background: linear-gradient(90deg, lightblue 82.2%, transparent 82.2%);\n}\n#T_13267_row43_col6 {\n  width: 10em;\n  background: linear-gradient(90deg, lightgreen 80.7%, transparent 80.7%);\n}\n#T_13267_row44_col4 {\n  width: 10em;\n  background: linear-gradient(90deg, lightblue 82.1%, transparent 82.1%);\n}\n#T_13267_row44_col6 {\n  width: 10em;\n  background: linear-gradient(90deg, lightgreen 80.6%, transparent 80.6%);\n}\n#T_13267_row45_col4 {\n  width: 10em;\n  background: linear-gradient(90deg, lightblue 81.4%, transparent 81.4%);\n}\n#T_13267_row45_col6 {\n  width: 10em;\n  background: linear-gradient(90deg, lightgreen 79.9%, transparent 79.9%);\n}\n#T_13267_row46_col4 {\n  width: 10em;\n  background: linear-gradient(90deg, lightblue 81.2%, transparent 81.2%);\n}\n#T_13267_row46_col6, #T_13267_row47_col6 {\n  width: 10em;\n  background: linear-gradient(90deg, lightgreen 79.7%, transparent 79.7%);\n}\n#T_13267_row47_col4 {\n  width: 10em;\n  background: linear-gradient(90deg, lightblue 81.1%, transparent 81.1%);\n}\n#T_13267_row48_col4 {\n  width: 10em;\n  background: linear-gradient(90deg, lightblue 80.9%, transparent 80.9%);\n}\n#T_13267_row48_col6 {\n  width: 10em;\n  background: linear-gradient(90deg, lightgreen 79.4%, transparent 79.4%);\n}\n</style>\n<table id=\"T_13267\">\n  <thead>\n    <tr>\n      <th class=\"blank level0\" >&nbsp;</th>\n      <th id=\"T_13267_level0_col0\" class=\"col_heading level0 col0\" >product_id</th>\n      <th id=\"T_13267_level0_col1\" class=\"col_heading level0 col1\" >distCol</th>\n      <th id=\"T_13267_level0_col2\" class=\"col_heading level0 col2\" >purchase_per_view</th>\n      <th id=\"T_13267_level0_col3\" class=\"col_heading level0 col3\" >relative_price</th>\n      <th id=\"T_13267_level0_col4\" class=\"col_heading level0 col4\" >recommendation_score</th>\n      <th id=\"T_13267_level0_col5\" class=\"col_heading level0 col5\" >recommendation_score_user</th>\n      <th id=\"T_13267_level0_col6\" class=\"col_heading level0 col6\" >paired_score</th>\n    </tr>\n  </thead>\n  <tbody>\n    <tr>\n      <th id=\"T_13267_level0_row0\" class=\"row_heading level0 row0\" >0</th>\n      <td id=\"T_13267_row0_col0\" class=\"data row0 col0\" >5100562</td>\n      <td id=\"T_13267_row0_col1\" class=\"data row0 col1\" >0.123523</td>\n      <td id=\"T_13267_row0_col2\" class=\"data row0 col2\" >0.045348</td>\n      <td id=\"T_13267_row0_col3\" class=\"data row0 col3\" >0.099933</td>\n      <td id=\"T_13267_row0_col4\" class=\"data row0 col4\" >0.781460</td>\n      <td id=\"T_13267_row0_col5\" class=\"data row0 col5\" >0.057046</td>\n      <td id=\"T_13267_row0_col6\" class=\"data row0 col6\" >0.419253</td>\n    </tr>\n    <tr>\n      <th id=\"T_13267_level0_row1\" class=\"row_heading level0 row1\" >1</th>\n      <td id=\"T_13267_row1_col0\" class=\"data row1 col0\" >5100343</td>\n      <td id=\"T_13267_row1_col1\" class=\"data row1 col1\" >0.088419</td>\n      <td id=\"T_13267_row1_col2\" class=\"data row1 col2\" >0.034125</td>\n      <td id=\"T_13267_row1_col3\" class=\"data row1 col3\" >0.172782</td>\n      <td id=\"T_13267_row1_col4\" class=\"data row1 col4\" >0.787083</td>\n      <td id=\"T_13267_row1_col5\" class=\"data row1 col5\" >0.029403</td>\n      <td id=\"T_13267_row1_col6\" class=\"data row1 col6\" >0.408243</td>\n    </tr>\n    <tr>\n      <th id=\"T_13267_level0_row2\" class=\"row_heading level0 row2\" >2</th>\n      <td id=\"T_13267_row2_col0\" class=\"data row2 col0\" >5100604</td>\n      <td id=\"T_13267_row2_col1\" class=\"data row2 col1\" >0.104822</td>\n      <td id=\"T_13267_row2_col2\" class=\"data row2 col2\" >0.034934</td>\n      <td id=\"T_13267_row2_col3\" class=\"data row2 col3\" >0.100170</td>\n      <td id=\"T_13267_row2_col4\" class=\"data row2 col4\" >0.778157</td>\n      <td id=\"T_13267_row2_col5\" class=\"data row2 col5\" >0.029403</td>\n      <td id=\"T_13267_row2_col6\" class=\"data row2 col6\" >0.403780</td>\n    </tr>\n    <tr>\n      <th id=\"T_13267_level0_row3\" class=\"row_heading level0 row3\" >3</th>\n      <td id=\"T_13267_row3_col0\" class=\"data row3 col0\" >5100610</td>\n      <td id=\"T_13267_row3_col1\" class=\"data row3 col1\" >0.167580</td>\n      <td id=\"T_13267_row3_col2\" class=\"data row3 col2\" >0.039063</td>\n      <td id=\"T_13267_row3_col3\" class=\"data row3 col3\" >0.081039</td>\n      <td id=\"T_13267_row3_col4\" class=\"data row3 col4\" >0.747968</td>\n      <td id=\"T_13267_row3_col5\" class=\"data row3 col5\" >0.047142</td>\n      <td id=\"T_13267_row3_col6\" class=\"data row3 col6\" >0.397555</td>\n    </tr>\n    <tr>\n      <th id=\"T_13267_level0_row4\" class=\"row_heading level0 row4\" >4</th>\n      <td id=\"T_13267_row4_col0\" class=\"data row4 col0\" >5100365</td>\n      <td id=\"T_13267_row4_col1\" class=\"data row4 col1\" >0.142535</td>\n      <td id=\"T_13267_row4_col2\" class=\"data row4 col2\" >0.039339</td>\n      <td id=\"T_13267_row4_col3\" class=\"data row4 col3\" >0.128554</td>\n      <td id=\"T_13267_row4_col4\" class=\"data row4 col4\" >0.762979</td>\n      <td id=\"T_13267_row4_col5\" class=\"data row4 col5\" >0.029403</td>\n      <td id=\"T_13267_row4_col6\" class=\"data row4 col6\" >0.396191</td>\n    </tr>\n    <tr>\n      <th id=\"T_13267_level0_row5\" class=\"row_heading level0 row5\" >5</th>\n      <td id=\"T_13267_row5_col0\" class=\"data row5 col0\" >5100689</td>\n      <td id=\"T_13267_row5_col1\" class=\"data row5 col1\" >0.136219</td>\n      <td id=\"T_13267_row5_col2\" class=\"data row5 col2\" >0.035785</td>\n      <td id=\"T_13267_row5_col3\" class=\"data row5 col3\" >0.139820</td>\n      <td id=\"T_13267_row5_col4\" class=\"data row5 col4\" >0.761926</td>\n      <td id=\"T_13267_row5_col5\" class=\"data row5 col5\" >0.029403</td>\n      <td id=\"T_13267_row5_col6\" class=\"data row5 col6\" >0.395664</td>\n    </tr>\n    <tr>\n      <th id=\"T_13267_level0_row6\" class=\"row_heading level0 row6\" >6</th>\n      <td id=\"T_13267_row6_col0\" class=\"data row6 col0\" >5100505</td>\n      <td id=\"T_13267_row6_col1\" class=\"data row6 col1\" >0.098612</td>\n      <td id=\"T_13267_row6_col2\" class=\"data row6 col2\" >0.017569</td>\n      <td id=\"T_13267_row6_col3\" class=\"data row6 col3\" >0.100222</td>\n      <td id=\"T_13267_row6_col4\" class=\"data row6 col4\" >0.758516</td>\n      <td id=\"T_13267_row6_col5\" class=\"data row6 col5\" >0.029403</td>\n      <td id=\"T_13267_row6_col6\" class=\"data row6 col6\" >0.393959</td>\n    </tr>\n    <tr>\n      <th id=\"T_13267_level0_row7\" class=\"row_heading level0 row7\" >7</th>\n      <td id=\"T_13267_row7_col0\" class=\"data row7 col0\" >5100338</td>\n      <td id=\"T_13267_row7_col1\" class=\"data row7 col1\" >0.120163</td>\n      <td id=\"T_13267_row7_col2\" class=\"data row7 col2\" >0.026111</td>\n      <td id=\"T_13267_row7_col3\" class=\"data row7 col3\" >0.094215</td>\n      <td id=\"T_13267_row7_col4\" class=\"data row7 col4\" >0.757654</td>\n      <td id=\"T_13267_row7_col5\" class=\"data row7 col5\" >0.029403</td>\n      <td id=\"T_13267_row7_col6\" class=\"data row7 col6\" >0.393529</td>\n    </tr>\n    <tr>\n      <th id=\"T_13267_level0_row8\" class=\"row_heading level0 row8\" >8</th>\n      <td id=\"T_13267_row8_col0\" class=\"data row8 col0\" >5100572</td>\n      <td id=\"T_13267_row8_col1\" class=\"data row8 col1\" >0.152903</td>\n      <td id=\"T_13267_row8_col2\" class=\"data row8 col2\" >0.026821</td>\n      <td id=\"T_13267_row8_col3\" class=\"data row8 col3\" >0.381558</td>\n      <td id=\"T_13267_row8_col4\" class=\"data row8 col4\" >0.742953</td>\n      <td id=\"T_13267_row8_col5\" class=\"data row8 col5\" >0.035628</td>\n      <td id=\"T_13267_row8_col6\" class=\"data row8 col6\" >0.389291</td>\n    </tr>\n    <tr>\n      <th id=\"T_13267_level0_row9\" class=\"row_heading level0 row9\" >9</th>\n      <td id=\"T_13267_row9_col0\" class=\"data row9 col0\" >5100576</td>\n      <td id=\"T_13267_row9_col1\" class=\"data row9 col1\" >0.150335</td>\n      <td id=\"T_13267_row9_col2\" class=\"data row9 col2\" >0.026530</td>\n      <td id=\"T_13267_row9_col3\" class=\"data row9 col3\" >0.367609</td>\n      <td id=\"T_13267_row9_col4\" class=\"data row9 col4\" >0.743878</td>\n      <td id=\"T_13267_row9_col5\" class=\"data row9 col5\" >0.032670</td>\n      <td id=\"T_13267_row9_col6\" class=\"data row9 col6\" >0.388274</td>\n    </tr>\n    <tr>\n      <th id=\"T_13267_level0_row10\" class=\"row_heading level0 row10\" >10</th>\n      <td id=\"T_13267_row10_col0\" class=\"data row10 col0\" >5100346</td>\n      <td id=\"T_13267_row10_col1\" class=\"data row10 col1\" >0.119656</td>\n      <td id=\"T_13267_row10_col2\" class=\"data row10 col2\" >0.015488</td>\n      <td id=\"T_13267_row10_col3\" class=\"data row10 col3\" >0.209387</td>\n      <td id=\"T_13267_row10_col4\" class=\"data row10 col4\" >0.744928</td>\n      <td id=\"T_13267_row10_col5\" class=\"data row10 col5\" >0.029403</td>\n      <td id=\"T_13267_row10_col6\" class=\"data row10 col6\" >0.387165</td>\n    </tr>\n    <tr>\n      <th id=\"T_13267_level0_row11\" class=\"row_heading level0 row11\" >11</th>\n      <td id=\"T_13267_row11_col0\" class=\"data row11 col0\" >5100337</td>\n      <td id=\"T_13267_row11_col1\" class=\"data row11 col1\" >0.155865</td>\n      <td id=\"T_13267_row11_col2\" class=\"data row11 col2\" >0.024890</td>\n      <td id=\"T_13267_row11_col3\" class=\"data row11 col3\" >0.152943</td>\n      <td id=\"T_13267_row11_col4\" class=\"data row11 col4\" >0.736418</td>\n      <td id=\"T_13267_row11_col5\" class=\"data row11 col5\" >0.035797</td>\n      <td id=\"T_13267_row11_col6\" class=\"data row11 col6\" >0.386107</td>\n    </tr>\n    <tr>\n      <th id=\"T_13267_level0_row12\" class=\"row_heading level0 row12\" >12</th>\n      <td id=\"T_13267_row12_col0\" class=\"data row12 col0\" >5100566</td>\n      <td id=\"T_13267_row12_col1\" class=\"data row12 col1\" >0.203087</td>\n      <td id=\"T_13267_row12_col2\" class=\"data row12 col2\" >0.028830</td>\n      <td id=\"T_13267_row12_col3\" class=\"data row12 col3\" >0.432456</td>\n      <td id=\"T_13267_row12_col4\" class=\"data row12 col4\" >0.717752</td>\n      <td id=\"T_13267_row12_col5\" class=\"data row12 col5\" >0.042121</td>\n      <td id=\"T_13267_row12_col6\" class=\"data row12 col6\" >0.379937</td>\n    </tr>\n    <tr>\n      <th id=\"T_13267_level0_row13\" class=\"row_heading level0 row13\" >13</th>\n      <td id=\"T_13267_row13_col0\" class=\"data row13 col0\" >5100575</td>\n      <td id=\"T_13267_row13_col1\" class=\"data row13 col1\" >0.169240</td>\n      <td id=\"T_13267_row13_col2\" class=\"data row13 col2\" >0.023495</td>\n      <td id=\"T_13267_row13_col3\" class=\"data row13 col3\" >0.383933</td>\n      <td id=\"T_13267_row13_col4\" class=\"data row13 col4\" >0.729302</td>\n      <td id=\"T_13267_row13_col5\" class=\"data row13 col5\" >0.029403</td>\n      <td id=\"T_13267_row13_col6\" class=\"data row13 col6\" >0.379352</td>\n    </tr>\n    <tr>\n      <th id=\"T_13267_level0_row14\" class=\"row_heading level0 row14\" >14</th>\n      <td id=\"T_13267_row14_col0\" class=\"data row14 col0\" >5100571</td>\n      <td id=\"T_13267_row14_col1\" class=\"data row14 col1\" >0.164857</td>\n      <td id=\"T_13267_row14_col2\" class=\"data row14 col2\" >0.020882</td>\n      <td id=\"T_13267_row14_col3\" class=\"data row14 col3\" >0.381810</td>\n      <td id=\"T_13267_row14_col4\" class=\"data row14 col4\" >0.728275</td>\n      <td id=\"T_13267_row14_col5\" class=\"data row14 col5\" >0.029403</td>\n      <td id=\"T_13267_row14_col6\" class=\"data row14 col6\" >0.378839</td>\n    </tr>\n    <tr>\n      <th id=\"T_13267_level0_row15\" class=\"row_heading level0 row15\" >15</th>\n      <td id=\"T_13267_row15_col0\" class=\"data row15 col0\" >5100570</td>\n      <td id=\"T_13267_row15_col1\" class=\"data row15 col1\" >0.160564</td>\n      <td id=\"T_13267_row15_col2\" class=\"data row15 col2\" >0.017403</td>\n      <td id=\"T_13267_row15_col3\" class=\"data row15 col3\" >0.436428</td>\n      <td id=\"T_13267_row15_col4\" class=\"data row15 col4\" >0.726611</td>\n      <td id=\"T_13267_row15_col5\" class=\"data row15 col5\" >0.029403</td>\n      <td id=\"T_13267_row15_col6\" class=\"data row15 col6\" >0.378007</td>\n    </tr>\n    <tr>\n      <th id=\"T_13267_level0_row16\" class=\"row_heading level0 row16\" >16</th>\n      <td id=\"T_13267_row16_col0\" class=\"data row16 col0\" >5100351</td>\n      <td id=\"T_13267_row16_col1\" class=\"data row16 col1\" >0.187763</td>\n      <td id=\"T_13267_row16_col2\" class=\"data row16 col2\" >0.028616</td>\n      <td id=\"T_13267_row16_col3\" class=\"data row16 col3\" >0.079314</td>\n      <td id=\"T_13267_row16_col4\" class=\"data row16 col4\" >0.722605</td>\n      <td id=\"T_13267_row16_col5\" class=\"data row16 col5\" >0.029403</td>\n      <td id=\"T_13267_row16_col6\" class=\"data row16 col6\" >0.376004</td>\n    </tr>\n    <tr>\n      <th id=\"T_13267_level0_row17\" class=\"row_heading level0 row17\" >17</th>\n      <td id=\"T_13267_row17_col0\" class=\"data row17 col0\" >5100574</td>\n      <td id=\"T_13267_row17_col1\" class=\"data row17 col1\" >0.164418</td>\n      <td id=\"T_13267_row17_col2\" class=\"data row17 col2\" >0.014802</td>\n      <td id=\"T_13267_row17_col3\" class=\"data row17 col3\" >0.468627</td>\n      <td id=\"T_13267_row17_col4\" class=\"data row17 col4\" >0.721285</td>\n      <td id=\"T_13267_row17_col5\" class=\"data row17 col5\" >0.029403</td>\n      <td id=\"T_13267_row17_col6\" class=\"data row17 col6\" >0.375344</td>\n    </tr>\n    <tr>\n      <th id=\"T_13267_level0_row18\" class=\"row_heading level0 row18\" >18</th>\n      <td id=\"T_13267_row18_col0\" class=\"data row18 col0\" >40500173</td>\n      <td id=\"T_13267_row18_col1\" class=\"data row18 col1\" >0.172331</td>\n      <td id=\"T_13267_row18_col2\" class=\"data row18 col2\" >0.014252</td>\n      <td id=\"T_13267_row18_col3\" class=\"data row18 col3\" >0.946603</td>\n      <td id=\"T_13267_row18_col4\" class=\"data row18 col4\" >0.720855</td>\n      <td id=\"T_13267_row18_col5\" class=\"data row18 col5\" >0.029403</td>\n      <td id=\"T_13267_row18_col6\" class=\"data row18 col6\" >0.375129</td>\n    </tr>\n    <tr>\n      <th id=\"T_13267_level0_row19\" class=\"row_heading level0 row19\" >19</th>\n      <td id=\"T_13267_row19_col0\" class=\"data row19 col0\" >5100567</td>\n      <td id=\"T_13267_row19_col1\" class=\"data row19 col1\" >0.194320</td>\n      <td id=\"T_13267_row19_col2\" class=\"data row19 col2\" >0.026851</td>\n      <td id=\"T_13267_row19_col3\" class=\"data row19 col3\" >0.439485</td>\n      <td id=\"T_13267_row19_col4\" class=\"data row19 col4\" >0.720144</td>\n      <td id=\"T_13267_row19_col5\" class=\"data row19 col5\" >0.029403</td>\n      <td id=\"T_13267_row19_col6\" class=\"data row19 col6\" >0.374773</td>\n    </tr>\n    <tr>\n      <th id=\"T_13267_level0_row20\" class=\"row_heading level0 row20\" >20</th>\n      <td id=\"T_13267_row20_col0\" class=\"data row20 col0\" >5100735</td>\n      <td id=\"T_13267_row20_col1\" class=\"data row20 col1\" >0.157391</td>\n      <td id=\"T_13267_row20_col2\" class=\"data row20 col2\" >0.009596</td>\n      <td id=\"T_13267_row20_col3\" class=\"data row20 col3\" >0.569735</td>\n      <td id=\"T_13267_row20_col4\" class=\"data row20 col4\" >0.719330</td>\n      <td id=\"T_13267_row20_col5\" class=\"data row20 col5\" >0.029403</td>\n      <td id=\"T_13267_row20_col6\" class=\"data row20 col6\" >0.374367</td>\n    </tr>\n    <tr>\n      <th id=\"T_13267_level0_row21\" class=\"row_heading level0 row21\" >21</th>\n      <td id=\"T_13267_row21_col0\" class=\"data row21 col0\" >40500104</td>\n      <td id=\"T_13267_row21_col1\" class=\"data row21 col1\" >0.210032</td>\n      <td id=\"T_13267_row21_col2\" class=\"data row21 col2\" >0.025511</td>\n      <td id=\"T_13267_row21_col3\" class=\"data row21 col3\" >1.107652</td>\n      <td id=\"T_13267_row21_col4\" class=\"data row21 col4\" >0.714255</td>\n      <td id=\"T_13267_row21_col5\" class=\"data row21 col5\" >0.029403</td>\n      <td id=\"T_13267_row21_col6\" class=\"data row21 col6\" >0.371829</td>\n    </tr>\n    <tr>\n      <th id=\"T_13267_level0_row22\" class=\"row_heading level0 row22\" >22</th>\n      <td id=\"T_13267_row22_col0\" class=\"data row22 col0\" >5100573</td>\n      <td id=\"T_13267_row22_col1\" class=\"data row22 col1\" >0.202191</td>\n      <td id=\"T_13267_row22_col2\" class=\"data row22 col2\" >0.012753</td>\n      <td id=\"T_13267_row22_col3\" class=\"data row22 col3\" >0.481612</td>\n      <td id=\"T_13267_row22_col4\" class=\"data row22 col4\" >0.697315</td>\n      <td id=\"T_13267_row22_col5\" class=\"data row22 col5\" >0.029403</td>\n      <td id=\"T_13267_row22_col6\" class=\"data row22 col6\" >0.363359</td>\n    </tr>\n    <tr>\n      <th id=\"T_13267_level0_row23\" class=\"row_heading level0 row23\" >23</th>\n      <td id=\"T_13267_row23_col0\" class=\"data row23 col0\" >5100347</td>\n      <td id=\"T_13267_row23_col1\" class=\"data row23 col1\" >0.230571</td>\n      <td id=\"T_13267_row23_col2\" class=\"data row23 col2\" >0.022425</td>\n      <td id=\"T_13267_row23_col3\" class=\"data row23 col3\" >0.206721</td>\n      <td id=\"T_13267_row23_col4\" class=\"data row23 col4\" >0.691408</td>\n      <td id=\"T_13267_row23_col5\" class=\"data row23 col5\" >0.029403</td>\n      <td id=\"T_13267_row23_col6\" class=\"data row23 col6\" >0.360406</td>\n    </tr>\n    <tr>\n      <th id=\"T_13267_level0_row24\" class=\"row_heading level0 row24\" >24</th>\n      <td id=\"T_13267_row24_col0\" class=\"data row24 col0\" >5100744</td>\n      <td id=\"T_13267_row24_col1\" class=\"data row24 col1\" >0.216188</td>\n      <td id=\"T_13267_row24_col2\" class=\"data row24 col2\" >0.012797</td>\n      <td id=\"T_13267_row24_col3\" class=\"data row24 col3\" >0.539543</td>\n      <td id=\"T_13267_row24_col4\" class=\"data row24 col4\" >0.690036</td>\n      <td id=\"T_13267_row24_col5\" class=\"data row24 col5\" >0.029403</td>\n      <td id=\"T_13267_row24_col6\" class=\"data row24 col6\" >0.359719</td>\n    </tr>\n    <tr>\n      <th id=\"T_13267_level0_row25\" class=\"row_heading level0 row25\" >25</th>\n      <td id=\"T_13267_row25_col0\" class=\"data row25 col0\" >5100096</td>\n      <td id=\"T_13267_row25_col1\" class=\"data row25 col1\" >0.217736</td>\n      <td id=\"T_13267_row25_col2\" class=\"data row25 col2\" >0.012338</td>\n      <td id=\"T_13267_row25_col3\" class=\"data row25 col3\" >0.451563</td>\n      <td id=\"T_13267_row25_col4\" class=\"data row25 col4\" >0.687668</td>\n      <td id=\"T_13267_row25_col5\" class=\"data row25 col5\" >0.029403</td>\n      <td id=\"T_13267_row25_col6\" class=\"data row25 col6\" >0.358535</td>\n    </tr>\n    <tr>\n      <th id=\"T_13267_level0_row26\" class=\"row_heading level0 row26\" >26</th>\n      <td id=\"T_13267_row26_col0\" class=\"data row26 col0\" >5100624</td>\n      <td id=\"T_13267_row26_col1\" class=\"data row26 col1\" >0.213755</td>\n      <td id=\"T_13267_row26_col2\" class=\"data row26 col2\" >0.007943</td>\n      <td id=\"T_13267_row26_col3\" class=\"data row26 col3\" >0.555532</td>\n      <td id=\"T_13267_row26_col4\" class=\"data row26 col4\" >0.685099</td>\n      <td id=\"T_13267_row26_col5\" class=\"data row26 col5\" >0.029403</td>\n      <td id=\"T_13267_row26_col6\" class=\"data row26 col6\" >0.357251</td>\n    </tr>\n    <tr>\n      <th id=\"T_13267_level0_row27\" class=\"row_heading level0 row27\" >27</th>\n      <td id=\"T_13267_row27_col0\" class=\"data row27 col0\" >5100852</td>\n      <td id=\"T_13267_row27_col1\" class=\"data row27 col1\" >0.266939</td>\n      <td id=\"T_13267_row27_col2\" class=\"data row27 col2\" >0.025219</td>\n      <td id=\"T_13267_row27_col3\" class=\"data row27 col3\" >0.582352</td>\n      <td id=\"T_13267_row27_col4\" class=\"data row27 col4\" >0.678317</td>\n      <td id=\"T_13267_row27_col5\" class=\"data row27 col5\" >0.034970</td>\n      <td id=\"T_13267_row27_col6\" class=\"data row27 col6\" >0.356644</td>\n    </tr>\n    <tr>\n      <th id=\"T_13267_level0_row28\" class=\"row_heading level0 row28\" >28</th>\n      <td id=\"T_13267_row28_col0\" class=\"data row28 col0\" >40500103</td>\n      <td id=\"T_13267_row28_col1\" class=\"data row28 col1\" >0.208585</td>\n      <td id=\"T_13267_row28_col2\" class=\"data row28 col2\" >0.011619</td>\n      <td id=\"T_13267_row28_col3\" class=\"data row28 col3\" >2.982644</td>\n      <td id=\"T_13267_row28_col4\" class=\"data row28 col4\" >0.677801</td>\n      <td id=\"T_13267_row28_col5\" class=\"data row28 col5\" >0.029403</td>\n      <td id=\"T_13267_row28_col6\" class=\"data row28 col6\" >0.353602</td>\n    </tr>\n    <tr>\n      <th id=\"T_13267_level0_row29\" class=\"row_heading level0 row29\" >29</th>\n      <td id=\"T_13267_row29_col0\" class=\"data row29 col0\" >21406687</td>\n      <td id=\"T_13267_row29_col1\" class=\"data row29 col1\" >0.233477</td>\n      <td id=\"T_13267_row29_col2\" class=\"data row29 col2\" >0.006954</td>\n      <td id=\"T_13267_row29_col3\" class=\"data row29 col3\" >0.521563</td>\n      <td id=\"T_13267_row29_col4\" class=\"data row29 col4\" >0.672284</td>\n      <td id=\"T_13267_row29_col5\" class=\"data row29 col5\" >0.029403</td>\n      <td id=\"T_13267_row29_col6\" class=\"data row29 col6\" >0.350843</td>\n    </tr>\n    <tr>\n      <th id=\"T_13267_level0_row30\" class=\"row_heading level0 row30\" >30</th>\n      <td id=\"T_13267_row30_col0\" class=\"data row30 col0\" >26027590</td>\n      <td id=\"T_13267_row30_col1\" class=\"data row30 col1\" >0.264537</td>\n      <td id=\"T_13267_row30_col2\" class=\"data row30 col2\" >0.018586</td>\n      <td id=\"T_13267_row30_col3\" class=\"data row30 col3\" >1.723535</td>\n      <td id=\"T_13267_row30_col4\" class=\"data row30 col4\" >0.668030</td>\n      <td id=\"T_13267_row30_col5\" class=\"data row30 col5\" >0.029403</td>\n      <td id=\"T_13267_row30_col6\" class=\"data row30 col6\" >0.348716</td>\n    </tr>\n    <tr>\n      <th id=\"T_13267_level0_row31\" class=\"row_heading level0 row31\" >31</th>\n      <td id=\"T_13267_row31_col0\" class=\"data row31 col0\" >4804235</td>\n      <td id=\"T_13267_row31_col1\" class=\"data row31 col1\" >0.272318</td>\n      <td id=\"T_13267_row31_col2\" class=\"data row31 col2\" >0.024253</td>\n      <td id=\"T_13267_row31_col3\" class=\"data row31 col3\" >2.060778</td>\n      <td id=\"T_13267_row31_col4\" class=\"data row31 col4\" >0.667812</td>\n      <td id=\"T_13267_row31_col5\" class=\"data row31 col5\" >0.029403</td>\n      <td id=\"T_13267_row31_col6\" class=\"data row31 col6\" >0.348608</td>\n    </tr>\n    <tr>\n      <th id=\"T_13267_level0_row32\" class=\"row_heading level0 row32\" >32</th>\n      <td id=\"T_13267_row32_col0\" class=\"data row32 col0\" >21411971</td>\n      <td id=\"T_13267_row32_col1\" class=\"data row32 col1\" >0.245310</td>\n      <td id=\"T_13267_row32_col2\" class=\"data row32 col2\" >0.006788</td>\n      <td id=\"T_13267_row32_col3\" class=\"data row32 col3\" >1.308420</td>\n      <td id=\"T_13267_row32_col4\" class=\"data row32 col4\" >0.667326</td>\n      <td id=\"T_13267_row32_col5\" class=\"data row32 col5\" >0.029403</td>\n      <td id=\"T_13267_row32_col6\" class=\"data row32 col6\" >0.348365</td>\n    </tr>\n    <tr>\n      <th id=\"T_13267_level0_row33\" class=\"row_heading level0 row33\" >33</th>\n      <td id=\"T_13267_row33_col0\" class=\"data row33 col0\" >40500101</td>\n      <td id=\"T_13267_row33_col1\" class=\"data row33 col1\" >0.210058</td>\n      <td id=\"T_13267_row33_col2\" class=\"data row33 col2\" >0.011572</td>\n      <td id=\"T_13267_row33_col3\" class=\"data row33 col3\" >4.413433</td>\n      <td id=\"T_13267_row33_col4\" class=\"data row33 col4\" >0.662597</td>\n      <td id=\"T_13267_row33_col5\" class=\"data row33 col5\" >0.029403</td>\n      <td id=\"T_13267_row33_col6\" class=\"data row33 col6\" >0.346000</td>\n    </tr>\n    <tr>\n      <th id=\"T_13267_level0_row34\" class=\"row_heading level0 row34\" >34</th>\n      <td id=\"T_13267_row34_col0\" class=\"data row34 col0\" >26202297</td>\n      <td id=\"T_13267_row34_col1\" class=\"data row34 col1\" >0.238200</td>\n      <td id=\"T_13267_row34_col2\" class=\"data row34 col2\" >0.010626</td>\n      <td id=\"T_13267_row34_col3\" class=\"data row34 col3\" >-0.795044</td>\n      <td id=\"T_13267_row34_col4\" class=\"data row34 col4\" >0.661343</td>\n      <td id=\"T_13267_row34_col5\" class=\"data row34 col5\" >0.029403</td>\n      <td id=\"T_13267_row34_col6\" class=\"data row34 col6\" >0.345373</td>\n    </tr>\n    <tr>\n      <th id=\"T_13267_level0_row35\" class=\"row_heading level0 row35\" >35</th>\n      <td id=\"T_13267_row35_col0\" class=\"data row35 col0\" >21409663</td>\n      <td id=\"T_13267_row35_col1\" class=\"data row35 col1\" >0.238063</td>\n      <td id=\"T_13267_row35_col2\" class=\"data row35 col2\" >0.007521</td>\n      <td id=\"T_13267_row35_col3\" class=\"data row35 col3\" >2.579257</td>\n      <td id=\"T_13267_row35_col4\" class=\"data row35 col4\" >0.659696</td>\n      <td id=\"T_13267_row35_col5\" class=\"data row35 col5\" >0.029403</td>\n      <td id=\"T_13267_row35_col6\" class=\"data row35 col6\" >0.344549</td>\n    </tr>\n    <tr>\n      <th id=\"T_13267_level0_row36\" class=\"row_heading level0 row36\" >36</th>\n      <td id=\"T_13267_row36_col0\" class=\"data row36 col0\" >21410950</td>\n      <td id=\"T_13267_row36_col1\" class=\"data row36 col1\" >0.258671</td>\n      <td id=\"T_13267_row36_col2\" class=\"data row36 col2\" >0.006954</td>\n      <td id=\"T_13267_row36_col3\" class=\"data row36 col3\" >0.686702</td>\n      <td id=\"T_13267_row36_col4\" class=\"data row36 col4\" >0.659684</td>\n      <td id=\"T_13267_row36_col5\" class=\"data row36 col5\" >0.029403</td>\n      <td id=\"T_13267_row36_col6\" class=\"data row36 col6\" >0.344543</td>\n    </tr>\n    <tr>\n      <th id=\"T_13267_level0_row37\" class=\"row_heading level0 row37\" >37</th>\n      <td id=\"T_13267_row37_col0\" class=\"data row37 col0\" >17301089</td>\n      <td id=\"T_13267_row37_col1\" class=\"data row37 col1\" >0.262055</td>\n      <td id=\"T_13267_row37_col2\" class=\"data row37 col2\" >0.013380</td>\n      <td id=\"T_13267_row37_col3\" class=\"data row37 col3\" >0.013617</td>\n      <td id=\"T_13267_row37_col4\" class=\"data row37 col4\" >0.659607</td>\n      <td id=\"T_13267_row37_col5\" class=\"data row37 col5\" >0.029403</td>\n      <td id=\"T_13267_row37_col6\" class=\"data row37 col6\" >0.344505</td>\n    </tr>\n    <tr>\n      <th id=\"T_13267_level0_row38\" class=\"row_heading level0 row38\" >38</th>\n      <td id=\"T_13267_row38_col0\" class=\"data row38 col0\" >18001685</td>\n      <td id=\"T_13267_row38_col1\" class=\"data row38 col1\" >0.260893</td>\n      <td id=\"T_13267_row38_col2\" class=\"data row38 col2\" >0.006459</td>\n      <td id=\"T_13267_row38_col3\" class=\"data row38 col3\" >0.868140</td>\n      <td id=\"T_13267_row38_col4\" class=\"data row38 col4\" >0.659581</td>\n      <td id=\"T_13267_row38_col5\" class=\"data row38 col5\" >0.029403</td>\n      <td id=\"T_13267_row38_col6\" class=\"data row38 col6\" >0.344492</td>\n    </tr>\n    <tr>\n      <th id=\"T_13267_level0_row39\" class=\"row_heading level0 row39\" >39</th>\n      <td id=\"T_13267_row39_col0\" class=\"data row39 col0\" >40500425</td>\n      <td id=\"T_13267_row39_col1\" class=\"data row39 col1\" >0.247404</td>\n      <td id=\"T_13267_row39_col2\" class=\"data row39 col2\" >0.014146</td>\n      <td id=\"T_13267_row39_col3\" class=\"data row39 col3\" >3.075533</td>\n      <td id=\"T_13267_row39_col4\" class=\"data row39 col4\" >0.658282</td>\n      <td id=\"T_13267_row39_col5\" class=\"data row39 col5\" >0.029403</td>\n      <td id=\"T_13267_row39_col6\" class=\"data row39 col6\" >0.343843</td>\n    </tr>\n    <tr>\n      <th id=\"T_13267_level0_row40\" class=\"row_heading level0 row40\" >40</th>\n      <td id=\"T_13267_row40_col0\" class=\"data row40 col0\" >40500507</td>\n      <td id=\"T_13267_row40_col1\" class=\"data row40 col1\" >0.253302</td>\n      <td id=\"T_13267_row40_col2\" class=\"data row40 col2\" >0.014125</td>\n      <td id=\"T_13267_row40_col3\" class=\"data row40 col3\" >2.876119</td>\n      <td id=\"T_13267_row40_col4\" class=\"data row40 col4\" >0.656912</td>\n      <td id=\"T_13267_row40_col5\" class=\"data row40 col5\" >0.029403</td>\n      <td id=\"T_13267_row40_col6\" class=\"data row40 col6\" >0.343157</td>\n    </tr>\n    <tr>\n      <th id=\"T_13267_level0_row41\" class=\"row_heading level0 row41\" >41</th>\n      <td id=\"T_13267_row41_col0\" class=\"data row41 col0\" >27200540</td>\n      <td id=\"T_13267_row41_col1\" class=\"data row41 col1\" >0.255547</td>\n      <td id=\"T_13267_row41_col2\" class=\"data row41 col2\" >0.003668</td>\n      <td id=\"T_13267_row41_col3\" class=\"data row41 col3\" >0.098901</td>\n      <td id=\"T_13267_row41_col4\" class=\"data row41 col4\" >0.651193</td>\n      <td id=\"T_13267_row41_col5\" class=\"data row41 col5\" >0.029403</td>\n      <td id=\"T_13267_row41_col6\" class=\"data row41 col6\" >0.340298</td>\n    </tr>\n    <tr>\n      <th id=\"T_13267_level0_row42\" class=\"row_heading level0 row42\" >42</th>\n      <td id=\"T_13267_row42_col0\" class=\"data row42 col0\" >18001355</td>\n      <td id=\"T_13267_row42_col1\" class=\"data row42 col1\" >0.265378</td>\n      <td id=\"T_13267_row42_col2\" class=\"data row42 col2\" >0.007394</td>\n      <td id=\"T_13267_row42_col3\" class=\"data row42 col3\" >0.117776</td>\n      <td id=\"T_13267_row42_col4\" class=\"data row42 col4\" >0.650787</td>\n      <td id=\"T_13267_row42_col5\" class=\"data row42 col5\" >0.029403</td>\n      <td id=\"T_13267_row42_col6\" class=\"data row42 col6\" >0.340095</td>\n    </tr>\n    <tr>\n      <th id=\"T_13267_level0_row43\" class=\"row_heading level0 row43\" >43</th>\n      <td id=\"T_13267_row43_col0\" class=\"data row43 col0\" >5100568</td>\n      <td id=\"T_13267_row43_col1\" class=\"data row43 col1\" >0.273082</td>\n      <td id=\"T_13267_row43_col2\" class=\"data row43 col2\" >0.005252</td>\n      <td id=\"T_13267_row43_col3\" class=\"data row43 col3\" >0.492397</td>\n      <td id=\"T_13267_row43_col4\" class=\"data row43 col4\" >0.647320</td>\n      <td id=\"T_13267_row43_col5\" class=\"data row43 col5\" >0.029403</td>\n      <td id=\"T_13267_row43_col6\" class=\"data row43 col6\" >0.338361</td>\n    </tr>\n    <tr>\n      <th id=\"T_13267_level0_row44\" class=\"row_heading level0 row44\" >44</th>\n      <td id=\"T_13267_row44_col0\" class=\"data row44 col0\" >40500390</td>\n      <td id=\"T_13267_row44_col1\" class=\"data row44 col1\" >0.254913</td>\n      <td id=\"T_13267_row44_col2\" class=\"data row44 col2\" >0.010751</td>\n      <td id=\"T_13267_row44_col3\" class=\"data row44 col3\" >3.424663</td>\n      <td id=\"T_13267_row44_col4\" class=\"data row44 col4\" >0.646016</td>\n      <td id=\"T_13267_row44_col5\" class=\"data row44 col5\" >0.029403</td>\n      <td id=\"T_13267_row44_col6\" class=\"data row44 col6\" >0.337709</td>\n    </tr>\n    <tr>\n      <th id=\"T_13267_level0_row45\" class=\"row_heading level0 row45\" >45</th>\n      <td id=\"T_13267_row45_col0\" class=\"data row45 col0\" >40500102</td>\n      <td id=\"T_13267_row45_col1\" class=\"data row45 col1\" >0.243368</td>\n      <td id=\"T_13267_row45_col2\" class=\"data row45 col2\" >0.009016</td>\n      <td id=\"T_13267_row45_col3\" class=\"data row45 col3\" >4.413433</td>\n      <td id=\"T_13267_row45_col4\" class=\"data row45 col4\" >0.640346</td>\n      <td id=\"T_13267_row45_col5\" class=\"data row45 col5\" >0.029403</td>\n      <td id=\"T_13267_row45_col6\" class=\"data row45 col6\" >0.334874</td>\n    </tr>\n    <tr>\n      <th id=\"T_13267_level0_row46\" class=\"row_heading level0 row46\" >46</th>\n      <td id=\"T_13267_row46_col0\" class=\"data row46 col0\" >18300795</td>\n      <td id=\"T_13267_row46_col1\" class=\"data row46 col1\" >0.271375</td>\n      <td id=\"T_13267_row46_col2\" class=\"data row46 col2\" >0.009708</td>\n      <td id=\"T_13267_row46_col3\" class=\"data row46 col3\" >3.064217</td>\n      <td id=\"T_13267_row46_col4\" class=\"data row46 col4\" >0.638917</td>\n      <td id=\"T_13267_row46_col5\" class=\"data row46 col5\" >0.029403</td>\n      <td id=\"T_13267_row46_col6\" class=\"data row46 col6\" >0.334160</td>\n    </tr>\n    <tr>\n      <th id=\"T_13267_level0_row47\" class=\"row_heading level0 row47\" >47</th>\n      <td id=\"T_13267_row47_col0\" class=\"data row47 col0\" >18000815</td>\n      <td id=\"T_13267_row47_col1\" class=\"data row47 col1\" >0.232291</td>\n      <td id=\"T_13267_row47_col2\" class=\"data row47 col2\" >0.007365</td>\n      <td id=\"T_13267_row47_col3\" class=\"data row47 col3\" >5.000000</td>\n      <td id=\"T_13267_row47_col4\" class=\"data row47 col4\" >0.638545</td>\n      <td id=\"T_13267_row47_col5\" class=\"data row47 col5\" >0.029403</td>\n      <td id=\"T_13267_row47_col6\" class=\"data row47 col6\" >0.333974</td>\n    </tr>\n    <tr>\n      <th id=\"T_13267_level0_row48\" class=\"row_heading level0 row48\" >48</th>\n      <td id=\"T_13267_row48_col0\" class=\"data row48 col0\" >21406812</td>\n      <td id=\"T_13267_row48_col1\" class=\"data row48 col1\" >0.267965</td>\n      <td id=\"T_13267_row48_col2\" class=\"data row48 col2\" >0.006644</td>\n      <td id=\"T_13267_row48_col3\" class=\"data row48 col3\" >3.075975</td>\n      <td id=\"T_13267_row48_col4\" class=\"data row48 col4\" >0.636643</td>\n      <td id=\"T_13267_row48_col5\" class=\"data row48 col5\" >0.029403</td>\n      <td id=\"T_13267_row48_col6\" class=\"data row48 col6\" >0.333023</td>\n    </tr>\n  </tbody>\n</table>\n"
          },
          "metadata": {}
        }
      ]
    },
    {
      "cell_type": "code",
      "source": [
        "als_model.save('/kaggle/working/best_als_model')"
      ],
      "metadata": {
        "execution": {
          "iopub.status.busy": "2024-03-04T09:08:14.875636Z",
          "iopub.execute_input": "2024-03-04T09:08:14.876078Z",
          "iopub.status.idle": "2024-03-04T09:08:31.411903Z",
          "shell.execute_reply.started": "2024-03-04T09:08:14.876044Z",
          "shell.execute_reply": "2024-03-04T09:08:31.408557Z"
        },
        "trusted": true,
        "id": "QHebbdygVav0",
        "outputId": "ebf5901c-7752-46db-8124-b7febb2e4058"
      },
      "execution_count": null,
      "outputs": [
        {
          "name": "stderr",
          "text": "                                                                                \r",
          "output_type": "stream"
        }
      ]
    },
    {
      "cell_type": "code",
      "source": [
        "from pyspark.ml.util import MLWritable, MLReadable\n",
        "def save_ml_component(ml_component, path):\n",
        "    ml_component.write().overwrite().save(path)\n",
        "\n",
        "def load_ml_component(path):\n",
        "    return MLReadable.load(path)\n",
        "\n"
      ],
      "metadata": {
        "execution": {
          "iopub.status.busy": "2024-03-04T09:08:31.414190Z",
          "iopub.execute_input": "2024-03-04T09:08:31.415978Z",
          "iopub.status.idle": "2024-03-04T09:08:31.430828Z",
          "shell.execute_reply.started": "2024-03-04T09:08:31.415908Z",
          "shell.execute_reply": "2024-03-04T09:08:31.428548Z"
        },
        "trusted": true,
        "id": "wE4nuwwDVav1"
      },
      "execution_count": null,
      "outputs": []
    },
    {
      "cell_type": "code",
      "source": [
        "users.write.csv(\"/kaggle/working/users.csv\", header=True)\n",
        "products.write.csv(\"/kaggle/working/products.csv\", header=True)\n",
        "product_vectors.write.parquet('/kaggle/working/product_vectors.parquet', header=True)"
      ],
      "metadata": {
        "execution": {
          "iopub.status.busy": "2024-03-04T09:08:31.435664Z",
          "iopub.execute_input": "2024-03-04T09:08:31.436906Z",
          "iopub.status.idle": "2024-03-04T09:46:38.916451Z",
          "shell.execute_reply.started": "2024-03-04T09:08:31.436825Z",
          "shell.execute_reply": "2024-03-04T09:46:38.911695Z"
        },
        "trusted": true,
        "id": "xLHMAAV4Vav1"
      },
      "execution_count": null,
      "outputs": []
    },
    {
      "cell_type": "code",
      "source": [
        "save_ml_component(brp_model, '/kaggle/working/brp_model')"
      ],
      "metadata": {
        "execution": {
          "iopub.status.busy": "2024-03-04T09:46:38.918871Z",
          "iopub.status.idle": "2024-03-04T09:46:38.919374Z",
          "shell.execute_reply.started": "2024-03-04T09:46:38.919162Z",
          "shell.execute_reply": "2024-03-04T09:46:38.919180Z"
        },
        "trusted": true,
        "id": "xU1tp3rEVav2"
      },
      "execution_count": null,
      "outputs": []
    },
    {
      "cell_type": "markdown",
      "source": [
        "## Check for interpretability"
      ],
      "metadata": {
        "id": "2sRk8FwUYjxW"
      }
    },
    {
      "cell_type": "code",
      "source": [
        "user_df = df.filter(col(\"user_id\") == 564068124)\n",
        "unique_combinations = user_df.select(\"product_id\", \"user_session\").distinct()\n",
        "final_df = unique_combinations.join(user_df.select(\"product_id\", \"user_session\", \"category_code\"),\n",
        "                                    [\"product_id\", \"user_session\"],\n",
        "                                    \"inner\")\n",
        "\n",
        "final_df.show()"
      ],
      "metadata": {
        "execution": {
          "iopub.status.busy": "2024-03-04T15:09:23.173505Z",
          "iopub.execute_input": "2024-03-04T15:09:23.174034Z",
          "iopub.status.idle": "2024-03-04T15:15:22.558627Z",
          "shell.execute_reply.started": "2024-03-04T15:09:23.173998Z",
          "shell.execute_reply": "2024-03-04T15:15:22.557310Z"
        },
        "trusted": true,
        "id": "J6IFg_seVav2",
        "outputId": "2e1c84ee-4350-489f-ef83-372c730f2ff3"
      },
      "execution_count": null,
      "outputs": [
        {
          "name": "stderr",
          "text": "[Stage 29:======================================================> (67 + 2) / 69]\r",
          "output_type": "stream"
        },
        {
          "name": "stdout",
          "text": "+----------+--------------------+--------------------+\n|product_id|        user_session|       category_code|\n+----------+--------------------+--------------------+\n|   1004767|fd4462c7-a672-49a...|electronics.smart...|\n|   1004767|fd4462c7-a672-49a...|electronics.smart...|\n|   1004767|fd4462c7-a672-49a...|electronics.smart...|\n|   1004767|fd4462c7-a672-49a...|electronics.smart...|\n|   1004767|fd4462c7-a672-49a...|electronics.smart...|\n|   1004833|fd4462c7-a672-49a...|electronics.smart...|\n|   1004833|fd4462c7-a672-49a...|electronics.smart...|\n|   1004833|fd4462c7-a672-49a...|electronics.smart...|\n|   1004833|fd4462c7-a672-49a...|electronics.smart...|\n|   1004833|fd4462c7-a672-49a...|electronics.smart...|\n|   1004833|fd4462c7-a672-49a...|electronics.smart...|\n|   1004833|fd4462c7-a672-49a...|electronics.smart...|\n|   1004833|fd4462c7-a672-49a...|electronics.smart...|\n|   1004833|fd4462c7-a672-49a...|electronics.smart...|\n|   1004767|a3ee6286-6eeb-4af...|electronics.smart...|\n|   1004767|a3ee6286-6eeb-4af...|electronics.smart...|\n|   1004767|a3ee6286-6eeb-4af...|electronics.smart...|\n|   1004767|a3ee6286-6eeb-4af...|electronics.smart...|\n|   1004767|a3ee6286-6eeb-4af...|electronics.smart...|\n|   1004767|a3ee6286-6eeb-4af...|electronics.smart...|\n+----------+--------------------+--------------------+\nonly showing top 20 rows\n\n",
          "output_type": "stream"
        },
        {
          "name": "stderr",
          "text": "                                                                                \r",
          "output_type": "stream"
        }
      ]
    },
    {
      "cell_type": "code",
      "source": [
        "from pyspark.sql.functions import count\n",
        "count_df = final_df.groupBy('category_code').agg(count('*').alias('count'))\n",
        "count_df.show()"
      ],
      "metadata": {
        "execution": {
          "iopub.status.busy": "2024-03-04T15:42:40.163089Z",
          "iopub.execute_input": "2024-03-04T15:42:40.163661Z",
          "iopub.status.idle": "2024-03-04T15:49:16.476836Z",
          "shell.execute_reply.started": "2024-03-04T15:42:40.163624Z",
          "shell.execute_reply": "2024-03-04T15:49:16.475429Z"
        },
        "trusted": true,
        "id": "OwM1AyrSVav3",
        "outputId": "90b0183a-bf3a-4a1e-e158-a82230e4fb8e"
      },
      "execution_count": null,
      "outputs": [
        {
          "name": "stderr",
          "text": "[Stage 41:=======================================================>(68 + 1) / 69]\r",
          "output_type": "stream"
        },
        {
          "name": "stdout",
          "text": "+--------------------+-----+\n|       category_code|count|\n+--------------------+-----+\n|  computers.notebook|   24|\n|  electronics.clocks|   29|\n|  electronics.tablet|    6|\n|electronics.smart...| 1343|\n|electronics.audio...|    9|\n|                NULL|    4|\n+--------------------+-----+\n\n",
          "output_type": "stream"
        },
        {
          "name": "stderr",
          "text": "                                                                                \r",
          "output_type": "stream"
        }
      ]
    },
    {
      "cell_type": "code",
      "source": [
        "df.filter(col(\"product_id\") == 4804056).select(\"category_code\").show()"
      ],
      "metadata": {
        "execution": {
          "iopub.status.busy": "2024-03-04T16:24:19.589592Z",
          "iopub.execute_input": "2024-03-04T16:24:19.590080Z",
          "iopub.status.idle": "2024-03-04T16:25:40.595771Z",
          "shell.execute_reply.started": "2024-03-04T16:24:19.590047Z",
          "shell.execute_reply": "2024-03-04T16:25:40.594829Z"
        },
        "trusted": true,
        "id": "NEHjghZaVav3",
        "outputId": "c1840040-faf7-4d58-9448-eb6e20e32f2b"
      },
      "execution_count": null,
      "outputs": [
        {
          "name": "stderr",
          "text": "[Stage 68:=======================================================>(67 + 1) / 68]\r",
          "output_type": "stream"
        },
        {
          "name": "stdout",
          "text": "+--------------------+\n|       category_code|\n+--------------------+\n|electronics.audio...|\n|electronics.audio...|\n|electronics.audio...|\n|electronics.audio...|\n|electronics.audio...|\n|electronics.audio...|\n|electronics.audio...|\n|electronics.audio...|\n|electronics.audio...|\n|electronics.audio...|\n|electronics.audio...|\n|electronics.audio...|\n|electronics.audio...|\n|electronics.audio...|\n|electronics.audio...|\n|electronics.audio...|\n|electronics.audio...|\n|electronics.audio...|\n|electronics.audio...|\n|electronics.audio...|\n+--------------------+\nonly showing top 20 rows\n\n",
          "output_type": "stream"
        },
        {
          "name": "stderr",
          "text": "                                                                                \r",
          "output_type": "stream"
        }
      ]
    },
    {
      "cell_type": "markdown",
      "source": [
        "## For Cold Starting, we may use top 50 popular product or top 5 popular product from each category"
      ],
      "metadata": {
        "id": "8vOp-AXIYsM0"
      }
    },
    {
      "cell_type": "code",
      "source": [
        "from pyspark.sql.functions import countDistinct\n",
        "\n",
        "# Group by product ID and count distinct combinations of user ID and session ID\n",
        "popular_items = df.groupBy(\"product_id\").agg(countDistinct(\"user_id\", \"user_session\").alias(\"unique_combinations\"))\n",
        "\n",
        "# Sort the DataFrame in descending order based on the count\n",
        "popular_items = popular_items.orderBy(\"unique_combinations\", ascending=False)\n",
        "\n",
        "# Select the top 50 popular items\n",
        "top_50_popular_items = popular_items.limit(50)\n",
        "\n",
        "# Show the top 50 popular items\n",
        "top_50_popular_items.show()\n"
      ],
      "metadata": {
        "execution": {
          "iopub.status.busy": "2024-03-04T16:25:40.597834Z",
          "iopub.execute_input": "2024-03-04T16:25:40.598167Z",
          "iopub.status.idle": "2024-03-04T16:30:52.250569Z",
          "shell.execute_reply.started": "2024-03-04T16:25:40.598139Z",
          "shell.execute_reply": "2024-03-04T16:30:52.248475Z"
        },
        "trusted": true,
        "id": "efHXa7hfVav4",
        "outputId": "c7a1431e-3f7f-4cc8-a63f-a130b03a04b9"
      },
      "execution_count": null,
      "outputs": [
        {
          "name": "stderr",
          "text": "                                                                                \r",
          "output_type": "stream"
        },
        {
          "name": "stdout",
          "text": "+----------+-------------------+\n|product_id|unique_combinations|\n+----------+-------------------+\n|   1005115|             371610|\n|   1004856|             338509|\n|   1004767|             306151|\n|   1005105|             192193|\n|   4804056|             176264|\n|   1005160|             171553|\n|   1004249|             169430|\n|   1004833|             163192|\n|   1004870|             161358|\n|   1002544|             160596|\n|   1005100|             135904|\n|   1004873|             122127|\n|   1004836|             116292|\n|   1005239|             110759|\n|   4804718|             105936|\n|   1005116|             100517|\n|   5100816|              97655|\n|   1005174|              95799|\n|   1005135|              94470|\n|   1004838|              93997|\n+----------+-------------------+\nonly showing top 20 rows\n\n",
          "output_type": "stream"
        }
      ]
    },
    {
      "cell_type": "code",
      "source": [
        "from pyspark.sql import Window\n",
        "from pyspark.sql.functions import rank, col\n",
        "\n",
        "# Define a window specification partitioned by category ID and ordered by the count of unique combinations\n",
        "window_spec = Window.partitionBy(\"category_id\").orderBy(col(\"unique_combinations\").desc())\n",
        "\n",
        "# Calculate the count of unique combinations of user ID and session ID for each product within each category\n",
        "category_popular_items = df.groupBy(\"category_id\", \"product_id\") \\\n",
        "                           .agg(countDistinct(\"user_id\", \"user_session\").alias(\"unique_combinations\"))\n",
        "\n",
        "# Add a rank column based on the count of unique combinations within each category\n",
        "category_popular_items = category_popular_items.withColumn(\"rank\", rank().over(window_spec))\n",
        "\n",
        "# Filter to keep only the top 5 popular products in each category\n",
        "top_5_popular_in_each_category = category_popular_items.filter(col(\"rank\") <= 5)\n",
        "\n",
        "# Show the top 5 popular products in each category\n",
        "top_5_popular_in_each_category.show()"
      ],
      "metadata": {
        "execution": {
          "iopub.status.busy": "2024-03-04T16:30:52.256511Z",
          "iopub.execute_input": "2024-03-04T16:30:52.257704Z",
          "iopub.status.idle": "2024-03-04T16:35:36.297706Z",
          "shell.execute_reply.started": "2024-03-04T16:30:52.257652Z",
          "shell.execute_reply": "2024-03-04T16:35:36.296324Z"
        },
        "trusted": true,
        "id": "whtGYHCIVav4",
        "outputId": "f2719792-89de-4bc6-875f-71718856a9a3"
      },
      "execution_count": null,
      "outputs": [
        {
          "name": "stderr",
          "text": "[Stage 90:==============================================>           (4 + 1) / 5]\r",
          "output_type": "stream"
        },
        {
          "name": "stdout",
          "text": "+-------------------+----------+-------------------+----+\n|        category_id|product_id|unique_combinations|rank|\n+-------------------+----------+-------------------+----+\n|2053013552226107603|   8600207|                256|   1|\n|2053013552226107603|   8600036|                232|   2|\n|2053013552226107603|   8600156|                207|   3|\n|2053013552226107603|   8600175|                196|   4|\n|2053013552226107603|   8600204|                115|   5|\n|2053013552259662037|   8500140|               3287|   1|\n|2053013552259662037|   8500461|               2736|   2|\n|2053013552259662037|   8500247|               2295|   3|\n|2053013552259662037|   8500131|               2294|   4|\n|2053013552259662037|   8500187|               1998|   5|\n|2053013552293216471|   6201019|               5015|   1|\n|2053013552293216471|   6200806|               4857|   2|\n|2053013552293216471|   6200514|               4653|   3|\n|2053013552293216471|   6200724|               3477|   4|\n|2053013552293216471|   6200547|               3421|   5|\n|2053013552326770905|   3900003|              10419|   1|\n|2053013552326770905|   3900002|               7766|   2|\n|2053013552326770905|   3900339|               5286|   3|\n|2053013552326770905|   3900815|               3838|   4|\n|2053013552326770905|   3900685|               2762|   5|\n+-------------------+----------+-------------------+----+\nonly showing top 20 rows\n\n",
          "output_type": "stream"
        },
        {
          "name": "stderr",
          "text": "                                                                                \r",
          "output_type": "stream"
        }
      ]
    }
  ]
}